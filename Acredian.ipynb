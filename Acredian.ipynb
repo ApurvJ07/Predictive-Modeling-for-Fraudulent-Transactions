{
 "cells": [
  {
   "cell_type": "markdown",
   "metadata": {
    "id": "a6d07c7f"
   },
   "source": [
    "# Task\n",
    "Create a model to predict fraudulent transactions using the \"Fraud.csv\" dataset and develop an actionable plan based on the model's insights. The project should be structured as a basic intermediate-level project suitable for a fresher."
   ]
  },
  {
   "cell_type": "markdown",
   "metadata": {
    "id": "a3cff05c"
   },
   "source": [
    "## Understand the data\n",
    "\n",
    "### Subtask:\n",
    "Load the `Fraud.csv` file and explore its structure, columns, and basic statistics. Understand the features and the target variable (fraud).\n"
   ]
  },
  {
   "cell_type": "markdown",
   "metadata": {
    "id": "b21b4da5"
   },
   "source": [
    "**Reasoning**:\n",
    "Load the `Fraud.csv` file, display the head, print info, describe numerical columns, and check unique values to understand the dataset's structure and content as requested in the instructions.\n",
    "\n"
   ]
  },
  {
   "cell_type": "code",
   "execution_count": 15,
   "metadata": {
    "colab": {
     "base_uri": "https://localhost:8080/",
     "height": 1000
    },
    "id": "5b8709cd",
    "outputId": "6bd0a120-81b0-46f3-a8ed-603838503f8f"
   },
   "outputs": [
    {
     "data": {
      "application/vnd.google.colaboratory.intrinsic+json": {
       "summary": "{\n  \"name\": \"display(df\",\n  \"rows\": 5,\n  \"fields\": [\n    {\n      \"column\": \"step\",\n      \"properties\": {\n        \"dtype\": \"number\",\n        \"std\": 0,\n        \"min\": 1,\n        \"max\": 1,\n        \"num_unique_values\": 1,\n        \"samples\": [\n          1\n        ],\n        \"semantic_type\": \"\",\n        \"description\": \"\"\n      }\n    },\n    {\n      \"column\": \"type\",\n      \"properties\": {\n        \"dtype\": \"string\",\n        \"num_unique_values\": 3,\n        \"samples\": [\n          \"PAYMENT\"\n        ],\n        \"semantic_type\": \"\",\n        \"description\": \"\"\n      }\n    },\n    {\n      \"column\": \"amount\",\n      \"properties\": {\n        \"dtype\": \"number\",\n        \"std\": 5564.259777609237,\n        \"min\": 181.0,\n        \"max\": 11668.14,\n        \"num_unique_values\": 4,\n        \"samples\": [\n          1864.28\n        ],\n        \"semantic_type\": \"\",\n        \"description\": \"\"\n      }\n    },\n    {\n      \"column\": \"nameOrig\",\n      \"properties\": {\n        \"dtype\": \"string\",\n        \"num_unique_values\": 5,\n        \"samples\": [\n          \"C1666544295\"\n        ],\n        \"semantic_type\": \"\",\n        \"description\": \"\"\n      }\n    },\n    {\n      \"column\": \"oldbalanceOrg\",\n      \"properties\": {\n        \"dtype\": \"number\",\n        \"std\": 71131.40588867902,\n        \"min\": 181.0,\n        \"max\": 170136.0,\n        \"num_unique_values\": 4,\n        \"samples\": [\n          21249.0\n        ],\n        \"semantic_type\": \"\",\n        \"description\": \"\"\n      }\n    },\n    {\n      \"column\": \"newbalanceOrig\",\n      \"properties\": {\n        \"dtype\": \"number\",\n        \"std\": 67416.97590087172,\n        \"min\": 0.0,\n        \"max\": 160296.36,\n        \"num_unique_values\": 4,\n        \"samples\": [\n          19384.72\n        ],\n        \"semantic_type\": \"\",\n        \"description\": \"\"\n      }\n    },\n    {\n      \"column\": \"nameDest\",\n      \"properties\": {\n        \"dtype\": \"string\",\n        \"num_unique_values\": 5,\n        \"samples\": [\n          \"M2044282225\"\n        ],\n        \"semantic_type\": \"\",\n        \"description\": \"\"\n      }\n    },\n    {\n      \"column\": \"oldbalanceDest\",\n      \"properties\": {\n        \"dtype\": \"number\",\n        \"std\": 9472.878379880109,\n        \"min\": 0.0,\n        \"max\": 21182.0,\n        \"num_unique_values\": 2,\n        \"samples\": [\n          21182.0\n        ],\n        \"semantic_type\": \"\",\n        \"description\": \"\"\n      }\n    },\n    {\n      \"column\": \"newbalanceDest\",\n      \"properties\": {\n        \"dtype\": \"number\",\n        \"std\": 0.0,\n        \"min\": 0.0,\n        \"max\": 0.0,\n        \"num_unique_values\": 1,\n        \"samples\": [\n          0.0\n        ],\n        \"semantic_type\": \"\",\n        \"description\": \"\"\n      }\n    },\n    {\n      \"column\": \"isFraud\",\n      \"properties\": {\n        \"dtype\": \"number\",\n        \"std\": 0.5477225575051662,\n        \"min\": 0.0,\n        \"max\": 1.0,\n        \"num_unique_values\": 2,\n        \"samples\": [\n          1.0\n        ],\n        \"semantic_type\": \"\",\n        \"description\": \"\"\n      }\n    },\n    {\n      \"column\": \"isFlaggedFraud\",\n      \"properties\": {\n        \"dtype\": \"number\",\n        \"std\": 0.0,\n        \"min\": 0.0,\n        \"max\": 0.0,\n        \"num_unique_values\": 1,\n        \"samples\": [\n          0.0\n        ],\n        \"semantic_type\": \"\",\n        \"description\": \"\"\n      }\n    }\n  ]\n}",
       "type": "dataframe"
      },
      "text/html": [
       "\n",
       "  <div id=\"df-2269c735-6d6f-4610-8ac3-223938ab96ca\" class=\"colab-df-container\">\n",
       "    <div>\n",
       "<style scoped>\n",
       "    .dataframe tbody tr th:only-of-type {\n",
       "        vertical-align: middle;\n",
       "    }\n",
       "\n",
       "    .dataframe tbody tr th {\n",
       "        vertical-align: top;\n",
       "    }\n",
       "\n",
       "    .dataframe thead th {\n",
       "        text-align: right;\n",
       "    }\n",
       "</style>\n",
       "<table border=\"1\" class=\"dataframe\">\n",
       "  <thead>\n",
       "    <tr style=\"text-align: right;\">\n",
       "      <th></th>\n",
       "      <th>step</th>\n",
       "      <th>type</th>\n",
       "      <th>amount</th>\n",
       "      <th>nameOrig</th>\n",
       "      <th>oldbalanceOrg</th>\n",
       "      <th>newbalanceOrig</th>\n",
       "      <th>nameDest</th>\n",
       "      <th>oldbalanceDest</th>\n",
       "      <th>newbalanceDest</th>\n",
       "      <th>isFraud</th>\n",
       "      <th>isFlaggedFraud</th>\n",
       "    </tr>\n",
       "  </thead>\n",
       "  <tbody>\n",
       "    <tr>\n",
       "      <th>0</th>\n",
       "      <td>1</td>\n",
       "      <td>PAYMENT</td>\n",
       "      <td>9839.64</td>\n",
       "      <td>C1231006815</td>\n",
       "      <td>170136.0</td>\n",
       "      <td>160296.36</td>\n",
       "      <td>M1979787155</td>\n",
       "      <td>0.0</td>\n",
       "      <td>0.0</td>\n",
       "      <td>0.0</td>\n",
       "      <td>0.0</td>\n",
       "    </tr>\n",
       "    <tr>\n",
       "      <th>1</th>\n",
       "      <td>1</td>\n",
       "      <td>PAYMENT</td>\n",
       "      <td>1864.28</td>\n",
       "      <td>C1666544295</td>\n",
       "      <td>21249.0</td>\n",
       "      <td>19384.72</td>\n",
       "      <td>M2044282225</td>\n",
       "      <td>0.0</td>\n",
       "      <td>0.0</td>\n",
       "      <td>0.0</td>\n",
       "      <td>0.0</td>\n",
       "    </tr>\n",
       "    <tr>\n",
       "      <th>2</th>\n",
       "      <td>1</td>\n",
       "      <td>TRANSFER</td>\n",
       "      <td>181.00</td>\n",
       "      <td>C1305486145</td>\n",
       "      <td>181.0</td>\n",
       "      <td>0.00</td>\n",
       "      <td>C553264065</td>\n",
       "      <td>0.0</td>\n",
       "      <td>0.0</td>\n",
       "      <td>1.0</td>\n",
       "      <td>0.0</td>\n",
       "    </tr>\n",
       "    <tr>\n",
       "      <th>3</th>\n",
       "      <td>1</td>\n",
       "      <td>CASH_OUT</td>\n",
       "      <td>181.00</td>\n",
       "      <td>C840083671</td>\n",
       "      <td>181.0</td>\n",
       "      <td>0.00</td>\n",
       "      <td>C38997010</td>\n",
       "      <td>21182.0</td>\n",
       "      <td>0.0</td>\n",
       "      <td>1.0</td>\n",
       "      <td>0.0</td>\n",
       "    </tr>\n",
       "    <tr>\n",
       "      <th>4</th>\n",
       "      <td>1</td>\n",
       "      <td>PAYMENT</td>\n",
       "      <td>11668.14</td>\n",
       "      <td>C2048537720</td>\n",
       "      <td>41554.0</td>\n",
       "      <td>29885.86</td>\n",
       "      <td>M1230701703</td>\n",
       "      <td>0.0</td>\n",
       "      <td>0.0</td>\n",
       "      <td>0.0</td>\n",
       "      <td>0.0</td>\n",
       "    </tr>\n",
       "  </tbody>\n",
       "</table>\n",
       "</div>\n",
       "    <div class=\"colab-df-buttons\">\n",
       "\n",
       "  <div class=\"colab-df-container\">\n",
       "    <button class=\"colab-df-convert\" onclick=\"convertToInteractive('df-2269c735-6d6f-4610-8ac3-223938ab96ca')\"\n",
       "            title=\"Convert this dataframe to an interactive table.\"\n",
       "            style=\"display:none;\">\n",
       "\n",
       "  <svg xmlns=\"http://www.w3.org/2000/svg\" height=\"24px\" viewBox=\"0 -960 960 960\">\n",
       "    <path d=\"M120-120v-720h720v720H120Zm60-500h600v-160H180v160Zm220 220h160v-160H400v160Zm0 220h160v-160H400v160ZM180-400h160v-160H180v160Zm440 0h160v-160H620v160ZM180-180h160v-160H180v160Zm440 0h160v-160H620v160Z\"/>\n",
       "  </svg>\n",
       "    </button>\n",
       "\n",
       "  <style>\n",
       "    .colab-df-container {\n",
       "      display:flex;\n",
       "      gap: 12px;\n",
       "    }\n",
       "\n",
       "    .colab-df-convert {\n",
       "      background-color: #E8F0FE;\n",
       "      border: none;\n",
       "      border-radius: 50%;\n",
       "      cursor: pointer;\n",
       "      display: none;\n",
       "      fill: #1967D2;\n",
       "      height: 32px;\n",
       "      padding: 0 0 0 0;\n",
       "      width: 32px;\n",
       "    }\n",
       "\n",
       "    .colab-df-convert:hover {\n",
       "      background-color: #E2EBFA;\n",
       "      box-shadow: 0px 1px 2px rgba(60, 64, 67, 0.3), 0px 1px 3px 1px rgba(60, 64, 67, 0.15);\n",
       "      fill: #174EA6;\n",
       "    }\n",
       "\n",
       "    .colab-df-buttons div {\n",
       "      margin-bottom: 4px;\n",
       "    }\n",
       "\n",
       "    [theme=dark] .colab-df-convert {\n",
       "      background-color: #3B4455;\n",
       "      fill: #D2E3FC;\n",
       "    }\n",
       "\n",
       "    [theme=dark] .colab-df-convert:hover {\n",
       "      background-color: #434B5C;\n",
       "      box-shadow: 0px 1px 3px 1px rgba(0, 0, 0, 0.15);\n",
       "      filter: drop-shadow(0px 1px 2px rgba(0, 0, 0, 0.3));\n",
       "      fill: #FFFFFF;\n",
       "    }\n",
       "  </style>\n",
       "\n",
       "    <script>\n",
       "      const buttonEl =\n",
       "        document.querySelector('#df-2269c735-6d6f-4610-8ac3-223938ab96ca button.colab-df-convert');\n",
       "      buttonEl.style.display =\n",
       "        google.colab.kernel.accessAllowed ? 'block' : 'none';\n",
       "\n",
       "      async function convertToInteractive(key) {\n",
       "        const element = document.querySelector('#df-2269c735-6d6f-4610-8ac3-223938ab96ca');\n",
       "        const dataTable =\n",
       "          await google.colab.kernel.invokeFunction('convertToInteractive',\n",
       "                                                    [key], {});\n",
       "        if (!dataTable) return;\n",
       "\n",
       "        const docLinkHtml = 'Like what you see? Visit the ' +\n",
       "          '<a target=\"_blank\" href=https://colab.research.google.com/notebooks/data_table.ipynb>data table notebook</a>'\n",
       "          + ' to learn more about interactive tables.';\n",
       "        element.innerHTML = '';\n",
       "        dataTable['output_type'] = 'display_data';\n",
       "        await google.colab.output.renderOutput(dataTable, element);\n",
       "        const docLink = document.createElement('div');\n",
       "        docLink.innerHTML = docLinkHtml;\n",
       "        element.appendChild(docLink);\n",
       "      }\n",
       "    </script>\n",
       "  </div>\n",
       "\n",
       "\n",
       "    <div id=\"df-0bd82f70-2a64-4dd6-877a-b40d1d342ce9\">\n",
       "      <button class=\"colab-df-quickchart\" onclick=\"quickchart('df-0bd82f70-2a64-4dd6-877a-b40d1d342ce9')\"\n",
       "                title=\"Suggest charts\"\n",
       "                style=\"display:none;\">\n",
       "\n",
       "<svg xmlns=\"http://www.w3.org/2000/svg\" height=\"24px\"viewBox=\"0 0 24 24\"\n",
       "     width=\"24px\">\n",
       "    <g>\n",
       "        <path d=\"M19 3H5c-1.1 0-2 .9-2 2v14c0 1.1.9 2 2 2h14c1.1 0 2-.9 2-2V5c0-1.1-.9-2-2-2zM9 17H7v-7h2v7zm4 0h-2V7h2v10zm4 0h-2v-4h2v4z\"/>\n",
       "    </g>\n",
       "</svg>\n",
       "      </button>\n",
       "\n",
       "<style>\n",
       "  .colab-df-quickchart {\n",
       "      --bg-color: #E8F0FE;\n",
       "      --fill-color: #1967D2;\n",
       "      --hover-bg-color: #E2EBFA;\n",
       "      --hover-fill-color: #174EA6;\n",
       "      --disabled-fill-color: #AAA;\n",
       "      --disabled-bg-color: #DDD;\n",
       "  }\n",
       "\n",
       "  [theme=dark] .colab-df-quickchart {\n",
       "      --bg-color: #3B4455;\n",
       "      --fill-color: #D2E3FC;\n",
       "      --hover-bg-color: #434B5C;\n",
       "      --hover-fill-color: #FFFFFF;\n",
       "      --disabled-bg-color: #3B4455;\n",
       "      --disabled-fill-color: #666;\n",
       "  }\n",
       "\n",
       "  .colab-df-quickchart {\n",
       "    background-color: var(--bg-color);\n",
       "    border: none;\n",
       "    border-radius: 50%;\n",
       "    cursor: pointer;\n",
       "    display: none;\n",
       "    fill: var(--fill-color);\n",
       "    height: 32px;\n",
       "    padding: 0;\n",
       "    width: 32px;\n",
       "  }\n",
       "\n",
       "  .colab-df-quickchart:hover {\n",
       "    background-color: var(--hover-bg-color);\n",
       "    box-shadow: 0 1px 2px rgba(60, 64, 67, 0.3), 0 1px 3px 1px rgba(60, 64, 67, 0.15);\n",
       "    fill: var(--button-hover-fill-color);\n",
       "  }\n",
       "\n",
       "  .colab-df-quickchart-complete:disabled,\n",
       "  .colab-df-quickchart-complete:disabled:hover {\n",
       "    background-color: var(--disabled-bg-color);\n",
       "    fill: var(--disabled-fill-color);\n",
       "    box-shadow: none;\n",
       "  }\n",
       "\n",
       "  .colab-df-spinner {\n",
       "    border: 2px solid var(--fill-color);\n",
       "    border-color: transparent;\n",
       "    border-bottom-color: var(--fill-color);\n",
       "    animation:\n",
       "      spin 1s steps(1) infinite;\n",
       "  }\n",
       "\n",
       "  @keyframes spin {\n",
       "    0% {\n",
       "      border-color: transparent;\n",
       "      border-bottom-color: var(--fill-color);\n",
       "      border-left-color: var(--fill-color);\n",
       "    }\n",
       "    20% {\n",
       "      border-color: transparent;\n",
       "      border-left-color: var(--fill-color);\n",
       "      border-top-color: var(--fill-color);\n",
       "    }\n",
       "    30% {\n",
       "      border-color: transparent;\n",
       "      border-left-color: var(--fill-color);\n",
       "      border-top-color: var(--fill-color);\n",
       "      border-right-color: var(--fill-color);\n",
       "    }\n",
       "    40% {\n",
       "      border-color: transparent;\n",
       "      border-right-color: var(--fill-color);\n",
       "      border-top-color: var(--fill-color);\n",
       "    }\n",
       "    60% {\n",
       "      border-color: transparent;\n",
       "      border-right-color: var(--fill-color);\n",
       "    }\n",
       "    80% {\n",
       "      border-color: transparent;\n",
       "      border-right-color: var(--fill-color);\n",
       "      border-bottom-color: var(--fill-color);\n",
       "    }\n",
       "    90% {\n",
       "      border-color: transparent;\n",
       "      border-bottom-color: var(--fill-color);\n",
       "    }\n",
       "  }\n",
       "</style>\n",
       "\n",
       "      <script>\n",
       "        async function quickchart(key) {\n",
       "          const quickchartButtonEl =\n",
       "            document.querySelector('#' + key + ' button');\n",
       "          quickchartButtonEl.disabled = true;  // To prevent multiple clicks.\n",
       "          quickchartButtonEl.classList.add('colab-df-spinner');\n",
       "          try {\n",
       "            const charts = await google.colab.kernel.invokeFunction(\n",
       "                'suggestCharts', [key], {});\n",
       "          } catch (error) {\n",
       "            console.error('Error during call to suggestCharts:', error);\n",
       "          }\n",
       "          quickchartButtonEl.classList.remove('colab-df-spinner');\n",
       "          quickchartButtonEl.classList.add('colab-df-quickchart-complete');\n",
       "        }\n",
       "        (() => {\n",
       "          let quickchartButtonEl =\n",
       "            document.querySelector('#df-0bd82f70-2a64-4dd6-877a-b40d1d342ce9 button');\n",
       "          quickchartButtonEl.style.display =\n",
       "            google.colab.kernel.accessAllowed ? 'block' : 'none';\n",
       "        })();\n",
       "      </script>\n",
       "    </div>\n",
       "\n",
       "    </div>\n",
       "  </div>\n"
      ],
      "text/plain": [
       "   step      type    amount     nameOrig  oldbalanceOrg  newbalanceOrig  \\\n",
       "0     1   PAYMENT   9839.64  C1231006815       170136.0       160296.36   \n",
       "1     1   PAYMENT   1864.28  C1666544295        21249.0        19384.72   \n",
       "2     1  TRANSFER    181.00  C1305486145          181.0            0.00   \n",
       "3     1  CASH_OUT    181.00   C840083671          181.0            0.00   \n",
       "4     1   PAYMENT  11668.14  C2048537720        41554.0        29885.86   \n",
       "\n",
       "      nameDest  oldbalanceDest  newbalanceDest  isFraud  isFlaggedFraud  \n",
       "0  M1979787155             0.0             0.0      0.0             0.0  \n",
       "1  M2044282225             0.0             0.0      0.0             0.0  \n",
       "2   C553264065             0.0             0.0      1.0             0.0  \n",
       "3    C38997010         21182.0             0.0      1.0             0.0  \n",
       "4  M1230701703             0.0             0.0      0.0             0.0  "
      ]
     },
     "metadata": {},
     "output_type": "display_data"
    },
    {
     "name": "stdout",
     "output_type": "stream",
     "text": [
      "<class 'pandas.core.frame.DataFrame'>\n",
      "RangeIndex: 14247 entries, 0 to 14246\n",
      "Data columns (total 11 columns):\n",
      " #   Column          Non-Null Count  Dtype  \n",
      "---  ------          --------------  -----  \n",
      " 0   step            14247 non-null  int64  \n",
      " 1   type            14247 non-null  object \n",
      " 2   amount          14247 non-null  float64\n",
      " 3   nameOrig        14247 non-null  object \n",
      " 4   oldbalanceOrg   14246 non-null  float64\n",
      " 5   newbalanceOrig  14246 non-null  float64\n",
      " 6   nameDest        14246 non-null  object \n",
      " 7   oldbalanceDest  14246 non-null  float64\n",
      " 8   newbalanceDest  14246 non-null  float64\n",
      " 9   isFraud         14246 non-null  float64\n",
      " 10  isFlaggedFraud  14246 non-null  float64\n",
      "dtypes: float64(7), int64(1), object(3)\n",
      "memory usage: 1.2+ MB\n"
     ]
    },
    {
     "data": {
      "text/plain": [
       "None"
      ]
     },
     "metadata": {},
     "output_type": "display_data"
    },
    {
     "data": {
      "application/vnd.google.colaboratory.intrinsic+json": {
       "summary": "{\n  \"name\": \"display(df\",\n  \"rows\": 8,\n  \"fields\": [\n    {\n      \"column\": \"step\",\n      \"properties\": {\n        \"dtype\": \"number\",\n        \"std\": 5035.484772974579,\n        \"min\": 1.0,\n        \"max\": 14247.0,\n        \"num_unique_values\": 8,\n        \"samples\": [\n          5.037130623991016,\n          6.0,\n          14247.0\n        ],\n        \"semantic_type\": \"\",\n        \"description\": \"\"\n      }\n    },\n    {\n      \"column\": \"amount\",\n      \"properties\": {\n        \"dtype\": \"number\",\n        \"std\": 3509257.1725717774,\n        \"min\": 2.39,\n        \"max\": 10000000.0,\n        \"num_unique_values\": 8,\n        \"samples\": [\n          111884.83803256827,\n          12869.36,\n          14247.0\n        ],\n        \"semantic_type\": \"\",\n        \"description\": \"\"\n      }\n    },\n    {\n      \"column\": \"oldbalanceOrg\",\n      \"properties\": {\n        \"dtype\": \"number\",\n        \"std\": 4476217.253320193,\n        \"min\": 0.0,\n        \"max\": 12930418.44,\n        \"num_unique_values\": 7,\n        \"samples\": [\n          14246.0,\n          793736.9366229116,\n          138495.645\n        ],\n        \"semantic_type\": \"\",\n        \"description\": \"\"\n      }\n    },\n    {\n      \"column\": \"newbalanceOrig\",\n      \"properties\": {\n        \"dtype\": \"number\",\n        \"std\": 4504894.732019849,\n        \"min\": 0.0,\n        \"max\": 13010502.78,\n        \"num_unique_values\": 7,\n        \"samples\": [\n          14246.0,\n          810713.5566987224,\n          129417.2875\n        ],\n        \"semantic_type\": \"\",\n        \"description\": \"\"\n      }\n    },\n    {\n      \"column\": \"oldbalanceDest\",\n      \"properties\": {\n        \"dtype\": \"number\",\n        \"std\": 7270264.210733729,\n        \"min\": 0.0,\n        \"max\": 20937587.49,\n        \"num_unique_values\": 6,\n        \"samples\": [\n          14246.0,\n          841133.5503502738,\n          20937587.49\n        ],\n        \"semantic_type\": \"\",\n        \"description\": \"\"\n      }\n    },\n    {\n      \"column\": \"newbalanceDest\",\n      \"properties\": {\n        \"dtype\": \"number\",\n        \"std\": 8791547.832855279,\n        \"min\": 0.0,\n        \"max\": 25330272.63,\n        \"num_unique_values\": 6,\n        \"samples\": [\n          14246.0,\n          1147629.3105594553,\n          25330272.63\n        ],\n        \"semantic_type\": \"\",\n        \"description\": \"\"\n      }\n    },\n    {\n      \"column\": \"isFraud\",\n      \"properties\": {\n        \"dtype\": \"number\",\n        \"std\": 5036.667102939503,\n        \"min\": 0.0,\n        \"max\": 14246.0,\n        \"num_unique_values\": 5,\n        \"samples\": [\n          0.005475221114698863,\n          1.0,\n          0.07379448031452593\n        ],\n        \"semantic_type\": \"\",\n        \"description\": \"\"\n      }\n    },\n    {\n      \"column\": \"isFlaggedFraud\",\n      \"properties\": {\n        \"dtype\": \"number\",\n        \"std\": 5036.721602391778,\n        \"min\": 0.0,\n        \"max\": 14246.0,\n        \"num_unique_values\": 2,\n        \"samples\": [\n          0.0,\n          14246.0\n        ],\n        \"semantic_type\": \"\",\n        \"description\": \"\"\n      }\n    }\n  ]\n}",
       "type": "dataframe"
      },
      "text/html": [
       "\n",
       "  <div id=\"df-218b077d-471c-4222-b8e8-17c42fd4e9e0\" class=\"colab-df-container\">\n",
       "    <div>\n",
       "<style scoped>\n",
       "    .dataframe tbody tr th:only-of-type {\n",
       "        vertical-align: middle;\n",
       "    }\n",
       "\n",
       "    .dataframe tbody tr th {\n",
       "        vertical-align: top;\n",
       "    }\n",
       "\n",
       "    .dataframe thead th {\n",
       "        text-align: right;\n",
       "    }\n",
       "</style>\n",
       "<table border=\"1\" class=\"dataframe\">\n",
       "  <thead>\n",
       "    <tr style=\"text-align: right;\">\n",
       "      <th></th>\n",
       "      <th>step</th>\n",
       "      <th>amount</th>\n",
       "      <th>oldbalanceOrg</th>\n",
       "      <th>newbalanceOrig</th>\n",
       "      <th>oldbalanceDest</th>\n",
       "      <th>newbalanceDest</th>\n",
       "      <th>isFraud</th>\n",
       "      <th>isFlaggedFraud</th>\n",
       "    </tr>\n",
       "  </thead>\n",
       "  <tbody>\n",
       "    <tr>\n",
       "      <th>count</th>\n",
       "      <td>14247.000000</td>\n",
       "      <td>1.424700e+04</td>\n",
       "      <td>1.424600e+04</td>\n",
       "      <td>1.424600e+04</td>\n",
       "      <td>1.424600e+04</td>\n",
       "      <td>1.424600e+04</td>\n",
       "      <td>14246.000000</td>\n",
       "      <td>14246.0</td>\n",
       "    </tr>\n",
       "    <tr>\n",
       "      <th>mean</th>\n",
       "      <td>5.037131</td>\n",
       "      <td>1.118848e+05</td>\n",
       "      <td>7.937369e+05</td>\n",
       "      <td>8.107136e+05</td>\n",
       "      <td>8.411336e+05</td>\n",
       "      <td>1.147629e+06</td>\n",
       "      <td>0.005475</td>\n",
       "      <td>0.0</td>\n",
       "    </tr>\n",
       "    <tr>\n",
       "      <th>std</th>\n",
       "      <td>2.463112</td>\n",
       "      <td>2.805152e+05</td>\n",
       "      <td>2.016693e+06</td>\n",
       "      <td>2.059984e+06</td>\n",
       "      <td>2.528174e+06</td>\n",
       "      <td>3.151706e+06</td>\n",
       "      <td>0.073794</td>\n",
       "      <td>0.0</td>\n",
       "    </tr>\n",
       "    <tr>\n",
       "      <th>min</th>\n",
       "      <td>1.000000</td>\n",
       "      <td>2.390000e+00</td>\n",
       "      <td>0.000000e+00</td>\n",
       "      <td>0.000000e+00</td>\n",
       "      <td>0.000000e+00</td>\n",
       "      <td>0.000000e+00</td>\n",
       "      <td>0.000000</td>\n",
       "      <td>0.0</td>\n",
       "    </tr>\n",
       "    <tr>\n",
       "      <th>25%</th>\n",
       "      <td>2.000000</td>\n",
       "      <td>4.585130e+03</td>\n",
       "      <td>0.000000e+00</td>\n",
       "      <td>0.000000e+00</td>\n",
       "      <td>0.000000e+00</td>\n",
       "      <td>0.000000e+00</td>\n",
       "      <td>0.000000</td>\n",
       "      <td>0.0</td>\n",
       "    </tr>\n",
       "    <tr>\n",
       "      <th>50%</th>\n",
       "      <td>6.000000</td>\n",
       "      <td>1.286936e+04</td>\n",
       "      <td>2.041500e+04</td>\n",
       "      <td>8.216325e+03</td>\n",
       "      <td>0.000000e+00</td>\n",
       "      <td>0.000000e+00</td>\n",
       "      <td>0.000000</td>\n",
       "      <td>0.0</td>\n",
       "    </tr>\n",
       "    <tr>\n",
       "      <th>75%</th>\n",
       "      <td>7.000000</td>\n",
       "      <td>1.218917e+05</td>\n",
       "      <td>1.384956e+05</td>\n",
       "      <td>1.294173e+05</td>\n",
       "      <td>2.641427e+05</td>\n",
       "      <td>2.775150e+05</td>\n",
       "      <td>0.000000</td>\n",
       "      <td>0.0</td>\n",
       "    </tr>\n",
       "    <tr>\n",
       "      <th>max</th>\n",
       "      <td>8.000000</td>\n",
       "      <td>1.000000e+07</td>\n",
       "      <td>1.293042e+07</td>\n",
       "      <td>1.301050e+07</td>\n",
       "      <td>2.093759e+07</td>\n",
       "      <td>2.533027e+07</td>\n",
       "      <td>1.000000</td>\n",
       "      <td>0.0</td>\n",
       "    </tr>\n",
       "  </tbody>\n",
       "</table>\n",
       "</div>\n",
       "    <div class=\"colab-df-buttons\">\n",
       "\n",
       "  <div class=\"colab-df-container\">\n",
       "    <button class=\"colab-df-convert\" onclick=\"convertToInteractive('df-218b077d-471c-4222-b8e8-17c42fd4e9e0')\"\n",
       "            title=\"Convert this dataframe to an interactive table.\"\n",
       "            style=\"display:none;\">\n",
       "\n",
       "  <svg xmlns=\"http://www.w3.org/2000/svg\" height=\"24px\" viewBox=\"0 -960 960 960\">\n",
       "    <path d=\"M120-120v-720h720v720H120Zm60-500h600v-160H180v160Zm220 220h160v-160H400v160Zm0 220h160v-160H400v160ZM180-400h160v-160H180v160Zm440 0h160v-160H620v160ZM180-180h160v-160H180v160Zm440 0h160v-160H620v160Z\"/>\n",
       "  </svg>\n",
       "    </button>\n",
       "\n",
       "  <style>\n",
       "    .colab-df-container {\n",
       "      display:flex;\n",
       "      gap: 12px;\n",
       "    }\n",
       "\n",
       "    .colab-df-convert {\n",
       "      background-color: #E8F0FE;\n",
       "      border: none;\n",
       "      border-radius: 50%;\n",
       "      cursor: pointer;\n",
       "      display: none;\n",
       "      fill: #1967D2;\n",
       "      height: 32px;\n",
       "      padding: 0 0 0 0;\n",
       "      width: 32px;\n",
       "    }\n",
       "\n",
       "    .colab-df-convert:hover {\n",
       "      background-color: #E2EBFA;\n",
       "      box-shadow: 0px 1px 2px rgba(60, 64, 67, 0.3), 0px 1px 3px 1px rgba(60, 64, 67, 0.15);\n",
       "      fill: #174EA6;\n",
       "    }\n",
       "\n",
       "    .colab-df-buttons div {\n",
       "      margin-bottom: 4px;\n",
       "    }\n",
       "\n",
       "    [theme=dark] .colab-df-convert {\n",
       "      background-color: #3B4455;\n",
       "      fill: #D2E3FC;\n",
       "    }\n",
       "\n",
       "    [theme=dark] .colab-df-convert:hover {\n",
       "      background-color: #434B5C;\n",
       "      box-shadow: 0px 1px 3px 1px rgba(0, 0, 0, 0.15);\n",
       "      filter: drop-shadow(0px 1px 2px rgba(0, 0, 0, 0.3));\n",
       "      fill: #FFFFFF;\n",
       "    }\n",
       "  </style>\n",
       "\n",
       "    <script>\n",
       "      const buttonEl =\n",
       "        document.querySelector('#df-218b077d-471c-4222-b8e8-17c42fd4e9e0 button.colab-df-convert');\n",
       "      buttonEl.style.display =\n",
       "        google.colab.kernel.accessAllowed ? 'block' : 'none';\n",
       "\n",
       "      async function convertToInteractive(key) {\n",
       "        const element = document.querySelector('#df-218b077d-471c-4222-b8e8-17c42fd4e9e0');\n",
       "        const dataTable =\n",
       "          await google.colab.kernel.invokeFunction('convertToInteractive',\n",
       "                                                    [key], {});\n",
       "        if (!dataTable) return;\n",
       "\n",
       "        const docLinkHtml = 'Like what you see? Visit the ' +\n",
       "          '<a target=\"_blank\" href=https://colab.research.google.com/notebooks/data_table.ipynb>data table notebook</a>'\n",
       "          + ' to learn more about interactive tables.';\n",
       "        element.innerHTML = '';\n",
       "        dataTable['output_type'] = 'display_data';\n",
       "        await google.colab.output.renderOutput(dataTable, element);\n",
       "        const docLink = document.createElement('div');\n",
       "        docLink.innerHTML = docLinkHtml;\n",
       "        element.appendChild(docLink);\n",
       "      }\n",
       "    </script>\n",
       "  </div>\n",
       "\n",
       "\n",
       "    <div id=\"df-41662775-ae9b-4e6e-8be3-65c9eac74861\">\n",
       "      <button class=\"colab-df-quickchart\" onclick=\"quickchart('df-41662775-ae9b-4e6e-8be3-65c9eac74861')\"\n",
       "                title=\"Suggest charts\"\n",
       "                style=\"display:none;\">\n",
       "\n",
       "<svg xmlns=\"http://www.w3.org/2000/svg\" height=\"24px\"viewBox=\"0 0 24 24\"\n",
       "     width=\"24px\">\n",
       "    <g>\n",
       "        <path d=\"M19 3H5c-1.1 0-2 .9-2 2v14c0 1.1.9 2 2 2h14c1.1 0 2-.9 2-2V5c0-1.1-.9-2-2-2zM9 17H7v-7h2v7zm4 0h-2V7h2v10zm4 0h-2v-4h2v4z\"/>\n",
       "    </g>\n",
       "</svg>\n",
       "      </button>\n",
       "\n",
       "<style>\n",
       "  .colab-df-quickchart {\n",
       "      --bg-color: #E8F0FE;\n",
       "      --fill-color: #1967D2;\n",
       "      --hover-bg-color: #E2EBFA;\n",
       "      --hover-fill-color: #174EA6;\n",
       "      --disabled-fill-color: #AAA;\n",
       "      --disabled-bg-color: #DDD;\n",
       "  }\n",
       "\n",
       "  [theme=dark] .colab-df-quickchart {\n",
       "      --bg-color: #3B4455;\n",
       "      --fill-color: #D2E3FC;\n",
       "      --hover-bg-color: #434B5C;\n",
       "      --hover-fill-color: #FFFFFF;\n",
       "      --disabled-bg-color: #3B4455;\n",
       "      --disabled-fill-color: #666;\n",
       "  }\n",
       "\n",
       "  .colab-df-quickchart {\n",
       "    background-color: var(--bg-color);\n",
       "    border: none;\n",
       "    border-radius: 50%;\n",
       "    cursor: pointer;\n",
       "    display: none;\n",
       "    fill: var(--fill-color);\n",
       "    height: 32px;\n",
       "    padding: 0;\n",
       "    width: 32px;\n",
       "  }\n",
       "\n",
       "  .colab-df-quickchart:hover {\n",
       "    background-color: var(--hover-bg-color);\n",
       "    box-shadow: 0 1px 2px rgba(60, 64, 67, 0.3), 0 1px 3px 1px rgba(60, 64, 67, 0.15);\n",
       "    fill: var(--button-hover-fill-color);\n",
       "  }\n",
       "\n",
       "  .colab-df-quickchart-complete:disabled,\n",
       "  .colab-df-quickchart-complete:disabled:hover {\n",
       "    background-color: var(--disabled-bg-color);\n",
       "    fill: var(--disabled-fill-color);\n",
       "    box-shadow: none;\n",
       "  }\n",
       "\n",
       "  .colab-df-spinner {\n",
       "    border: 2px solid var(--fill-color);\n",
       "    border-color: transparent;\n",
       "    border-bottom-color: var(--fill-color);\n",
       "    animation:\n",
       "      spin 1s steps(1) infinite;\n",
       "  }\n",
       "\n",
       "  @keyframes spin {\n",
       "    0% {\n",
       "      border-color: transparent;\n",
       "      border-bottom-color: var(--fill-color);\n",
       "      border-left-color: var(--fill-color);\n",
       "    }\n",
       "    20% {\n",
       "      border-color: transparent;\n",
       "      border-left-color: var(--fill-color);\n",
       "      border-top-color: var(--fill-color);\n",
       "    }\n",
       "    30% {\n",
       "      border-color: transparent;\n",
       "      border-left-color: var(--fill-color);\n",
       "      border-top-color: var(--fill-color);\n",
       "      border-right-color: var(--fill-color);\n",
       "    }\n",
       "    40% {\n",
       "      border-color: transparent;\n",
       "      border-right-color: var(--fill-color);\n",
       "      border-top-color: var(--fill-color);\n",
       "    }\n",
       "    60% {\n",
       "      border-color: transparent;\n",
       "      border-right-color: var(--fill-color);\n",
       "    }\n",
       "    80% {\n",
       "      border-color: transparent;\n",
       "      border-right-color: var(--fill-color);\n",
       "      border-bottom-color: var(--fill-color);\n",
       "    }\n",
       "    90% {\n",
       "      border-color: transparent;\n",
       "      border-bottom-color: var(--fill-color);\n",
       "    }\n",
       "  }\n",
       "</style>\n",
       "\n",
       "      <script>\n",
       "        async function quickchart(key) {\n",
       "          const quickchartButtonEl =\n",
       "            document.querySelector('#' + key + ' button');\n",
       "          quickchartButtonEl.disabled = true;  // To prevent multiple clicks.\n",
       "          quickchartButtonEl.classList.add('colab-df-spinner');\n",
       "          try {\n",
       "            const charts = await google.colab.kernel.invokeFunction(\n",
       "                'suggestCharts', [key], {});\n",
       "          } catch (error) {\n",
       "            console.error('Error during call to suggestCharts:', error);\n",
       "          }\n",
       "          quickchartButtonEl.classList.remove('colab-df-spinner');\n",
       "          quickchartButtonEl.classList.add('colab-df-quickchart-complete');\n",
       "        }\n",
       "        (() => {\n",
       "          let quickchartButtonEl =\n",
       "            document.querySelector('#df-41662775-ae9b-4e6e-8be3-65c9eac74861 button');\n",
       "          quickchartButtonEl.style.display =\n",
       "            google.colab.kernel.accessAllowed ? 'block' : 'none';\n",
       "        })();\n",
       "      </script>\n",
       "    </div>\n",
       "\n",
       "    </div>\n",
       "  </div>\n"
      ],
      "text/plain": [
       "               step        amount  oldbalanceOrg  newbalanceOrig  \\\n",
       "count  14247.000000  1.424700e+04   1.424600e+04    1.424600e+04   \n",
       "mean       5.037131  1.118848e+05   7.937369e+05    8.107136e+05   \n",
       "std        2.463112  2.805152e+05   2.016693e+06    2.059984e+06   \n",
       "min        1.000000  2.390000e+00   0.000000e+00    0.000000e+00   \n",
       "25%        2.000000  4.585130e+03   0.000000e+00    0.000000e+00   \n",
       "50%        6.000000  1.286936e+04   2.041500e+04    8.216325e+03   \n",
       "75%        7.000000  1.218917e+05   1.384956e+05    1.294173e+05   \n",
       "max        8.000000  1.000000e+07   1.293042e+07    1.301050e+07   \n",
       "\n",
       "       oldbalanceDest  newbalanceDest       isFraud  isFlaggedFraud  \n",
       "count    1.424600e+04    1.424600e+04  14246.000000         14246.0  \n",
       "mean     8.411336e+05    1.147629e+06      0.005475             0.0  \n",
       "std      2.528174e+06    3.151706e+06      0.073794             0.0  \n",
       "min      0.000000e+00    0.000000e+00      0.000000             0.0  \n",
       "25%      0.000000e+00    0.000000e+00      0.000000             0.0  \n",
       "50%      0.000000e+00    0.000000e+00      0.000000             0.0  \n",
       "75%      2.641427e+05    2.775150e+05      0.000000             0.0  \n",
       "max      2.093759e+07    2.533027e+07      1.000000             0.0  "
      ]
     },
     "metadata": {},
     "output_type": "display_data"
    },
    {
     "data": {
      "text/html": [
       "<div>\n",
       "<style scoped>\n",
       "    .dataframe tbody tr th:only-of-type {\n",
       "        vertical-align: middle;\n",
       "    }\n",
       "\n",
       "    .dataframe tbody tr th {\n",
       "        vertical-align: top;\n",
       "    }\n",
       "\n",
       "    .dataframe thead th {\n",
       "        text-align: right;\n",
       "    }\n",
       "</style>\n",
       "<table border=\"1\" class=\"dataframe\">\n",
       "  <thead>\n",
       "    <tr style=\"text-align: right;\">\n",
       "      <th></th>\n",
       "      <th>0</th>\n",
       "    </tr>\n",
       "  </thead>\n",
       "  <tbody>\n",
       "    <tr>\n",
       "      <th>step</th>\n",
       "      <td>8</td>\n",
       "    </tr>\n",
       "    <tr>\n",
       "      <th>type</th>\n",
       "      <td>5</td>\n",
       "    </tr>\n",
       "    <tr>\n",
       "      <th>amount</th>\n",
       "      <td>14185</td>\n",
       "    </tr>\n",
       "    <tr>\n",
       "      <th>nameOrig</th>\n",
       "      <td>14247</td>\n",
       "    </tr>\n",
       "    <tr>\n",
       "      <th>oldbalanceOrg</th>\n",
       "      <td>10099</td>\n",
       "    </tr>\n",
       "    <tr>\n",
       "      <th>newbalanceOrig</th>\n",
       "      <td>8127</td>\n",
       "    </tr>\n",
       "    <tr>\n",
       "      <th>nameDest</th>\n",
       "      <td>9472</td>\n",
       "    </tr>\n",
       "    <tr>\n",
       "      <th>oldbalanceDest</th>\n",
       "      <td>6081</td>\n",
       "    </tr>\n",
       "    <tr>\n",
       "      <th>newbalanceDest</th>\n",
       "      <td>2244</td>\n",
       "    </tr>\n",
       "    <tr>\n",
       "      <th>isFraud</th>\n",
       "      <td>2</td>\n",
       "    </tr>\n",
       "    <tr>\n",
       "      <th>isFlaggedFraud</th>\n",
       "      <td>1</td>\n",
       "    </tr>\n",
       "  </tbody>\n",
       "</table>\n",
       "</div><br><label><b>dtype:</b> int64</label>"
      ],
      "text/plain": [
       "step                  8\n",
       "type                  5\n",
       "amount            14185\n",
       "nameOrig          14247\n",
       "oldbalanceOrg     10099\n",
       "newbalanceOrig     8127\n",
       "nameDest           9472\n",
       "oldbalanceDest     6081\n",
       "newbalanceDest     2244\n",
       "isFraud               2\n",
       "isFlaggedFraud        1\n",
       "dtype: int64"
      ]
     },
     "metadata": {},
     "output_type": "display_data"
    }
   ],
   "source": [
    "import pandas as pd\n",
    "file_path = 'Fraud.csv'\n",
    "\n",
    "# Display the first 5 rows\n",
    "display(df.head())\n",
    "\n",
    "# Print column names and data types\n",
    "display(df.info())\n",
    "\n",
    "# Generate descriptive statistics for numerical columns\n",
    "display(df.describe())\n",
    "\n",
    "# Check the number of unique values in each column\n",
    "display(df.nunique())"
   ]
  },
  {
   "cell_type": "code",
   "execution_count": null,
   "metadata": {},
   "outputs": [],
   "source": [
    "# Load the dataset\n",
    "df = pd.read_csv(file_path)"
   ]
  },
  {
   "cell_type": "markdown",
   "metadata": {
    "id": "b6a7be02"
   },
   "source": [
    "## Data preprocessing\n",
    "\n",
    "### Subtask:\n",
    "Handle missing values, encode categorical features, and potentially perform feature scaling if required by the chosen model.\n"
   ]
  },
  {
   "cell_type": "markdown",
   "metadata": {
    "id": "c7b251fa"
   },
   "source": [
    "**Reasoning**:\n",
    "Identify columns with missing values and their counts.\n",
    "\n"
   ]
  },
  {
   "cell_type": "code",
   "execution_count": 2,
   "metadata": {
    "colab": {
     "base_uri": "https://localhost:8080/",
     "height": 429
    },
    "id": "b4238f28",
    "outputId": "6b6963f4-9d6c-4b71-e5a1-a1a2a826658e"
   },
   "outputs": [
    {
     "data": {
      "text/html": [
       "<div>\n",
       "<style scoped>\n",
       "    .dataframe tbody tr th:only-of-type {\n",
       "        vertical-align: middle;\n",
       "    }\n",
       "\n",
       "    .dataframe tbody tr th {\n",
       "        vertical-align: top;\n",
       "    }\n",
       "\n",
       "    .dataframe thead th {\n",
       "        text-align: right;\n",
       "    }\n",
       "</style>\n",
       "<table border=\"1\" class=\"dataframe\">\n",
       "  <thead>\n",
       "    <tr style=\"text-align: right;\">\n",
       "      <th></th>\n",
       "      <th>0</th>\n",
       "    </tr>\n",
       "  </thead>\n",
       "  <tbody>\n",
       "    <tr>\n",
       "      <th>step</th>\n",
       "      <td>0</td>\n",
       "    </tr>\n",
       "    <tr>\n",
       "      <th>type</th>\n",
       "      <td>0</td>\n",
       "    </tr>\n",
       "    <tr>\n",
       "      <th>amount</th>\n",
       "      <td>0</td>\n",
       "    </tr>\n",
       "    <tr>\n",
       "      <th>nameOrig</th>\n",
       "      <td>0</td>\n",
       "    </tr>\n",
       "    <tr>\n",
       "      <th>oldbalanceOrg</th>\n",
       "      <td>1</td>\n",
       "    </tr>\n",
       "    <tr>\n",
       "      <th>newbalanceOrig</th>\n",
       "      <td>1</td>\n",
       "    </tr>\n",
       "    <tr>\n",
       "      <th>nameDest</th>\n",
       "      <td>1</td>\n",
       "    </tr>\n",
       "    <tr>\n",
       "      <th>oldbalanceDest</th>\n",
       "      <td>1</td>\n",
       "    </tr>\n",
       "    <tr>\n",
       "      <th>newbalanceDest</th>\n",
       "      <td>1</td>\n",
       "    </tr>\n",
       "    <tr>\n",
       "      <th>isFraud</th>\n",
       "      <td>1</td>\n",
       "    </tr>\n",
       "    <tr>\n",
       "      <th>isFlaggedFraud</th>\n",
       "      <td>1</td>\n",
       "    </tr>\n",
       "  </tbody>\n",
       "</table>\n",
       "</div><br><label><b>dtype:</b> int64</label>"
      ],
      "text/plain": [
       "step              0\n",
       "type              0\n",
       "amount            0\n",
       "nameOrig          0\n",
       "oldbalanceOrg     1\n",
       "newbalanceOrig    1\n",
       "nameDest          1\n",
       "oldbalanceDest    1\n",
       "newbalanceDest    1\n",
       "isFraud           1\n",
       "isFlaggedFraud    1\n",
       "dtype: int64"
      ]
     },
     "metadata": {},
     "output_type": "display_data"
    }
   ],
   "source": [
    "display(df.isnull().sum())"
   ]
  },
  {
   "cell_type": "markdown",
   "metadata": {
    "id": "208cb289"
   },
   "source": [
    "**Reasoning**:\n",
    "Handle the few missing values by dropping the rows since there is only one row with missing values across multiple columns, and dropping it will not significantly impact the dataset size.\n",
    "\n"
   ]
  },
  {
   "cell_type": "code",
   "execution_count": 3,
   "metadata": {
    "colab": {
     "base_uri": "https://localhost:8080/",
     "height": 429
    },
    "id": "b97a20c5",
    "outputId": "0d3b1a90-a085-4cac-b51c-3dfd0fe24c02"
   },
   "outputs": [
    {
     "data": {
      "text/html": [
       "<div>\n",
       "<style scoped>\n",
       "    .dataframe tbody tr th:only-of-type {\n",
       "        vertical-align: middle;\n",
       "    }\n",
       "\n",
       "    .dataframe tbody tr th {\n",
       "        vertical-align: top;\n",
       "    }\n",
       "\n",
       "    .dataframe thead th {\n",
       "        text-align: right;\n",
       "    }\n",
       "</style>\n",
       "<table border=\"1\" class=\"dataframe\">\n",
       "  <thead>\n",
       "    <tr style=\"text-align: right;\">\n",
       "      <th></th>\n",
       "      <th>0</th>\n",
       "    </tr>\n",
       "  </thead>\n",
       "  <tbody>\n",
       "    <tr>\n",
       "      <th>step</th>\n",
       "      <td>0</td>\n",
       "    </tr>\n",
       "    <tr>\n",
       "      <th>type</th>\n",
       "      <td>0</td>\n",
       "    </tr>\n",
       "    <tr>\n",
       "      <th>amount</th>\n",
       "      <td>0</td>\n",
       "    </tr>\n",
       "    <tr>\n",
       "      <th>nameOrig</th>\n",
       "      <td>0</td>\n",
       "    </tr>\n",
       "    <tr>\n",
       "      <th>oldbalanceOrg</th>\n",
       "      <td>0</td>\n",
       "    </tr>\n",
       "    <tr>\n",
       "      <th>newbalanceOrig</th>\n",
       "      <td>0</td>\n",
       "    </tr>\n",
       "    <tr>\n",
       "      <th>nameDest</th>\n",
       "      <td>0</td>\n",
       "    </tr>\n",
       "    <tr>\n",
       "      <th>oldbalanceDest</th>\n",
       "      <td>0</td>\n",
       "    </tr>\n",
       "    <tr>\n",
       "      <th>newbalanceDest</th>\n",
       "      <td>0</td>\n",
       "    </tr>\n",
       "    <tr>\n",
       "      <th>isFraud</th>\n",
       "      <td>0</td>\n",
       "    </tr>\n",
       "    <tr>\n",
       "      <th>isFlaggedFraud</th>\n",
       "      <td>0</td>\n",
       "    </tr>\n",
       "  </tbody>\n",
       "</table>\n",
       "</div><br><label><b>dtype:</b> int64</label>"
      ],
      "text/plain": [
       "step              0\n",
       "type              0\n",
       "amount            0\n",
       "nameOrig          0\n",
       "oldbalanceOrg     0\n",
       "newbalanceOrig    0\n",
       "nameDest          0\n",
       "oldbalanceDest    0\n",
       "newbalanceDest    0\n",
       "isFraud           0\n",
       "isFlaggedFraud    0\n",
       "dtype: int64"
      ]
     },
     "metadata": {},
     "output_type": "display_data"
    }
   ],
   "source": [
    "df.dropna(inplace=True)\n",
    "display(df.isnull().sum())"
   ]
  },
  {
   "cell_type": "markdown",
   "metadata": {
    "id": "7889137e"
   },
   "source": [
    "**Reasoning**:\n",
    "Identify categorical columns and apply one-hot encoding to the 'type' column, as it is a nominal categorical feature. The 'nameOrig' and 'nameDest' columns are identifiers and will not be encoded as features at this stage. 'isFlaggedFraud' has only one unique value and is not useful.\n",
    "\n"
   ]
  },
  {
   "cell_type": "code",
   "execution_count": 4,
   "metadata": {
    "colab": {
     "base_uri": "https://localhost:8080/",
     "height": 226
    },
    "id": "a2ab02ef",
    "outputId": "3852c298-81d7-4800-9a3a-b25e5d85557c"
   },
   "outputs": [
    {
     "data": {
      "application/vnd.google.colaboratory.intrinsic+json": {
       "summary": "{\n  \"name\": \"display(df\",\n  \"rows\": 5,\n  \"fields\": [\n    {\n      \"column\": \"step\",\n      \"properties\": {\n        \"dtype\": \"number\",\n        \"std\": 0,\n        \"min\": 1,\n        \"max\": 1,\n        \"num_unique_values\": 1,\n        \"samples\": [\n          1\n        ],\n        \"semantic_type\": \"\",\n        \"description\": \"\"\n      }\n    },\n    {\n      \"column\": \"amount\",\n      \"properties\": {\n        \"dtype\": \"number\",\n        \"std\": 5564.259777609237,\n        \"min\": 181.0,\n        \"max\": 11668.14,\n        \"num_unique_values\": 4,\n        \"samples\": [\n          1864.28\n        ],\n        \"semantic_type\": \"\",\n        \"description\": \"\"\n      }\n    },\n    {\n      \"column\": \"nameOrig\",\n      \"properties\": {\n        \"dtype\": \"string\",\n        \"num_unique_values\": 5,\n        \"samples\": [\n          \"C1666544295\"\n        ],\n        \"semantic_type\": \"\",\n        \"description\": \"\"\n      }\n    },\n    {\n      \"column\": \"oldbalanceOrg\",\n      \"properties\": {\n        \"dtype\": \"number\",\n        \"std\": 71131.40588867902,\n        \"min\": 181.0,\n        \"max\": 170136.0,\n        \"num_unique_values\": 4,\n        \"samples\": [\n          21249.0\n        ],\n        \"semantic_type\": \"\",\n        \"description\": \"\"\n      }\n    },\n    {\n      \"column\": \"newbalanceOrig\",\n      \"properties\": {\n        \"dtype\": \"number\",\n        \"std\": 67416.97590087172,\n        \"min\": 0.0,\n        \"max\": 160296.36,\n        \"num_unique_values\": 4,\n        \"samples\": [\n          19384.72\n        ],\n        \"semantic_type\": \"\",\n        \"description\": \"\"\n      }\n    },\n    {\n      \"column\": \"nameDest\",\n      \"properties\": {\n        \"dtype\": \"string\",\n        \"num_unique_values\": 5,\n        \"samples\": [\n          \"M2044282225\"\n        ],\n        \"semantic_type\": \"\",\n        \"description\": \"\"\n      }\n    },\n    {\n      \"column\": \"oldbalanceDest\",\n      \"properties\": {\n        \"dtype\": \"number\",\n        \"std\": 9472.878379880109,\n        \"min\": 0.0,\n        \"max\": 21182.0,\n        \"num_unique_values\": 2,\n        \"samples\": [\n          21182.0\n        ],\n        \"semantic_type\": \"\",\n        \"description\": \"\"\n      }\n    },\n    {\n      \"column\": \"newbalanceDest\",\n      \"properties\": {\n        \"dtype\": \"number\",\n        \"std\": 0.0,\n        \"min\": 0.0,\n        \"max\": 0.0,\n        \"num_unique_values\": 1,\n        \"samples\": [\n          0.0\n        ],\n        \"semantic_type\": \"\",\n        \"description\": \"\"\n      }\n    },\n    {\n      \"column\": \"isFraud\",\n      \"properties\": {\n        \"dtype\": \"number\",\n        \"std\": 0.5477225575051662,\n        \"min\": 0.0,\n        \"max\": 1.0,\n        \"num_unique_values\": 2,\n        \"samples\": [\n          1.0\n        ],\n        \"semantic_type\": \"\",\n        \"description\": \"\"\n      }\n    },\n    {\n      \"column\": \"isFlaggedFraud\",\n      \"properties\": {\n        \"dtype\": \"number\",\n        \"std\": 0.0,\n        \"min\": 0.0,\n        \"max\": 0.0,\n        \"num_unique_values\": 1,\n        \"samples\": [\n          0.0\n        ],\n        \"semantic_type\": \"\",\n        \"description\": \"\"\n      }\n    },\n    {\n      \"column\": \"type_CASH_OUT\",\n      \"properties\": {\n        \"dtype\": \"boolean\",\n        \"num_unique_values\": 2,\n        \"samples\": [\n          true\n        ],\n        \"semantic_type\": \"\",\n        \"description\": \"\"\n      }\n    },\n    {\n      \"column\": \"type_DEBIT\",\n      \"properties\": {\n        \"dtype\": \"boolean\",\n        \"num_unique_values\": 1,\n        \"samples\": [\n          false\n        ],\n        \"semantic_type\": \"\",\n        \"description\": \"\"\n      }\n    },\n    {\n      \"column\": \"type_PAYMENT\",\n      \"properties\": {\n        \"dtype\": \"boolean\",\n        \"num_unique_values\": 2,\n        \"samples\": [\n          false\n        ],\n        \"semantic_type\": \"\",\n        \"description\": \"\"\n      }\n    },\n    {\n      \"column\": \"type_TRANSFER\",\n      \"properties\": {\n        \"dtype\": \"boolean\",\n        \"num_unique_values\": 2,\n        \"samples\": [\n          true\n        ],\n        \"semantic_type\": \"\",\n        \"description\": \"\"\n      }\n    }\n  ]\n}",
       "type": "dataframe"
      },
      "text/html": [
       "\n",
       "  <div id=\"df-f603ab97-1e7f-453d-b382-17d6c4eff1c7\" class=\"colab-df-container\">\n",
       "    <div>\n",
       "<style scoped>\n",
       "    .dataframe tbody tr th:only-of-type {\n",
       "        vertical-align: middle;\n",
       "    }\n",
       "\n",
       "    .dataframe tbody tr th {\n",
       "        vertical-align: top;\n",
       "    }\n",
       "\n",
       "    .dataframe thead th {\n",
       "        text-align: right;\n",
       "    }\n",
       "</style>\n",
       "<table border=\"1\" class=\"dataframe\">\n",
       "  <thead>\n",
       "    <tr style=\"text-align: right;\">\n",
       "      <th></th>\n",
       "      <th>step</th>\n",
       "      <th>amount</th>\n",
       "      <th>nameOrig</th>\n",
       "      <th>oldbalanceOrg</th>\n",
       "      <th>newbalanceOrig</th>\n",
       "      <th>nameDest</th>\n",
       "      <th>oldbalanceDest</th>\n",
       "      <th>newbalanceDest</th>\n",
       "      <th>isFraud</th>\n",
       "      <th>isFlaggedFraud</th>\n",
       "      <th>type_CASH_OUT</th>\n",
       "      <th>type_DEBIT</th>\n",
       "      <th>type_PAYMENT</th>\n",
       "      <th>type_TRANSFER</th>\n",
       "    </tr>\n",
       "  </thead>\n",
       "  <tbody>\n",
       "    <tr>\n",
       "      <th>0</th>\n",
       "      <td>1</td>\n",
       "      <td>9839.64</td>\n",
       "      <td>C1231006815</td>\n",
       "      <td>170136.0</td>\n",
       "      <td>160296.36</td>\n",
       "      <td>M1979787155</td>\n",
       "      <td>0.0</td>\n",
       "      <td>0.0</td>\n",
       "      <td>0.0</td>\n",
       "      <td>0.0</td>\n",
       "      <td>False</td>\n",
       "      <td>False</td>\n",
       "      <td>True</td>\n",
       "      <td>False</td>\n",
       "    </tr>\n",
       "    <tr>\n",
       "      <th>1</th>\n",
       "      <td>1</td>\n",
       "      <td>1864.28</td>\n",
       "      <td>C1666544295</td>\n",
       "      <td>21249.0</td>\n",
       "      <td>19384.72</td>\n",
       "      <td>M2044282225</td>\n",
       "      <td>0.0</td>\n",
       "      <td>0.0</td>\n",
       "      <td>0.0</td>\n",
       "      <td>0.0</td>\n",
       "      <td>False</td>\n",
       "      <td>False</td>\n",
       "      <td>True</td>\n",
       "      <td>False</td>\n",
       "    </tr>\n",
       "    <tr>\n",
       "      <th>2</th>\n",
       "      <td>1</td>\n",
       "      <td>181.00</td>\n",
       "      <td>C1305486145</td>\n",
       "      <td>181.0</td>\n",
       "      <td>0.00</td>\n",
       "      <td>C553264065</td>\n",
       "      <td>0.0</td>\n",
       "      <td>0.0</td>\n",
       "      <td>1.0</td>\n",
       "      <td>0.0</td>\n",
       "      <td>False</td>\n",
       "      <td>False</td>\n",
       "      <td>False</td>\n",
       "      <td>True</td>\n",
       "    </tr>\n",
       "    <tr>\n",
       "      <th>3</th>\n",
       "      <td>1</td>\n",
       "      <td>181.00</td>\n",
       "      <td>C840083671</td>\n",
       "      <td>181.0</td>\n",
       "      <td>0.00</td>\n",
       "      <td>C38997010</td>\n",
       "      <td>21182.0</td>\n",
       "      <td>0.0</td>\n",
       "      <td>1.0</td>\n",
       "      <td>0.0</td>\n",
       "      <td>True</td>\n",
       "      <td>False</td>\n",
       "      <td>False</td>\n",
       "      <td>False</td>\n",
       "    </tr>\n",
       "    <tr>\n",
       "      <th>4</th>\n",
       "      <td>1</td>\n",
       "      <td>11668.14</td>\n",
       "      <td>C2048537720</td>\n",
       "      <td>41554.0</td>\n",
       "      <td>29885.86</td>\n",
       "      <td>M1230701703</td>\n",
       "      <td>0.0</td>\n",
       "      <td>0.0</td>\n",
       "      <td>0.0</td>\n",
       "      <td>0.0</td>\n",
       "      <td>False</td>\n",
       "      <td>False</td>\n",
       "      <td>True</td>\n",
       "      <td>False</td>\n",
       "    </tr>\n",
       "  </tbody>\n",
       "</table>\n",
       "</div>\n",
       "    <div class=\"colab-df-buttons\">\n",
       "\n",
       "  <div class=\"colab-df-container\">\n",
       "    <button class=\"colab-df-convert\" onclick=\"convertToInteractive('df-f603ab97-1e7f-453d-b382-17d6c4eff1c7')\"\n",
       "            title=\"Convert this dataframe to an interactive table.\"\n",
       "            style=\"display:none;\">\n",
       "\n",
       "  <svg xmlns=\"http://www.w3.org/2000/svg\" height=\"24px\" viewBox=\"0 -960 960 960\">\n",
       "    <path d=\"M120-120v-720h720v720H120Zm60-500h600v-160H180v160Zm220 220h160v-160H400v160Zm0 220h160v-160H400v160ZM180-400h160v-160H180v160Zm440 0h160v-160H620v160ZM180-180h160v-160H180v160Zm440 0h160v-160H620v160Z\"/>\n",
       "  </svg>\n",
       "    </button>\n",
       "\n",
       "  <style>\n",
       "    .colab-df-container {\n",
       "      display:flex;\n",
       "      gap: 12px;\n",
       "    }\n",
       "\n",
       "    .colab-df-convert {\n",
       "      background-color: #E8F0FE;\n",
       "      border: none;\n",
       "      border-radius: 50%;\n",
       "      cursor: pointer;\n",
       "      display: none;\n",
       "      fill: #1967D2;\n",
       "      height: 32px;\n",
       "      padding: 0 0 0 0;\n",
       "      width: 32px;\n",
       "    }\n",
       "\n",
       "    .colab-df-convert:hover {\n",
       "      background-color: #E2EBFA;\n",
       "      box-shadow: 0px 1px 2px rgba(60, 64, 67, 0.3), 0px 1px 3px 1px rgba(60, 64, 67, 0.15);\n",
       "      fill: #174EA6;\n",
       "    }\n",
       "\n",
       "    .colab-df-buttons div {\n",
       "      margin-bottom: 4px;\n",
       "    }\n",
       "\n",
       "    [theme=dark] .colab-df-convert {\n",
       "      background-color: #3B4455;\n",
       "      fill: #D2E3FC;\n",
       "    }\n",
       "\n",
       "    [theme=dark] .colab-df-convert:hover {\n",
       "      background-color: #434B5C;\n",
       "      box-shadow: 0px 1px 3px 1px rgba(0, 0, 0, 0.15);\n",
       "      filter: drop-shadow(0px 1px 2px rgba(0, 0, 0, 0.3));\n",
       "      fill: #FFFFFF;\n",
       "    }\n",
       "  </style>\n",
       "\n",
       "    <script>\n",
       "      const buttonEl =\n",
       "        document.querySelector('#df-f603ab97-1e7f-453d-b382-17d6c4eff1c7 button.colab-df-convert');\n",
       "      buttonEl.style.display =\n",
       "        google.colab.kernel.accessAllowed ? 'block' : 'none';\n",
       "\n",
       "      async function convertToInteractive(key) {\n",
       "        const element = document.querySelector('#df-f603ab97-1e7f-453d-b382-17d6c4eff1c7');\n",
       "        const dataTable =\n",
       "          await google.colab.kernel.invokeFunction('convertToInteractive',\n",
       "                                                    [key], {});\n",
       "        if (!dataTable) return;\n",
       "\n",
       "        const docLinkHtml = 'Like what you see? Visit the ' +\n",
       "          '<a target=\"_blank\" href=https://colab.research.google.com/notebooks/data_table.ipynb>data table notebook</a>'\n",
       "          + ' to learn more about interactive tables.';\n",
       "        element.innerHTML = '';\n",
       "        dataTable['output_type'] = 'display_data';\n",
       "        await google.colab.output.renderOutput(dataTable, element);\n",
       "        const docLink = document.createElement('div');\n",
       "        docLink.innerHTML = docLinkHtml;\n",
       "        element.appendChild(docLink);\n",
       "      }\n",
       "    </script>\n",
       "  </div>\n",
       "\n",
       "\n",
       "    <div id=\"df-88c80b4f-95e2-4e13-9438-49b62fc903fd\">\n",
       "      <button class=\"colab-df-quickchart\" onclick=\"quickchart('df-88c80b4f-95e2-4e13-9438-49b62fc903fd')\"\n",
       "                title=\"Suggest charts\"\n",
       "                style=\"display:none;\">\n",
       "\n",
       "<svg xmlns=\"http://www.w3.org/2000/svg\" height=\"24px\"viewBox=\"0 0 24 24\"\n",
       "     width=\"24px\">\n",
       "    <g>\n",
       "        <path d=\"M19 3H5c-1.1 0-2 .9-2 2v14c0 1.1.9 2 2 2h14c1.1 0 2-.9 2-2V5c0-1.1-.9-2-2-2zM9 17H7v-7h2v7zm4 0h-2V7h2v10zm4 0h-2v-4h2v4z\"/>\n",
       "    </g>\n",
       "</svg>\n",
       "      </button>\n",
       "\n",
       "<style>\n",
       "  .colab-df-quickchart {\n",
       "      --bg-color: #E8F0FE;\n",
       "      --fill-color: #1967D2;\n",
       "      --hover-bg-color: #E2EBFA;\n",
       "      --hover-fill-color: #174EA6;\n",
       "      --disabled-fill-color: #AAA;\n",
       "      --disabled-bg-color: #DDD;\n",
       "  }\n",
       "\n",
       "  [theme=dark] .colab-df-quickchart {\n",
       "      --bg-color: #3B4455;\n",
       "      --fill-color: #D2E3FC;\n",
       "      --hover-bg-color: #434B5C;\n",
       "      --hover-fill-color: #FFFFFF;\n",
       "      --disabled-bg-color: #3B4455;\n",
       "      --disabled-fill-color: #666;\n",
       "  }\n",
       "\n",
       "  .colab-df-quickchart {\n",
       "    background-color: var(--bg-color);\n",
       "    border: none;\n",
       "    border-radius: 50%;\n",
       "    cursor: pointer;\n",
       "    display: none;\n",
       "    fill: var(--fill-color);\n",
       "    height: 32px;\n",
       "    padding: 0;\n",
       "    width: 32px;\n",
       "  }\n",
       "\n",
       "  .colab-df-quickchart:hover {\n",
       "    background-color: var(--hover-bg-color);\n",
       "    box-shadow: 0 1px 2px rgba(60, 64, 67, 0.3), 0 1px 3px 1px rgba(60, 64, 67, 0.15);\n",
       "    fill: var(--button-hover-fill-color);\n",
       "  }\n",
       "\n",
       "  .colab-df-quickchart-complete:disabled,\n",
       "  .colab-df-quickchart-complete:disabled:hover {\n",
       "    background-color: var(--disabled-bg-color);\n",
       "    fill: var(--disabled-fill-color);\n",
       "    box-shadow: none;\n",
       "  }\n",
       "\n",
       "  .colab-df-spinner {\n",
       "    border: 2px solid var(--fill-color);\n",
       "    border-color: transparent;\n",
       "    border-bottom-color: var(--fill-color);\n",
       "    animation:\n",
       "      spin 1s steps(1) infinite;\n",
       "  }\n",
       "\n",
       "  @keyframes spin {\n",
       "    0% {\n",
       "      border-color: transparent;\n",
       "      border-bottom-color: var(--fill-color);\n",
       "      border-left-color: var(--fill-color);\n",
       "    }\n",
       "    20% {\n",
       "      border-color: transparent;\n",
       "      border-left-color: var(--fill-color);\n",
       "      border-top-color: var(--fill-color);\n",
       "    }\n",
       "    30% {\n",
       "      border-color: transparent;\n",
       "      border-left-color: var(--fill-color);\n",
       "      border-top-color: var(--fill-color);\n",
       "      border-right-color: var(--fill-color);\n",
       "    }\n",
       "    40% {\n",
       "      border-color: transparent;\n",
       "      border-right-color: var(--fill-color);\n",
       "      border-top-color: var(--fill-color);\n",
       "    }\n",
       "    60% {\n",
       "      border-color: transparent;\n",
       "      border-right-color: var(--fill-color);\n",
       "    }\n",
       "    80% {\n",
       "      border-color: transparent;\n",
       "      border-right-color: var(--fill-color);\n",
       "      border-bottom-color: var(--fill-color);\n",
       "    }\n",
       "    90% {\n",
       "      border-color: transparent;\n",
       "      border-bottom-color: var(--fill-color);\n",
       "    }\n",
       "  }\n",
       "</style>\n",
       "\n",
       "      <script>\n",
       "        async function quickchart(key) {\n",
       "          const quickchartButtonEl =\n",
       "            document.querySelector('#' + key + ' button');\n",
       "          quickchartButtonEl.disabled = true;  // To prevent multiple clicks.\n",
       "          quickchartButtonEl.classList.add('colab-df-spinner');\n",
       "          try {\n",
       "            const charts = await google.colab.kernel.invokeFunction(\n",
       "                'suggestCharts', [key], {});\n",
       "          } catch (error) {\n",
       "            console.error('Error during call to suggestCharts:', error);\n",
       "          }\n",
       "          quickchartButtonEl.classList.remove('colab-df-spinner');\n",
       "          quickchartButtonEl.classList.add('colab-df-quickchart-complete');\n",
       "        }\n",
       "        (() => {\n",
       "          let quickchartButtonEl =\n",
       "            document.querySelector('#df-88c80b4f-95e2-4e13-9438-49b62fc903fd button');\n",
       "          quickchartButtonEl.style.display =\n",
       "            google.colab.kernel.accessAllowed ? 'block' : 'none';\n",
       "        })();\n",
       "      </script>\n",
       "    </div>\n",
       "\n",
       "    </div>\n",
       "  </div>\n"
      ],
      "text/plain": [
       "   step    amount     nameOrig  oldbalanceOrg  newbalanceOrig     nameDest  \\\n",
       "0     1   9839.64  C1231006815       170136.0       160296.36  M1979787155   \n",
       "1     1   1864.28  C1666544295        21249.0        19384.72  M2044282225   \n",
       "2     1    181.00  C1305486145          181.0            0.00   C553264065   \n",
       "3     1    181.00   C840083671          181.0            0.00    C38997010   \n",
       "4     1  11668.14  C2048537720        41554.0        29885.86  M1230701703   \n",
       "\n",
       "   oldbalanceDest  newbalanceDest  isFraud  isFlaggedFraud  type_CASH_OUT  \\\n",
       "0             0.0             0.0      0.0             0.0          False   \n",
       "1             0.0             0.0      0.0             0.0          False   \n",
       "2             0.0             0.0      1.0             0.0          False   \n",
       "3         21182.0             0.0      1.0             0.0           True   \n",
       "4             0.0             0.0      0.0             0.0          False   \n",
       "\n",
       "   type_DEBIT  type_PAYMENT  type_TRANSFER  \n",
       "0       False          True          False  \n",
       "1       False          True          False  \n",
       "2       False         False           True  \n",
       "3       False         False          False  \n",
       "4       False          True          False  "
      ]
     },
     "metadata": {},
     "output_type": "display_data"
    }
   ],
   "source": [
    "# Apply One-Hot Encoding to the 'type' column\n",
    "df = pd.get_dummies(df, columns=['type'], drop_first=True)\n",
    "\n",
    "display(df.head())"
   ]
  },
  {
   "cell_type": "markdown",
   "metadata": {
    "id": "84dd48b2"
   },
   "source": [
    "**Reasoning**:\n",
    "Assess the need for feature scaling by examining the range of numerical features and apply StandardScaler to numerical features, excluding the target variable and identifier columns, as many machine learning models are sensitive to feature scaling.\n",
    "\n"
   ]
  },
  {
   "cell_type": "code",
   "execution_count": 5,
   "metadata": {
    "colab": {
     "base_uri": "https://localhost:8080/",
     "height": 226
    },
    "id": "8e72e39e",
    "outputId": "023dac68-fda7-472b-a146-7c292ff37ea0"
   },
   "outputs": [
    {
     "data": {
      "application/vnd.google.colaboratory.intrinsic+json": {
       "summary": "{\n  \"name\": \"display(df\",\n  \"rows\": 5,\n  \"fields\": [\n    {\n      \"column\": \"step\",\n      \"properties\": {\n        \"dtype\": \"number\",\n        \"std\": 0.0,\n        \"min\": -1.6390353205469883,\n        \"max\": -1.6390353205469883,\n        \"num_unique_values\": 1,\n        \"samples\": [\n          -1.6390353205469883\n        ],\n        \"semantic_type\": \"\",\n        \"description\": \"\"\n      }\n    },\n    {\n      \"column\": \"amount\",\n      \"properties\": {\n        \"dtype\": \"number\",\n        \"std\": 0.019835875767987787,\n        \"min\": -0.39822011467934615,\n        \"max\": -0.3572699270395833,\n        \"num_unique_values\": 4,\n        \"samples\": [\n          -0.3922194363686213\n        ],\n        \"semantic_type\": \"\",\n        \"description\": \"\"\n      }\n    },\n    {\n      \"column\": \"nameOrig\",\n      \"properties\": {\n        \"dtype\": \"string\",\n        \"num_unique_values\": 5,\n        \"samples\": [\n          \"C1666544295\"\n        ],\n        \"semantic_type\": \"\",\n        \"description\": \"\"\n      }\n    },\n    {\n      \"column\": \"oldbalanceOrg\",\n      \"properties\": {\n        \"dtype\": \"number\",\n        \"std\": 0.03527255141850135,\n        \"min\": -0.39350751230468145,\n        \"max\": -0.30923044226176394,\n        \"num_unique_values\": 4,\n        \"samples\": [\n          -0.38306033916082466\n        ],\n        \"semantic_type\": \"\",\n        \"description\": \"\"\n      }\n    },\n    {\n      \"column\": \"newbalanceOrig\",\n      \"properties\": {\n        \"dtype\": \"number\",\n        \"std\": 0.0327280933802109,\n        \"min\": -0.39356717849896317,\n        \"max\": -0.31575006836483643,\n        \"num_unique_values\": 4,\n        \"samples\": [\n          -0.38415671595845874\n        ],\n        \"semantic_type\": \"\",\n        \"description\": \"\"\n      }\n    },\n    {\n      \"column\": \"nameDest\",\n      \"properties\": {\n        \"dtype\": \"string\",\n        \"num_unique_values\": 5,\n        \"samples\": [\n          \"M2044282225\"\n        ],\n        \"semantic_type\": \"\",\n        \"description\": \"\"\n      }\n    },\n    {\n      \"column\": \"oldbalanceDest\",\n      \"properties\": {\n        \"dtype\": \"number\",\n        \"std\": 0.0037470565544921444,\n        \"min\": -0.3327156600825207,\n        \"max\": -0.3243369869111401,\n        \"num_unique_values\": 2,\n        \"samples\": [\n          -0.3243369869111401\n        ],\n        \"semantic_type\": \"\",\n        \"description\": \"\"\n      }\n    },\n    {\n      \"column\": \"newbalanceDest\",\n      \"properties\": {\n        \"dtype\": \"number\",\n        \"std\": 0.0,\n        \"min\": -0.3641423929071039,\n        \"max\": -0.3641423929071039,\n        \"num_unique_values\": 1,\n        \"samples\": [\n          -0.3641423929071039\n        ],\n        \"semantic_type\": \"\",\n        \"description\": \"\"\n      }\n    },\n    {\n      \"column\": \"isFraud\",\n      \"properties\": {\n        \"dtype\": \"number\",\n        \"std\": 0.5477225575051662,\n        \"min\": 0.0,\n        \"max\": 1.0,\n        \"num_unique_values\": 2,\n        \"samples\": [\n          1.0\n        ],\n        \"semantic_type\": \"\",\n        \"description\": \"\"\n      }\n    },\n    {\n      \"column\": \"isFlaggedFraud\",\n      \"properties\": {\n        \"dtype\": \"number\",\n        \"std\": 0.0,\n        \"min\": 0.0,\n        \"max\": 0.0,\n        \"num_unique_values\": 1,\n        \"samples\": [\n          0.0\n        ],\n        \"semantic_type\": \"\",\n        \"description\": \"\"\n      }\n    },\n    {\n      \"column\": \"type_CASH_OUT\",\n      \"properties\": {\n        \"dtype\": \"boolean\",\n        \"num_unique_values\": 2,\n        \"samples\": [\n          true\n        ],\n        \"semantic_type\": \"\",\n        \"description\": \"\"\n      }\n    },\n    {\n      \"column\": \"type_DEBIT\",\n      \"properties\": {\n        \"dtype\": \"boolean\",\n        \"num_unique_values\": 1,\n        \"samples\": [\n          false\n        ],\n        \"semantic_type\": \"\",\n        \"description\": \"\"\n      }\n    },\n    {\n      \"column\": \"type_PAYMENT\",\n      \"properties\": {\n        \"dtype\": \"boolean\",\n        \"num_unique_values\": 2,\n        \"samples\": [\n          false\n        ],\n        \"semantic_type\": \"\",\n        \"description\": \"\"\n      }\n    },\n    {\n      \"column\": \"type_TRANSFER\",\n      \"properties\": {\n        \"dtype\": \"boolean\",\n        \"num_unique_values\": 2,\n        \"samples\": [\n          true\n        ],\n        \"semantic_type\": \"\",\n        \"description\": \"\"\n      }\n    }\n  ]\n}",
       "type": "dataframe"
      },
      "text/html": [
       "\n",
       "  <div id=\"df-263c52dd-d2f1-4634-93a6-974d7b4441b6\" class=\"colab-df-container\">\n",
       "    <div>\n",
       "<style scoped>\n",
       "    .dataframe tbody tr th:only-of-type {\n",
       "        vertical-align: middle;\n",
       "    }\n",
       "\n",
       "    .dataframe tbody tr th {\n",
       "        vertical-align: top;\n",
       "    }\n",
       "\n",
       "    .dataframe thead th {\n",
       "        text-align: right;\n",
       "    }\n",
       "</style>\n",
       "<table border=\"1\" class=\"dataframe\">\n",
       "  <thead>\n",
       "    <tr style=\"text-align: right;\">\n",
       "      <th></th>\n",
       "      <th>step</th>\n",
       "      <th>amount</th>\n",
       "      <th>nameOrig</th>\n",
       "      <th>oldbalanceOrg</th>\n",
       "      <th>newbalanceOrig</th>\n",
       "      <th>nameDest</th>\n",
       "      <th>oldbalanceDest</th>\n",
       "      <th>newbalanceDest</th>\n",
       "      <th>isFraud</th>\n",
       "      <th>isFlaggedFraud</th>\n",
       "      <th>type_CASH_OUT</th>\n",
       "      <th>type_DEBIT</th>\n",
       "      <th>type_PAYMENT</th>\n",
       "      <th>type_TRANSFER</th>\n",
       "    </tr>\n",
       "  </thead>\n",
       "  <tbody>\n",
       "    <tr>\n",
       "      <th>0</th>\n",
       "      <td>-1.639035</td>\n",
       "      <td>-0.363788</td>\n",
       "      <td>C1231006815</td>\n",
       "      <td>-0.309230</td>\n",
       "      <td>-0.315750</td>\n",
       "      <td>M1979787155</td>\n",
       "      <td>-0.332716</td>\n",
       "      <td>-0.364142</td>\n",
       "      <td>0.0</td>\n",
       "      <td>0.0</td>\n",
       "      <td>False</td>\n",
       "      <td>False</td>\n",
       "      <td>True</td>\n",
       "      <td>False</td>\n",
       "    </tr>\n",
       "    <tr>\n",
       "      <th>1</th>\n",
       "      <td>-1.639035</td>\n",
       "      <td>-0.392219</td>\n",
       "      <td>C1666544295</td>\n",
       "      <td>-0.383060</td>\n",
       "      <td>-0.384157</td>\n",
       "      <td>M2044282225</td>\n",
       "      <td>-0.332716</td>\n",
       "      <td>-0.364142</td>\n",
       "      <td>0.0</td>\n",
       "      <td>0.0</td>\n",
       "      <td>False</td>\n",
       "      <td>False</td>\n",
       "      <td>True</td>\n",
       "      <td>False</td>\n",
       "    </tr>\n",
       "    <tr>\n",
       "      <th>2</th>\n",
       "      <td>-1.639035</td>\n",
       "      <td>-0.398220</td>\n",
       "      <td>C1305486145</td>\n",
       "      <td>-0.393508</td>\n",
       "      <td>-0.393567</td>\n",
       "      <td>C553264065</td>\n",
       "      <td>-0.332716</td>\n",
       "      <td>-0.364142</td>\n",
       "      <td>1.0</td>\n",
       "      <td>0.0</td>\n",
       "      <td>False</td>\n",
       "      <td>False</td>\n",
       "      <td>False</td>\n",
       "      <td>True</td>\n",
       "    </tr>\n",
       "    <tr>\n",
       "      <th>3</th>\n",
       "      <td>-1.639035</td>\n",
       "      <td>-0.398220</td>\n",
       "      <td>C840083671</td>\n",
       "      <td>-0.393508</td>\n",
       "      <td>-0.393567</td>\n",
       "      <td>C38997010</td>\n",
       "      <td>-0.324337</td>\n",
       "      <td>-0.364142</td>\n",
       "      <td>1.0</td>\n",
       "      <td>0.0</td>\n",
       "      <td>True</td>\n",
       "      <td>False</td>\n",
       "      <td>False</td>\n",
       "      <td>False</td>\n",
       "    </tr>\n",
       "    <tr>\n",
       "      <th>4</th>\n",
       "      <td>-1.639035</td>\n",
       "      <td>-0.357270</td>\n",
       "      <td>C2048537720</td>\n",
       "      <td>-0.372992</td>\n",
       "      <td>-0.379059</td>\n",
       "      <td>M1230701703</td>\n",
       "      <td>-0.332716</td>\n",
       "      <td>-0.364142</td>\n",
       "      <td>0.0</td>\n",
       "      <td>0.0</td>\n",
       "      <td>False</td>\n",
       "      <td>False</td>\n",
       "      <td>True</td>\n",
       "      <td>False</td>\n",
       "    </tr>\n",
       "  </tbody>\n",
       "</table>\n",
       "</div>\n",
       "    <div class=\"colab-df-buttons\">\n",
       "\n",
       "  <div class=\"colab-df-container\">\n",
       "    <button class=\"colab-df-convert\" onclick=\"convertToInteractive('df-263c52dd-d2f1-4634-93a6-974d7b4441b6')\"\n",
       "            title=\"Convert this dataframe to an interactive table.\"\n",
       "            style=\"display:none;\">\n",
       "\n",
       "  <svg xmlns=\"http://www.w3.org/2000/svg\" height=\"24px\" viewBox=\"0 -960 960 960\">\n",
       "    <path d=\"M120-120v-720h720v720H120Zm60-500h600v-160H180v160Zm220 220h160v-160H400v160Zm0 220h160v-160H400v160ZM180-400h160v-160H180v160Zm440 0h160v-160H620v160ZM180-180h160v-160H180v160Zm440 0h160v-160H620v160Z\"/>\n",
       "  </svg>\n",
       "    </button>\n",
       "\n",
       "  <style>\n",
       "    .colab-df-container {\n",
       "      display:flex;\n",
       "      gap: 12px;\n",
       "    }\n",
       "\n",
       "    .colab-df-convert {\n",
       "      background-color: #E8F0FE;\n",
       "      border: none;\n",
       "      border-radius: 50%;\n",
       "      cursor: pointer;\n",
       "      display: none;\n",
       "      fill: #1967D2;\n",
       "      height: 32px;\n",
       "      padding: 0 0 0 0;\n",
       "      width: 32px;\n",
       "    }\n",
       "\n",
       "    .colab-df-convert:hover {\n",
       "      background-color: #E2EBFA;\n",
       "      box-shadow: 0px 1px 2px rgba(60, 64, 67, 0.3), 0px 1px 3px 1px rgba(60, 64, 67, 0.15);\n",
       "      fill: #174EA6;\n",
       "    }\n",
       "\n",
       "    .colab-df-buttons div {\n",
       "      margin-bottom: 4px;\n",
       "    }\n",
       "\n",
       "    [theme=dark] .colab-df-convert {\n",
       "      background-color: #3B4455;\n",
       "      fill: #D2E3FC;\n",
       "    }\n",
       "\n",
       "    [theme=dark] .colab-df-convert:hover {\n",
       "      background-color: #434B5C;\n",
       "      box-shadow: 0px 1px 3px 1px rgba(0, 0, 0, 0.15);\n",
       "      filter: drop-shadow(0px 1px 2px rgba(0, 0, 0, 0.3));\n",
       "      fill: #FFFFFF;\n",
       "    }\n",
       "  </style>\n",
       "\n",
       "    <script>\n",
       "      const buttonEl =\n",
       "        document.querySelector('#df-263c52dd-d2f1-4634-93a6-974d7b4441b6 button.colab-df-convert');\n",
       "      buttonEl.style.display =\n",
       "        google.colab.kernel.accessAllowed ? 'block' : 'none';\n",
       "\n",
       "      async function convertToInteractive(key) {\n",
       "        const element = document.querySelector('#df-263c52dd-d2f1-4634-93a6-974d7b4441b6');\n",
       "        const dataTable =\n",
       "          await google.colab.kernel.invokeFunction('convertToInteractive',\n",
       "                                                    [key], {});\n",
       "        if (!dataTable) return;\n",
       "\n",
       "        const docLinkHtml = 'Like what you see? Visit the ' +\n",
       "          '<a target=\"_blank\" href=https://colab.research.google.com/notebooks/data_table.ipynb>data table notebook</a>'\n",
       "          + ' to learn more about interactive tables.';\n",
       "        element.innerHTML = '';\n",
       "        dataTable['output_type'] = 'display_data';\n",
       "        await google.colab.output.renderOutput(dataTable, element);\n",
       "        const docLink = document.createElement('div');\n",
       "        docLink.innerHTML = docLinkHtml;\n",
       "        element.appendChild(docLink);\n",
       "      }\n",
       "    </script>\n",
       "  </div>\n",
       "\n",
       "\n",
       "    <div id=\"df-47668edd-49d9-4fa6-be61-def9ff38dc0b\">\n",
       "      <button class=\"colab-df-quickchart\" onclick=\"quickchart('df-47668edd-49d9-4fa6-be61-def9ff38dc0b')\"\n",
       "                title=\"Suggest charts\"\n",
       "                style=\"display:none;\">\n",
       "\n",
       "<svg xmlns=\"http://www.w3.org/2000/svg\" height=\"24px\"viewBox=\"0 0 24 24\"\n",
       "     width=\"24px\">\n",
       "    <g>\n",
       "        <path d=\"M19 3H5c-1.1 0-2 .9-2 2v14c0 1.1.9 2 2 2h14c1.1 0 2-.9 2-2V5c0-1.1-.9-2-2-2zM9 17H7v-7h2v7zm4 0h-2V7h2v10zm4 0h-2v-4h2v4z\"/>\n",
       "    </g>\n",
       "</svg>\n",
       "      </button>\n",
       "\n",
       "<style>\n",
       "  .colab-df-quickchart {\n",
       "      --bg-color: #E8F0FE;\n",
       "      --fill-color: #1967D2;\n",
       "      --hover-bg-color: #E2EBFA;\n",
       "      --hover-fill-color: #174EA6;\n",
       "      --disabled-fill-color: #AAA;\n",
       "      --disabled-bg-color: #DDD;\n",
       "  }\n",
       "\n",
       "  [theme=dark] .colab-df-quickchart {\n",
       "      --bg-color: #3B4455;\n",
       "      --fill-color: #D2E3FC;\n",
       "      --hover-bg-color: #434B5C;\n",
       "      --hover-fill-color: #FFFFFF;\n",
       "      --disabled-bg-color: #3B4455;\n",
       "      --disabled-fill-color: #666;\n",
       "  }\n",
       "\n",
       "  .colab-df-quickchart {\n",
       "    background-color: var(--bg-color);\n",
       "    border: none;\n",
       "    border-radius: 50%;\n",
       "    cursor: pointer;\n",
       "    display: none;\n",
       "    fill: var(--fill-color);\n",
       "    height: 32px;\n",
       "    padding: 0;\n",
       "    width: 32px;\n",
       "  }\n",
       "\n",
       "  .colab-df-quickchart:hover {\n",
       "    background-color: var(--hover-bg-color);\n",
       "    box-shadow: 0 1px 2px rgba(60, 64, 67, 0.3), 0 1px 3px 1px rgba(60, 64, 67, 0.15);\n",
       "    fill: var(--button-hover-fill-color);\n",
       "  }\n",
       "\n",
       "  .colab-df-quickchart-complete:disabled,\n",
       "  .colab-df-quickchart-complete:disabled:hover {\n",
       "    background-color: var(--disabled-bg-color);\n",
       "    fill: var(--disabled-fill-color);\n",
       "    box-shadow: none;\n",
       "  }\n",
       "\n",
       "  .colab-df-spinner {\n",
       "    border: 2px solid var(--fill-color);\n",
       "    border-color: transparent;\n",
       "    border-bottom-color: var(--fill-color);\n",
       "    animation:\n",
       "      spin 1s steps(1) infinite;\n",
       "  }\n",
       "\n",
       "  @keyframes spin {\n",
       "    0% {\n",
       "      border-color: transparent;\n",
       "      border-bottom-color: var(--fill-color);\n",
       "      border-left-color: var(--fill-color);\n",
       "    }\n",
       "    20% {\n",
       "      border-color: transparent;\n",
       "      border-left-color: var(--fill-color);\n",
       "      border-top-color: var(--fill-color);\n",
       "    }\n",
       "    30% {\n",
       "      border-color: transparent;\n",
       "      border-left-color: var(--fill-color);\n",
       "      border-top-color: var(--fill-color);\n",
       "      border-right-color: var(--fill-color);\n",
       "    }\n",
       "    40% {\n",
       "      border-color: transparent;\n",
       "      border-right-color: var(--fill-color);\n",
       "      border-top-color: var(--fill-color);\n",
       "    }\n",
       "    60% {\n",
       "      border-color: transparent;\n",
       "      border-right-color: var(--fill-color);\n",
       "    }\n",
       "    80% {\n",
       "      border-color: transparent;\n",
       "      border-right-color: var(--fill-color);\n",
       "      border-bottom-color: var(--fill-color);\n",
       "    }\n",
       "    90% {\n",
       "      border-color: transparent;\n",
       "      border-bottom-color: var(--fill-color);\n",
       "    }\n",
       "  }\n",
       "</style>\n",
       "\n",
       "      <script>\n",
       "        async function quickchart(key) {\n",
       "          const quickchartButtonEl =\n",
       "            document.querySelector('#' + key + ' button');\n",
       "          quickchartButtonEl.disabled = true;  // To prevent multiple clicks.\n",
       "          quickchartButtonEl.classList.add('colab-df-spinner');\n",
       "          try {\n",
       "            const charts = await google.colab.kernel.invokeFunction(\n",
       "                'suggestCharts', [key], {});\n",
       "          } catch (error) {\n",
       "            console.error('Error during call to suggestCharts:', error);\n",
       "          }\n",
       "          quickchartButtonEl.classList.remove('colab-df-spinner');\n",
       "          quickchartButtonEl.classList.add('colab-df-quickchart-complete');\n",
       "        }\n",
       "        (() => {\n",
       "          let quickchartButtonEl =\n",
       "            document.querySelector('#df-47668edd-49d9-4fa6-be61-def9ff38dc0b button');\n",
       "          quickchartButtonEl.style.display =\n",
       "            google.colab.kernel.accessAllowed ? 'block' : 'none';\n",
       "        })();\n",
       "      </script>\n",
       "    </div>\n",
       "\n",
       "    </div>\n",
       "  </div>\n"
      ],
      "text/plain": [
       "       step    amount     nameOrig  oldbalanceOrg  newbalanceOrig  \\\n",
       "0 -1.639035 -0.363788  C1231006815      -0.309230       -0.315750   \n",
       "1 -1.639035 -0.392219  C1666544295      -0.383060       -0.384157   \n",
       "2 -1.639035 -0.398220  C1305486145      -0.393508       -0.393567   \n",
       "3 -1.639035 -0.398220   C840083671      -0.393508       -0.393567   \n",
       "4 -1.639035 -0.357270  C2048537720      -0.372992       -0.379059   \n",
       "\n",
       "      nameDest  oldbalanceDest  newbalanceDest  isFraud  isFlaggedFraud  \\\n",
       "0  M1979787155       -0.332716       -0.364142      0.0             0.0   \n",
       "1  M2044282225       -0.332716       -0.364142      0.0             0.0   \n",
       "2   C553264065       -0.332716       -0.364142      1.0             0.0   \n",
       "3    C38997010       -0.324337       -0.364142      1.0             0.0   \n",
       "4  M1230701703       -0.332716       -0.364142      0.0             0.0   \n",
       "\n",
       "   type_CASH_OUT  type_DEBIT  type_PAYMENT  type_TRANSFER  \n",
       "0          False       False          True          False  \n",
       "1          False       False          True          False  \n",
       "2          False       False         False           True  \n",
       "3           True       False         False          False  \n",
       "4          False       False          True          False  "
      ]
     },
     "metadata": {},
     "output_type": "display_data"
    }
   ],
   "source": [
    "from sklearn.preprocessing import StandardScaler\n",
    "\n",
    "# Identify numerical columns to scale (exclude 'isFraud' and identifier columns)\n",
    "numerical_cols = df.select_dtypes(include=['int64', 'float64']).columns.tolist()\n",
    "cols_to_exclude = ['isFraud', 'isFlaggedFraud']\n",
    "numerical_cols_to_scale = [col for col in numerical_cols if col not in cols_to_exclude]\n",
    "\n",
    "# Apply StandardScaler\n",
    "scaler = StandardScaler()\n",
    "df[numerical_cols_to_scale] = scaler.fit_transform(df[numerical_cols_to_scale])\n",
    "\n",
    "display(df.head())"
   ]
  },
  {
   "cell_type": "markdown",
   "metadata": {
    "id": "51c653c2"
   },
   "source": [
    "## Exploratory data analysis (eda)\n",
    "\n",
    "### Subtask:\n",
    "Analyze the distribution of the target variable, identify potential correlations between features, and visualize key aspects of the data to gain insights into fraudulent transactions.\n"
   ]
  },
  {
   "cell_type": "markdown",
   "metadata": {
    "id": "b2afed06"
   },
   "source": [
    "**Reasoning**:\n",
    "Check the distribution of the target variable, visualize the distribution, calculate the correlation matrix, and visualize it with a heatmap.\n",
    "\n"
   ]
  },
  {
   "cell_type": "code",
   "execution_count": 6,
   "metadata": {
    "colab": {
     "base_uri": "https://localhost:8080/",
     "height": 571
    },
    "id": "c09ffb0b",
    "outputId": "d3d6687d-b6c6-4a4c-af30-096f8fd789ea"
   },
   "outputs": [
    {
     "data": {
      "text/html": [
       "<div>\n",
       "<style scoped>\n",
       "    .dataframe tbody tr th:only-of-type {\n",
       "        vertical-align: middle;\n",
       "    }\n",
       "\n",
       "    .dataframe tbody tr th {\n",
       "        vertical-align: top;\n",
       "    }\n",
       "\n",
       "    .dataframe thead th {\n",
       "        text-align: right;\n",
       "    }\n",
       "</style>\n",
       "<table border=\"1\" class=\"dataframe\">\n",
       "  <thead>\n",
       "    <tr style=\"text-align: right;\">\n",
       "      <th></th>\n",
       "      <th>count</th>\n",
       "    </tr>\n",
       "    <tr>\n",
       "      <th>isFraud</th>\n",
       "      <th></th>\n",
       "    </tr>\n",
       "  </thead>\n",
       "  <tbody>\n",
       "    <tr>\n",
       "      <th>0.0</th>\n",
       "      <td>14168</td>\n",
       "    </tr>\n",
       "    <tr>\n",
       "      <th>1.0</th>\n",
       "      <td>78</td>\n",
       "    </tr>\n",
       "  </tbody>\n",
       "</table>\n",
       "</div><br><label><b>dtype:</b> int64</label>"
      ],
      "text/plain": [
       "isFraud\n",
       "0.0    14168\n",
       "1.0       78\n",
       "Name: count, dtype: int64"
      ]
     },
     "metadata": {},
     "output_type": "display_data"
    },
    {
     "data": {
      "image/png": "[encoded data removed]",
      "text/plain": [
       "<Figure size 600x400 with 1 Axes>"
      ]
     },
     "metadata": {},
     "output_type": "display_data"
    }
   ],
   "source": [
    "import matplotlib.pyplot as plt\n",
    "import seaborn as sns\n",
    "\n",
    "# Check the distribution of the target variable ('isFraud')\n",
    "fraud_distribution = df['isFraud'].value_counts()\n",
    "display(fraud_distribution)\n",
    "\n",
    "# Visualize the distribution of 'isFraud'\n",
    "plt.figure(figsize=(6, 4))\n",
    "sns.barplot(x=fraud_distribution.index, y=fraud_distribution.values)\n",
    "plt.title('Distribution of isFraud')\n",
    "plt.xlabel('isFraud')\n",
    "plt.ylabel('Count')\n",
    "plt.xticks(ticks=[0, 1], labels=['Not Fraud', 'Fraud'])\n",
    "plt.show()"
   ]
  },
  {
   "cell_type": "markdown",
   "metadata": {
    "id": "1d9227c3"
   },
   "source": [
    "**Reasoning**:\n",
    "Create visualizations to explore the relationship between key numerical features and the target variable, and between the one-hot encoded type columns and the target variable.\n",
    "\n"
   ]
  },
  {
   "cell_type": "code",
   "execution_count": 7,
   "metadata": {
    "colab": {
     "base_uri": "https://localhost:8080/",
     "height": 506
    },
    "id": "5c3d79cb",
    "outputId": "17dfa14c-efb9-43f7-ce94-4620e6f8a6c9"
   },
   "outputs": [
    {
     "data": {
      "image/png": "[encoded data removed]",
      "text/plain": [
       "<Figure size 1200x800 with 2 Axes>"
      ]
     },
     "metadata": {},
     "output_type": "display_data"
    }
   ],
   "source": [
    "import matplotlib.pyplot as plt\n",
    "import seaborn as sns\n",
    "\n",
    "# Calculate and visualize the correlation matrix\n",
    "correlation_matrix = df.drop(['nameOrig', 'nameDest'], axis=1).corr()\n",
    "plt.figure(figsize=(12, 8))\n",
    "sns.heatmap(correlation_matrix, annot=False, cmap='coolwarm')\n",
    "plt.title('Correlation Matrix of Features')\n",
    "plt.show()"
   ]
  },
  {
   "cell_type": "markdown",
   "metadata": {
    "id": "02cfb86a"
   },
   "source": [
    "**Reasoning**:\n",
    "Access the coefficients of the trained Logistic Regression model and create a pandas Series to store the feature names and their corresponding coefficients. Then sort and display them."
   ]
  },
  {
   "cell_type": "code",
   "execution_count": 20,
   "metadata": {
    "colab": {
     "base_uri": "https://localhost:8080/",
     "height": 778
    },
    "id": "fe9e3191",
    "outputId": "dc239615-37ab-40ea-8ce9-845587237cdc"
   },
   "outputs": [
    {
     "data": {
      "text/html": [
       "<div>\n",
       "<style scoped>\n",
       "    .dataframe tbody tr th:only-of-type {\n",
       "        vertical-align: middle;\n",
       "    }\n",
       "\n",
       "    .dataframe tbody tr th {\n",
       "        vertical-align: top;\n",
       "    }\n",
       "\n",
       "    .dataframe thead th {\n",
       "        text-align: right;\n",
       "    }\n",
       "</style>\n",
       "<table border=\"1\" class=\"dataframe\">\n",
       "  <thead>\n",
       "    <tr style=\"text-align: right;\">\n",
       "      <th></th>\n",
       "      <th>0</th>\n",
       "    </tr>\n",
       "  </thead>\n",
       "  <tbody>\n",
       "    <tr>\n",
       "      <th>step</th>\n",
       "      <td>7.781261e-02</td>\n",
       "    </tr>\n",
       "    <tr>\n",
       "      <th>type_PAYMENT</th>\n",
       "      <td>3.331771e-02</td>\n",
       "    </tr>\n",
       "    <tr>\n",
       "      <th>type_CASH_OUT</th>\n",
       "      <td>1.691720e-02</td>\n",
       "    </tr>\n",
       "    <tr>\n",
       "      <th>type_TRANSFER</th>\n",
       "      <td>1.630763e-02</td>\n",
       "    </tr>\n",
       "    <tr>\n",
       "      <th>type_DEBIT</th>\n",
       "      <td>1.134511e-03</td>\n",
       "    </tr>\n",
       "    <tr>\n",
       "      <th>newbalanceOrig</th>\n",
       "      <td>3.441795e-04</td>\n",
       "    </tr>\n",
       "    <tr>\n",
       "      <th>oldbalanceOrg</th>\n",
       "      <td>9.419589e-05</td>\n",
       "    </tr>\n",
       "    <tr>\n",
       "      <th>amount</th>\n",
       "      <td>2.034101e-05</td>\n",
       "    </tr>\n",
       "    <tr>\n",
       "      <th>oldbalanceDest</th>\n",
       "      <td>1.136344e-06</td>\n",
       "    </tr>\n",
       "    <tr>\n",
       "      <th>newbalanceDest</th>\n",
       "      <td>9.031876e-07</td>\n",
       "    </tr>\n",
       "  </tbody>\n",
       "</table>\n",
       "</div><br><label><b>dtype:</b> float64</label>"
      ],
      "text/plain": [
       "step              7.781261e-02\n",
       "type_PAYMENT      3.331771e-02\n",
       "type_CASH_OUT     1.691720e-02\n",
       "type_TRANSFER     1.630763e-02\n",
       "type_DEBIT        1.134511e-03\n",
       "newbalanceOrig    3.441795e-04\n",
       "oldbalanceOrg     9.419589e-05\n",
       "amount            2.034101e-05\n",
       "oldbalanceDest    1.136344e-06\n",
       "newbalanceDest    9.031876e-07\n",
       "dtype: float64"
      ]
     },
     "metadata": {},
     "output_type": "display_data"
    },
    {
     "data": {
      "text/html": [
       "<div>\n",
       "<style scoped>\n",
       "    .dataframe tbody tr th:only-of-type {\n",
       "        vertical-align: middle;\n",
       "    }\n",
       "\n",
       "    .dataframe tbody tr th {\n",
       "        vertical-align: top;\n",
       "    }\n",
       "\n",
       "    .dataframe thead th {\n",
       "        text-align: right;\n",
       "    }\n",
       "</style>\n",
       "<table border=\"1\" class=\"dataframe\">\n",
       "  <thead>\n",
       "    <tr style=\"text-align: right;\">\n",
       "      <th></th>\n",
       "      <th>0</th>\n",
       "    </tr>\n",
       "  </thead>\n",
       "  <tbody>\n",
       "    <tr>\n",
       "      <th>step</th>\n",
       "      <td>-7.781261e-02</td>\n",
       "    </tr>\n",
       "    <tr>\n",
       "      <th>type_PAYMENT</th>\n",
       "      <td>-3.331771e-02</td>\n",
       "    </tr>\n",
       "    <tr>\n",
       "      <th>type_CASH_OUT</th>\n",
       "      <td>1.691720e-02</td>\n",
       "    </tr>\n",
       "    <tr>\n",
       "      <th>type_TRANSFER</th>\n",
       "      <td>1.630763e-02</td>\n",
       "    </tr>\n",
       "    <tr>\n",
       "      <th>type_DEBIT</th>\n",
       "      <td>-1.134511e-03</td>\n",
       "    </tr>\n",
       "    <tr>\n",
       "      <th>newbalanceOrig</th>\n",
       "      <td>-3.441795e-04</td>\n",
       "    </tr>\n",
       "    <tr>\n",
       "      <th>oldbalanceOrg</th>\n",
       "      <td>9.419589e-05</td>\n",
       "    </tr>\n",
       "    <tr>\n",
       "      <th>amount</th>\n",
       "      <td>-2.034101e-05</td>\n",
       "    </tr>\n",
       "    <tr>\n",
       "      <th>oldbalanceDest</th>\n",
       "      <td>-1.136344e-06</td>\n",
       "    </tr>\n",
       "    <tr>\n",
       "      <th>newbalanceDest</th>\n",
       "      <td>9.031876e-07</td>\n",
       "    </tr>\n",
       "  </tbody>\n",
       "</table>\n",
       "</div><br><label><b>dtype:</b> float64</label>"
      ],
      "text/plain": [
       "step             -7.781261e-02\n",
       "type_PAYMENT     -3.331771e-02\n",
       "type_CASH_OUT     1.691720e-02\n",
       "type_TRANSFER     1.630763e-02\n",
       "type_DEBIT       -1.134511e-03\n",
       "newbalanceOrig   -3.441795e-04\n",
       "oldbalanceOrg     9.419589e-05\n",
       "amount           -2.034101e-05\n",
       "oldbalanceDest   -1.136344e-06\n",
       "newbalanceDest    9.031876e-07\n",
       "dtype: float64"
      ]
     },
     "metadata": {},
     "output_type": "display_data"
    }
   ],
   "source": [
    "# Access the coefficients of the trained Logistic Regression model\n",
    "coefficients = model.coef_[0]\n",
    "\n",
    "# Get the feature names from the training data\n",
    "feature_names = X_train.columns\n",
    "\n",
    "# Create a pandas Series to store feature names and coefficients\n",
    "feature_importance = pd.Series(coefficients, index=feature_names)\n",
    "\n",
    "# Sort and display feature importances\n",
    "sorted_feature_importance = feature_importance.abs().sort_values(ascending=False)\n",
    "display(sorted_feature_importance)\n",
    "\n",
    "display(feature_importance.loc[sorted_feature_importance.index])"
   ]
  },
  {
   "cell_type": "markdown",
   "metadata": {
    "id": "e28baeb9"
   },
   "source": [
    "## Model interpretation\n",
    "\n",
    "### Subtask:\n",
    "Interpret the model's results to understand which features are most important in predicting fraudulent transactions. This is crucial for developing an actionable plan."
   ]
  },
  {
   "cell_type": "markdown",
   "metadata": {
    "id": "7ab73689"
   },
   "source": [
    "## Model evaluation\n",
    "\n",
    "### Subtask:\n",
    "Evaluate the trained model's performance on the validation set using relevant metrics for imbalanced datasets (e.g., Precision, Recall, F1-score, AUC)."
   ]
  },
  {
   "cell_type": "markdown",
   "metadata": {
    "id": "7c4e02a7"
   },
   "source": [
    "**Reasoning**:\n",
    "Import necessary metrics, make predictions, calculate and print evaluation metrics, and briefly interpret the results."
   ]
  },
  {
   "cell_type": "code",
   "execution_count": 21,
   "metadata": {
    "colab": {
     "base_uri": "https://localhost:8080/"
    },
    "id": "8f44d79a",
    "outputId": "70cc906a-f93d-445d-edf4-b51953e3c30b"
   },
   "outputs": [
    {
     "name": "stdout",
     "output_type": "stream",
     "text": [
      "Model Evaluation Metrics on Validation Set:\n",
      "Accuracy: 0.9375\n",
      "Precision: 0.0737\n",
      "Recall: 0.8750\n",
      "F1-score: 0.1359\n",
      "AUC: 0.9713\n"
     ]
    }
   ],
   "source": [
    "from sklearn.metrics import accuracy_score, precision_score, recall_score, f1_score, roc_auc_score\n",
    "\n",
    "# Make predictions on the validation set\n",
    "y_pred = model.predict(X_val)\n",
    "\n",
    "# Get predicted probabilities for AUC\n",
    "y_pred_proba = model.predict_proba(X_val)[:, 1] # Probability of the positive class (fraud=1)\n",
    "\n",
    "# Calculate evaluation metrics\n",
    "accuracy = accuracy_score(y_val, y_pred)\n",
    "precision = precision_score(y_val, y_pred)\n",
    "recall = recall_score(y_val, y_pred)\n",
    "f1 = f1_score(y_val, y_pred)\n",
    "auc = roc_auc_score(y_val, y_pred_proba)\n",
    "\n",
    "# Print the evaluation metrics\n",
    "print(\"Model Evaluation Metrics on Validation Set:\")\n",
    "print(f\"Accuracy: {accuracy:.4f}\")\n",
    "print(f\"Precision: {precision:.4f}\")\n",
    "print(f\"Recall: {recall:.4f}\")\n",
    "print(f\"F1-score: {f1:.4f}\")\n",
    "print(f\"AUC: {auc:.4f}\")"
   ]
  },
  {
   "cell_type": "markdown",
   "metadata": {
    "id": "2e3832d5"
   },
   "source": [
    "**Reasoning**:\n",
    "Split the data into training and validation sets and train the selected Logistic Regression model on the training data, addressing class imbalance."
   ]
  },
  {
   "cell_type": "markdown",
   "metadata": {
    "id": "97fc502d"
   },
   "source": [
    "Split data and train model."
   ]
  },
  {
   "cell_type": "code",
   "execution_count": 19,
   "metadata": {
    "colab": {
     "base_uri": "https://localhost:8080/",
     "height": 100
    },
    "id": "d00620b7",
    "outputId": "55b2c54c-3374-459a-a3ae-748917caefed"
   },
   "outputs": [
    {
     "data": {
      "text/html": [
       "<style>#sk-container-id-2 {\n",
       "  /* Definition of color scheme common for light and dark mode */\n",
       "  --sklearn-color-text: #000;\n",
       "  --sklearn-color-text-muted: #666;\n",
       "  --sklearn-color-line: gray;\n",
       "  /* Definition of color scheme for unfitted estimators */\n",
       "  --sklearn-color-unfitted-level-0: #fff5e6;\n",
       "  --sklearn-color-unfitted-level-1: #f6e4d2;\n",
       "  --sklearn-color-unfitted-level-2: #ffe0b3;\n",
       "  --sklearn-color-unfitted-level-3: chocolate;\n",
       "  /* Definition of color scheme for fitted estimators */\n",
       "  --sklearn-color-fitted-level-0: #f0f8ff;\n",
       "  --sklearn-color-fitted-level-1: #d4ebff;\n",
       "  --sklearn-color-fitted-level-2: #b3dbfd;\n",
       "  --sklearn-color-fitted-level-3: cornflowerblue;\n",
       "\n",
       "  /* Specific color for light theme */\n",
       "  --sklearn-color-text-on-default-background: var(--sg-text-color, var(--theme-code-foreground, var(--jp-content-font-color1, black)));\n",
       "  --sklearn-color-background: var(--sg-background-color, var(--theme-background, var(--jp-layout-color0, white)));\n",
       "  --sklearn-color-border-box: var(--sg-text-color, var(--theme-code-foreground, var(--jp-content-font-color1, black)));\n",
       "  --sklearn-color-icon: #696969;\n",
       "\n",
       "  @media (prefers-color-scheme: dark) {\n",
       "    /* Redefinition of color scheme for dark theme */\n",
       "    --sklearn-color-text-on-default-background: var(--sg-text-color, var(--theme-code-foreground, var(--jp-content-font-color1, white)));\n",
       "    --sklearn-color-background: var(--sg-background-color, var(--theme-background, var(--jp-layout-color0, #111)));\n",
       "    --sklearn-color-border-box: var(--sg-text-color, var(--theme-code-foreground, var(--jp-content-font-color1, white)));\n",
       "    --sklearn-color-icon: #878787;\n",
       "  }\n",
       "}\n",
       "\n",
       "#sk-container-id-2 {\n",
       "  color: var(--sklearn-color-text);\n",
       "}\n",
       "\n",
       "#sk-container-id-2 pre {\n",
       "  padding: 0;\n",
       "}\n",
       "\n",
       "#sk-container-id-2 input.sk-hidden--visually {\n",
       "  border: 0;\n",
       "  clip: rect(1px 1px 1px 1px);\n",
       "  clip: rect(1px, 1px, 1px, 1px);\n",
       "  height: 1px;\n",
       "  margin: -1px;\n",
       "  overflow: hidden;\n",
       "  padding: 0;\n",
       "  position: absolute;\n",
       "  width: 1px;\n",
       "}\n",
       "\n",
       "#sk-container-id-2 div.sk-dashed-wrapped {\n",
       "  border: 1px dashed var(--sklearn-color-line);\n",
       "  margin: 0 0.4em 0.5em 0.4em;\n",
       "  box-sizing: border-box;\n",
       "  padding-bottom: 0.4em;\n",
       "  background-color: var(--sklearn-color-background);\n",
       "}\n",
       "\n",
       "#sk-container-id-2 div.sk-container {\n",
       "  /* jupyter's `normalize.less` sets `[hidden] { display: none; }`\n",
       "     but bootstrap.min.css set `[hidden] { display: none !important; }`\n",
       "     so we also need the `!important` here to be able to override the\n",
       "     default hidden behavior on the sphinx rendered scikit-learn.org.\n",
       "     See: https://github.com/scikit-learn/scikit-learn/issues/21755 */\n",
       "  display: inline-block !important;\n",
       "  position: relative;\n",
       "}\n",
       "\n",
       "#sk-container-id-2 div.sk-text-repr-fallback {\n",
       "  display: none;\n",
       "}\n",
       "\n",
       "div.sk-parallel-item,\n",
       "div.sk-serial,\n",
       "div.sk-item {\n",
       "  /* draw centered vertical line to link estimators */\n",
       "  background-image: linear-gradient(var(--sklearn-color-text-on-default-background), var(--sklearn-color-text-on-default-background));\n",
       "  background-size: 2px 100%;\n",
       "  background-repeat: no-repeat;\n",
       "  background-position: center center;\n",
       "}\n",
       "\n",
       "/* Parallel-specific style estimator block */\n",
       "\n",
       "#sk-container-id-2 div.sk-parallel-item::after {\n",
       "  content: \"\";\n",
       "  width: 100%;\n",
       "  border-bottom: 2px solid var(--sklearn-color-text-on-default-background);\n",
       "  flex-grow: 1;\n",
       "}\n",
       "\n",
       "#sk-container-id-2 div.sk-parallel {\n",
       "  display: flex;\n",
       "  align-items: stretch;\n",
       "  justify-content: center;\n",
       "  background-color: var(--sklearn-color-background);\n",
       "  position: relative;\n",
       "}\n",
       "\n",
       "#sk-container-id-2 div.sk-parallel-item {\n",
       "  display: flex;\n",
       "  flex-direction: column;\n",
       "}\n",
       "\n",
       "#sk-container-id-2 div.sk-parallel-item:first-child::after {\n",
       "  align-self: flex-end;\n",
       "  width: 50%;\n",
       "}\n",
       "\n",
       "#sk-container-id-2 div.sk-parallel-item:last-child::after {\n",
       "  align-self: flex-start;\n",
       "  width: 50%;\n",
       "}\n",
       "\n",
       "#sk-container-id-2 div.sk-parallel-item:only-child::after {\n",
       "  width: 0;\n",
       "}\n",
       "\n",
       "/* Serial-specific style estimator block */\n",
       "\n",
       "#sk-container-id-2 div.sk-serial {\n",
       "  display: flex;\n",
       "  flex-direction: column;\n",
       "  align-items: center;\n",
       "  background-color: var(--sklearn-color-background);\n",
       "  padding-right: 1em;\n",
       "  padding-left: 1em;\n",
       "}\n",
       "\n",
       "\n",
       "/* Toggleable style: style used for estimator/Pipeline/ColumnTransformer box that is\n",
       "clickable and can be expanded/collapsed.\n",
       "- Pipeline and ColumnTransformer use this feature and define the default style\n",
       "- Estimators will overwrite some part of the style using the `sk-estimator` class\n",
       "*/\n",
       "\n",
       "/* Pipeline and ColumnTransformer style (default) */\n",
       "\n",
       "#sk-container-id-2 div.sk-toggleable {\n",
       "  /* Default theme specific background. It is overwritten whether we have a\n",
       "  specific estimator or a Pipeline/ColumnTransformer */\n",
       "  background-color: var(--sklearn-color-background);\n",
       "}\n",
       "\n",
       "/* Toggleable label */\n",
       "#sk-container-id-2 label.sk-toggleable__label {\n",
       "  cursor: pointer;\n",
       "  display: flex;\n",
       "  width: 100%;\n",
       "  margin-bottom: 0;\n",
       "  padding: 0.5em;\n",
       "  box-sizing: border-box;\n",
       "  text-align: center;\n",
       "  align-items: start;\n",
       "  justify-content: space-between;\n",
       "  gap: 0.5em;\n",
       "}\n",
       "\n",
       "#sk-container-id-2 label.sk-toggleable__label .caption {\n",
       "  font-size: 0.6rem;\n",
       "  font-weight: lighter;\n",
       "  color: var(--sklearn-color-text-muted);\n",
       "}\n",
       "\n",
       "#sk-container-id-2 label.sk-toggleable__label-arrow:before {\n",
       "  /* Arrow on the left of the label */\n",
       "  content: \"▸\";\n",
       "  float: left;\n",
       "  margin-right: 0.25em;\n",
       "  color: var(--sklearn-color-icon);\n",
       "}\n",
       "\n",
       "#sk-container-id-2 label.sk-toggleable__label-arrow:hover:before {\n",
       "  color: var(--sklearn-color-text);\n",
       "}\n",
       "\n",
       "/* Toggleable content - dropdown */\n",
       "\n",
       "#sk-container-id-2 div.sk-toggleable__content {\n",
       "  max-height: 0;\n",
       "  max-width: 0;\n",
       "  overflow: hidden;\n",
       "  text-align: left;\n",
       "  /* unfitted */\n",
       "  background-color: var(--sklearn-color-unfitted-level-0);\n",
       "}\n",
       "\n",
       "#sk-container-id-2 div.sk-toggleable__content.fitted {\n",
       "  /* fitted */\n",
       "  background-color: var(--sklearn-color-fitted-level-0);\n",
       "}\n",
       "\n",
       "#sk-container-id-2 div.sk-toggleable__content pre {\n",
       "  margin: 0.2em;\n",
       "  border-radius: 0.25em;\n",
       "  color: var(--sklearn-color-text);\n",
       "  /* unfitted */\n",
       "  background-color: var(--sklearn-color-unfitted-level-0);\n",
       "}\n",
       "\n",
       "#sk-container-id-2 div.sk-toggleable__content.fitted pre {\n",
       "  /* unfitted */\n",
       "  background-color: var(--sklearn-color-fitted-level-0);\n",
       "}\n",
       "\n",
       "#sk-container-id-2 input.sk-toggleable__control:checked~div.sk-toggleable__content {\n",
       "  /* Expand drop-down */\n",
       "  max-height: 200px;\n",
       "  max-width: 100%;\n",
       "  overflow: auto;\n",
       "}\n",
       "\n",
       "#sk-container-id-2 input.sk-toggleable__control:checked~label.sk-toggleable__label-arrow:before {\n",
       "  content: \"▾\";\n",
       "}\n",
       "\n",
       "/* Pipeline/ColumnTransformer-specific style */\n",
       "\n",
       "#sk-container-id-2 div.sk-label input.sk-toggleable__control:checked~label.sk-toggleable__label {\n",
       "  color: var(--sklearn-color-text);\n",
       "  background-color: var(--sklearn-color-unfitted-level-2);\n",
       "}\n",
       "\n",
       "#sk-container-id-2 div.sk-label.fitted input.sk-toggleable__control:checked~label.sk-toggleable__label {\n",
       "  background-color: var(--sklearn-color-fitted-level-2);\n",
       "}\n",
       "\n",
       "/* Estimator-specific style */\n",
       "\n",
       "/* Colorize estimator box */\n",
       "#sk-container-id-2 div.sk-estimator input.sk-toggleable__control:checked~label.sk-toggleable__label {\n",
       "  /* unfitted */\n",
       "  background-color: var(--sklearn-color-unfitted-level-2);\n",
       "}\n",
       "\n",
       "#sk-container-id-2 div.sk-estimator.fitted input.sk-toggleable__control:checked~label.sk-toggleable__label {\n",
       "  /* fitted */\n",
       "  background-color: var(--sklearn-color-fitted-level-2);\n",
       "}\n",
       "\n",
       "#sk-container-id-2 div.sk-label label.sk-toggleable__label,\n",
       "#sk-container-id-2 div.sk-label label {\n",
       "  /* The background is the default theme color */\n",
       "  color: var(--sklearn-color-text-on-default-background);\n",
       "}\n",
       "\n",
       "/* On hover, darken the color of the background */\n",
       "#sk-container-id-2 div.sk-label:hover label.sk-toggleable__label {\n",
       "  color: var(--sklearn-color-text);\n",
       "  background-color: var(--sklearn-color-unfitted-level-2);\n",
       "}\n",
       "\n",
       "/* Label box, darken color on hover, fitted */\n",
       "#sk-container-id-2 div.sk-label.fitted:hover label.sk-toggleable__label.fitted {\n",
       "  color: var(--sklearn-color-text);\n",
       "  background-color: var(--sklearn-color-fitted-level-2);\n",
       "}\n",
       "\n",
       "/* Estimator label */\n",
       "\n",
       "#sk-container-id-2 div.sk-label label {\n",
       "  font-family: monospace;\n",
       "  font-weight: bold;\n",
       "  display: inline-block;\n",
       "  line-height: 1.2em;\n",
       "}\n",
       "\n",
       "#sk-container-id-2 div.sk-label-container {\n",
       "  text-align: center;\n",
       "}\n",
       "\n",
       "/* Estimator-specific */\n",
       "#sk-container-id-2 div.sk-estimator {\n",
       "  font-family: monospace;\n",
       "  border: 1px dotted var(--sklearn-color-border-box);\n",
       "  border-radius: 0.25em;\n",
       "  box-sizing: border-box;\n",
       "  margin-bottom: 0.5em;\n",
       "  /* unfitted */\n",
       "  background-color: var(--sklearn-color-unfitted-level-0);\n",
       "}\n",
       "\n",
       "#sk-container-id-2 div.sk-estimator.fitted {\n",
       "  /* fitted */\n",
       "  background-color: var(--sklearn-color-fitted-level-0);\n",
       "}\n",
       "\n",
       "/* on hover */\n",
       "#sk-container-id-2 div.sk-estimator:hover {\n",
       "  /* unfitted */\n",
       "  background-color: var(--sklearn-color-unfitted-level-2);\n",
       "}\n",
       "\n",
       "#sk-container-id-2 div.sk-estimator.fitted:hover {\n",
       "  /* fitted */\n",
       "  background-color: var(--sklearn-color-fitted-level-2);\n",
       "}\n",
       "\n",
       "/* Specification for estimator info (e.g. \"i\" and \"?\") */\n",
       "\n",
       "/* Common style for \"i\" and \"?\" */\n",
       "\n",
       ".sk-estimator-doc-link,\n",
       "a:link.sk-estimator-doc-link,\n",
       "a:visited.sk-estimator-doc-link {\n",
       "  float: right;\n",
       "  font-size: smaller;\n",
       "  line-height: 1em;\n",
       "  font-family: monospace;\n",
       "  background-color: var(--sklearn-color-background);\n",
       "  border-radius: 1em;\n",
       "  height: 1em;\n",
       "  width: 1em;\n",
       "  text-decoration: none !important;\n",
       "  margin-left: 0.5em;\n",
       "  text-align: center;\n",
       "  /* unfitted */\n",
       "  border: var(--sklearn-color-unfitted-level-1) 1pt solid;\n",
       "  color: var(--sklearn-color-unfitted-level-1);\n",
       "}\n",
       "\n",
       ".sk-estimator-doc-link.fitted,\n",
       "a:link.sk-estimator-doc-link.fitted,\n",
       "a:visited.sk-estimator-doc-link.fitted {\n",
       "  /* fitted */\n",
       "  border: var(--sklearn-color-fitted-level-1) 1pt solid;\n",
       "  color: var(--sklearn-color-fitted-level-1);\n",
       "}\n",
       "\n",
       "/* On hover */\n",
       "div.sk-estimator:hover .sk-estimator-doc-link:hover,\n",
       ".sk-estimator-doc-link:hover,\n",
       "div.sk-label-container:hover .sk-estimator-doc-link:hover,\n",
       ".sk-estimator-doc-link:hover {\n",
       "  /* unfitted */\n",
       "  background-color: var(--sklearn-color-unfitted-level-3);\n",
       "  color: var(--sklearn-color-background);\n",
       "  text-decoration: none;\n",
       "}\n",
       "\n",
       "div.sk-estimator.fitted:hover .sk-estimator-doc-link.fitted:hover,\n",
       ".sk-estimator-doc-link.fitted:hover,\n",
       "div.sk-label-container:hover .sk-estimator-doc-link.fitted:hover,\n",
       ".sk-estimator-doc-link.fitted:hover {\n",
       "  /* fitted */\n",
       "  background-color: var(--sklearn-color-fitted-level-3);\n",
       "  color: var(--sklearn-color-background);\n",
       "  text-decoration: none;\n",
       "}\n",
       "\n",
       "/* Span, style for the box shown on hovering the info icon */\n",
       ".sk-estimator-doc-link span {\n",
       "  display: none;\n",
       "  z-index: 9999;\n",
       "  position: relative;\n",
       "  font-weight: normal;\n",
       "  right: .2ex;\n",
       "  padding: .5ex;\n",
       "  margin: .5ex;\n",
       "  width: min-content;\n",
       "  min-width: 20ex;\n",
       "  max-width: 50ex;\n",
       "  color: var(--sklearn-color-text);\n",
       "  box-shadow: 2pt 2pt 4pt #999;\n",
       "  /* unfitted */\n",
       "  background: var(--sklearn-color-unfitted-level-0);\n",
       "  border: .5pt solid var(--sklearn-color-unfitted-level-3);\n",
       "}\n",
       "\n",
       ".sk-estimator-doc-link.fitted span {\n",
       "  /* fitted */\n",
       "  background: var(--sklearn-color-fitted-level-0);\n",
       "  border: var(--sklearn-color-fitted-level-3);\n",
       "}\n",
       "\n",
       ".sk-estimator-doc-link:hover span {\n",
       "  display: block;\n",
       "}\n",
       "\n",
       "/* \"?\"-specific style due to the `<a>` HTML tag */\n",
       "\n",
       "#sk-container-id-2 a.estimator_doc_link {\n",
       "  float: right;\n",
       "  font-size: 1rem;\n",
       "  line-height: 1em;\n",
       "  font-family: monospace;\n",
       "  background-color: var(--sklearn-color-background);\n",
       "  border-radius: 1rem;\n",
       "  height: 1rem;\n",
       "  width: 1rem;\n",
       "  text-decoration: none;\n",
       "  /* unfitted */\n",
       "  color: var(--sklearn-color-unfitted-level-1);\n",
       "  border: var(--sklearn-color-unfitted-level-1) 1pt solid;\n",
       "}\n",
       "\n",
       "#sk-container-id-2 a.estimator_doc_link.fitted {\n",
       "  /* fitted */\n",
       "  border: var(--sklearn-color-fitted-level-1) 1pt solid;\n",
       "  color: var(--sklearn-color-fitted-level-1);\n",
       "}\n",
       "\n",
       "/* On hover */\n",
       "#sk-container-id-2 a.estimator_doc_link:hover {\n",
       "  /* unfitted */\n",
       "  background-color: var(--sklearn-color-unfitted-level-3);\n",
       "  color: var(--sklearn-color-background);\n",
       "  text-decoration: none;\n",
       "}\n",
       "\n",
       "#sk-container-id-2 a.estimator_doc_link.fitted:hover {\n",
       "  /* fitted */\n",
       "  background-color: var(--sklearn-color-fitted-level-3);\n",
       "}\n",
       "</style><div id=\"sk-container-id-2\" class=\"sk-top-container\"><div class=\"sk-text-repr-fallback\"><pre>LogisticRegression(class_weight=&#x27;balanced&#x27;, random_state=42, solver=&#x27;liblinear&#x27;)</pre><b>In a Jupyter environment, please rerun this cell to show the HTML representation or trust the notebook. <br />On GitHub, the HTML representation is unable to render, please try loading this page with nbviewer.org.</b></div><div class=\"sk-container\" hidden><div class=\"sk-item\"><div class=\"sk-estimator fitted sk-toggleable\"><input class=\"sk-toggleable__control sk-hidden--visually\" id=\"sk-estimator-id-2\" type=\"checkbox\" checked><label for=\"sk-estimator-id-2\" class=\"sk-toggleable__label fitted sk-toggleable__label-arrow\"><div><div>LogisticRegression</div></div><div><a class=\"sk-estimator-doc-link fitted\" rel=\"noreferrer\" target=\"_blank\" href=\"https://scikit-learn.org/1.6/modules/generated/sklearn.linear_model.LogisticRegression.html\">?<span>Documentation for LogisticRegression</span></a><span class=\"sk-estimator-doc-link fitted\">i<span>Fitted</span></span></div></label><div class=\"sk-toggleable__content fitted\"><pre>LogisticRegression(class_weight=&#x27;balanced&#x27;, random_state=42, solver=&#x27;liblinear&#x27;)</pre></div> </div></div></div></div>"
      ],
      "text/plain": [
       "LogisticRegression(class_weight='balanced', random_state=42, solver='liblinear')"
      ]
     },
     "execution_count": 19,
     "metadata": {},
     "output_type": "execute_result"
    }
   ],
   "source": [
    "from sklearn.model_selection import train_test_split\n",
    "from sklearn.linear_model import LogisticRegression\n",
    "\n",
    "# Drop rows with missing values in the relevant columns before splitting\n",
    "df.dropna(subset=['isFraud', 'oldbalanceOrg', 'newbalanceOrig', 'nameDest', 'oldbalanceDest', 'newbalanceDest'], inplace=True)\n",
    "\n",
    "# Apply One-Hot Encoding to the 'type' column after dropping NaNs\n",
    "df = pd.get_dummies(df, columns=['type'], drop_first=True)\n",
    "\n",
    "# Define features (X) and target (y) again after dropping rows and encoding\n",
    "X = df.drop(['nameOrig',\n",
    "             'nameDest', 'isFraud', 'isFlaggedFraud'], axis=1)\n",
    "y = df['isFraud']\n",
    "\n",
    "\n",
    "# Split data into training and validation sets\n",
    "X_train, X_val, y_train, y_val = train_test_split(X, y, test_size=0.2, random_state=42, stratify=y)\n",
    "\n",
    "# Instantiate and train the Logistic Regression model\n",
    "model = LogisticRegression(class_weight='balanced', solver='liblinear', random_state=42)\n",
    "model.fit(X_train, y_train)"
   ]
  },
  {
   "cell_type": "markdown",
   "metadata": {
    "id": "beadfb7a"
   },
   "source": [
    "Evaluate model performance."
   ]
  },
  {
   "cell_type": "code",
   "execution_count": 11,
   "metadata": {
    "colab": {
     "base_uri": "https://localhost:8080/"
    },
    "id": "a7bc6711",
    "outputId": "cde876be-01e2-4fd9-9bfe-9281cca95ec9"
   },
   "outputs": [
    {
     "name": "stdout",
     "output_type": "stream",
     "text": [
      "Model Evaluation Metrics on Validation Set:\n",
      "Accuracy: 0.8695\n",
      "Precision: 0.0412\n",
      "Recall: 1.0000\n",
      "F1-score: 0.0792\n",
      "AUC: 0.9809\n"
     ]
    }
   ],
   "source": [
    "from sklearn.metrics import accuracy_score, precision_score, recall_score, f1_score, roc_auc_score\n",
    "\n",
    "# Make predictions on the validation set\n",
    "y_pred = model.predict(X_val)\n",
    "y_pred_proba = model.predict_proba(X_val)[:, 1]\n",
    "\n",
    "# Calculate evaluation metrics\n",
    "accuracy = accuracy_score(y_val, y_pred)\n",
    "precision = precision_score(y_val, y_pred)\n",
    "recall = recall_score(y_val, y_pred)\n",
    "f1 = f1_score(y_val, y_pred)\n",
    "auc = roc_auc_score(y_val, y_pred_proba)\n",
    "\n",
    "# Print the evaluation metrics\n",
    "print(\"Model Evaluation Metrics on Validation Set:\")\n",
    "print(f\"Accuracy: {accuracy:.4f}\")\n",
    "print(f\"Precision: {precision:.4f}\")\n",
    "print(f\"Recall: {recall:.4f}\")\n",
    "print(f\"F1-score: {f1:.4f}\")\n",
    "print(f\"AUC: {auc:.4f}\")"
   ]
  },
  {
   "cell_type": "markdown",
   "metadata": {
    "id": "f09c3259"
   },
   "source": [
    "Interpret feature importances."
   ]
  },
  {
   "cell_type": "code",
   "execution_count": 12,
   "metadata": {
    "colab": {
     "base_uri": "https://localhost:8080/",
     "height": 778
    },
    "id": "bbbd1eb1",
    "outputId": "f77bfca6-70b2-4887-e0f6-222d2f95ead5"
   },
   "outputs": [
    {
     "data": {
      "text/html": [
       "<div>\n",
       "<style scoped>\n",
       "    .dataframe tbody tr th:only-of-type {\n",
       "        vertical-align: middle;\n",
       "    }\n",
       "\n",
       "    .dataframe tbody tr th {\n",
       "        vertical-align: top;\n",
       "    }\n",
       "\n",
       "    .dataframe thead th {\n",
       "        text-align: right;\n",
       "    }\n",
       "</style>\n",
       "<table border=\"1\" class=\"dataframe\">\n",
       "  <thead>\n",
       "    <tr style=\"text-align: right;\">\n",
       "      <th></th>\n",
       "      <th>0</th>\n",
       "    </tr>\n",
       "  </thead>\n",
       "  <tbody>\n",
       "    <tr>\n",
       "      <th>newbalanceOrig</th>\n",
       "      <td>16.231710</td>\n",
       "    </tr>\n",
       "    <tr>\n",
       "      <th>oldbalanceOrg</th>\n",
       "      <td>14.665469</td>\n",
       "    </tr>\n",
       "    <tr>\n",
       "      <th>type_TRANSFER</th>\n",
       "      <td>4.406461</td>\n",
       "    </tr>\n",
       "    <tr>\n",
       "      <th>type_PAYMENT</th>\n",
       "      <td>4.278711</td>\n",
       "    </tr>\n",
       "    <tr>\n",
       "      <th>type_CASH_OUT</th>\n",
       "      <td>3.963638</td>\n",
       "    </tr>\n",
       "    <tr>\n",
       "      <th>type_DEBIT</th>\n",
       "      <td>2.277373</td>\n",
       "    </tr>\n",
       "    <tr>\n",
       "      <th>amount</th>\n",
       "      <td>1.845328</td>\n",
       "    </tr>\n",
       "    <tr>\n",
       "      <th>step</th>\n",
       "      <td>0.504275</td>\n",
       "    </tr>\n",
       "    <tr>\n",
       "      <th>oldbalanceDest</th>\n",
       "      <td>0.423710</td>\n",
       "    </tr>\n",
       "    <tr>\n",
       "      <th>newbalanceDest</th>\n",
       "      <td>0.095545</td>\n",
       "    </tr>\n",
       "  </tbody>\n",
       "</table>\n",
       "</div><br><label><b>dtype:</b> float64</label>"
      ],
      "text/plain": [
       "newbalanceOrig    16.231710\n",
       "oldbalanceOrg     14.665469\n",
       "type_TRANSFER      4.406461\n",
       "type_PAYMENT       4.278711\n",
       "type_CASH_OUT      3.963638\n",
       "type_DEBIT         2.277373\n",
       "amount             1.845328\n",
       "step               0.504275\n",
       "oldbalanceDest     0.423710\n",
       "newbalanceDest     0.095545\n",
       "dtype: float64"
      ]
     },
     "metadata": {},
     "output_type": "display_data"
    },
    {
     "data": {
      "text/html": [
       "<div>\n",
       "<style scoped>\n",
       "    .dataframe tbody tr th:only-of-type {\n",
       "        vertical-align: middle;\n",
       "    }\n",
       "\n",
       "    .dataframe tbody tr th {\n",
       "        vertical-align: top;\n",
       "    }\n",
       "\n",
       "    .dataframe thead th {\n",
       "        text-align: right;\n",
       "    }\n",
       "</style>\n",
       "<table border=\"1\" class=\"dataframe\">\n",
       "  <thead>\n",
       "    <tr style=\"text-align: right;\">\n",
       "      <th></th>\n",
       "      <th>0</th>\n",
       "    </tr>\n",
       "  </thead>\n",
       "  <tbody>\n",
       "    <tr>\n",
       "      <th>newbalanceOrig</th>\n",
       "      <td>-16.231710</td>\n",
       "    </tr>\n",
       "    <tr>\n",
       "      <th>oldbalanceOrg</th>\n",
       "      <td>14.665469</td>\n",
       "    </tr>\n",
       "    <tr>\n",
       "      <th>type_TRANSFER</th>\n",
       "      <td>4.406461</td>\n",
       "    </tr>\n",
       "    <tr>\n",
       "      <th>type_PAYMENT</th>\n",
       "      <td>-4.278711</td>\n",
       "    </tr>\n",
       "    <tr>\n",
       "      <th>type_CASH_OUT</th>\n",
       "      <td>3.963638</td>\n",
       "    </tr>\n",
       "    <tr>\n",
       "      <th>type_DEBIT</th>\n",
       "      <td>-2.277373</td>\n",
       "    </tr>\n",
       "    <tr>\n",
       "      <th>amount</th>\n",
       "      <td>-1.845328</td>\n",
       "    </tr>\n",
       "    <tr>\n",
       "      <th>step</th>\n",
       "      <td>-0.504275</td>\n",
       "    </tr>\n",
       "    <tr>\n",
       "      <th>oldbalanceDest</th>\n",
       "      <td>-0.423710</td>\n",
       "    </tr>\n",
       "    <tr>\n",
       "      <th>newbalanceDest</th>\n",
       "      <td>0.095545</td>\n",
       "    </tr>\n",
       "  </tbody>\n",
       "</table>\n",
       "</div><br><label><b>dtype:</b> float64</label>"
      ],
      "text/plain": [
       "newbalanceOrig   -16.231710\n",
       "oldbalanceOrg     14.665469\n",
       "type_TRANSFER      4.406461\n",
       "type_PAYMENT      -4.278711\n",
       "type_CASH_OUT      3.963638\n",
       "type_DEBIT        -2.277373\n",
       "amount            -1.845328\n",
       "step              -0.504275\n",
       "oldbalanceDest    -0.423710\n",
       "newbalanceDest     0.095545\n",
       "dtype: float64"
      ]
     },
     "metadata": {},
     "output_type": "display_data"
    }
   ],
   "source": [
    "# Access the coefficients of the trained Logistic Regression model\n",
    "coefficients = model.coef_[0]\n",
    "\n",
    "# Get the feature names from the training data\n",
    "feature_names = X_train.columns\n",
    "\n",
    "# Create a pandas Series to store feature names and coefficients\n",
    "feature_importance = pd.Series(coefficients, index=feature_names)\n",
    "\n",
    "# Sort and display feature importances\n",
    "sorted_feature_importance = feature_importance.abs().sort_values(ascending=False)\n",
    "display(sorted_feature_importance)\n",
    "\n",
    "display(feature_importance.loc[sorted_feature_importance.index])"
   ]
  },
  {
   "cell_type": "markdown",
   "metadata": {
    "id": "01efbb93"
   },
   "source": [
    "Check for missing values."
   ]
  },
  {
   "cell_type": "code",
   "execution_count": null,
   "metadata": {
    "colab": {
     "base_uri": "https://localhost:8080/",
     "height": 429
    },
    "id": "5e88e18b",
    "outputId": "bfa62d4f-c176-46e0-d5d9-800b9cbf7254"
   },
   "outputs": [
    {
     "data": {
      "text/html": [
       "<div>\n",
       "<style scoped>\n",
       "    .dataframe tbody tr th:only-of-type {\n",
       "        vertical-align: middle;\n",
       "    }\n",
       "\n",
       "    .dataframe tbody tr th {\n",
       "        vertical-align: top;\n",
       "    }\n",
       "\n",
       "    .dataframe thead th {\n",
       "        text-align: right;\n",
       "    }\n",
       "</style>\n",
       "<table border=\"1\" class=\"dataframe\">\n",
       "  <thead>\n",
       "    <tr style=\"text-align: right;\">\n",
       "      <th></th>\n",
       "      <th>0</th>\n",
       "    </tr>\n",
       "  </thead>\n",
       "  <tbody>\n",
       "    <tr>\n",
       "      <th>step</th>\n",
       "      <td>0</td>\n",
       "    </tr>\n",
       "    <tr>\n",
       "      <th>type</th>\n",
       "      <td>0</td>\n",
       "    </tr>\n",
       "    <tr>\n",
       "      <th>amount</th>\n",
       "      <td>0</td>\n",
       "    </tr>\n",
       "    <tr>\n",
       "      <th>nameOrig</th>\n",
       "      <td>0</td>\n",
       "    </tr>\n",
       "    <tr>\n",
       "      <th>oldbalanceOrg</th>\n",
       "      <td>1</td>\n",
       "    </tr>\n",
       "    <tr>\n",
       "      <th>newbalanceOrig</th>\n",
       "      <td>1</td>\n",
       "    </tr>\n",
       "    <tr>\n",
       "      <th>nameDest</th>\n",
       "      <td>1</td>\n",
       "    </tr>\n",
       "    <tr>\n",
       "      <th>oldbalanceDest</th>\n",
       "      <td>1</td>\n",
       "    </tr>\n",
       "    <tr>\n",
       "      <th>newbalanceDest</th>\n",
       "      <td>1</td>\n",
       "    </tr>\n",
       "    <tr>\n",
       "      <th>isFraud</th>\n",
       "      <td>1</td>\n",
       "    </tr>\n",
       "    <tr>\n",
       "      <th>isFlaggedFraud</th>\n",
       "      <td>1</td>\n",
       "    </tr>\n",
       "  </tbody>\n",
       "</table>\n",
       "</div><br><label><b>dtype:</b> int64</label>"
      ],
      "text/plain": [
       "step              0\n",
       "type              0\n",
       "amount            0\n",
       "nameOrig          0\n",
       "oldbalanceOrg     1\n",
       "newbalanceOrig    1\n",
       "nameDest          1\n",
       "oldbalanceDest    1\n",
       "newbalanceDest    1\n",
       "isFraud           1\n",
       "isFlaggedFraud    1\n",
       "dtype: int64"
      ]
     },
     "metadata": {},
     "output_type": "display_data"
    }
   ],
   "source": [
    "display(df.isnull().sum())"
   ]
  },
  {
   "cell_type": "markdown",
   "metadata": {
    "id": "1b0e5280"
   },
   "source": [
    "Drop rows with missing values."
   ]
  },
  {
   "cell_type": "code",
   "execution_count": null,
   "metadata": {
    "colab": {
     "base_uri": "https://localhost:8080/",
     "height": 429
    },
    "id": "233b3a54",
    "outputId": "1e30c83f-d0b0-484d-f6e6-894eb0b246a2"
   },
   "outputs": [
    {
     "data": {
      "text/html": [
       "<div>\n",
       "<style scoped>\n",
       "    .dataframe tbody tr th:only-of-type {\n",
       "        vertical-align: middle;\n",
       "    }\n",
       "\n",
       "    .dataframe tbody tr th {\n",
       "        vertical-align: top;\n",
       "    }\n",
       "\n",
       "    .dataframe thead th {\n",
       "        text-align: right;\n",
       "    }\n",
       "</style>\n",
       "<table border=\"1\" class=\"dataframe\">\n",
       "  <thead>\n",
       "    <tr style=\"text-align: right;\">\n",
       "      <th></th>\n",
       "      <th>0</th>\n",
       "    </tr>\n",
       "  </thead>\n",
       "  <tbody>\n",
       "    <tr>\n",
       "      <th>step</th>\n",
       "      <td>0</td>\n",
       "    </tr>\n",
       "    <tr>\n",
       "      <th>type</th>\n",
       "      <td>0</td>\n",
       "    </tr>\n",
       "    <tr>\n",
       "      <th>amount</th>\n",
       "      <td>0</td>\n",
       "    </tr>\n",
       "    <tr>\n",
       "      <th>nameOrig</th>\n",
       "      <td>0</td>\n",
       "    </tr>\n",
       "    <tr>\n",
       "      <th>oldbalanceOrg</th>\n",
       "      <td>0</td>\n",
       "    </tr>\n",
       "    <tr>\n",
       "      <th>newbalanceOrig</th>\n",
       "      <td>0</td>\n",
       "    </tr>\n",
       "    <tr>\n",
       "      <th>nameDest</th>\n",
       "      <td>0</td>\n",
       "    </tr>\n",
       "    <tr>\n",
       "      <th>oldbalanceDest</th>\n",
       "      <td>0</td>\n",
       "    </tr>\n",
       "    <tr>\n",
       "      <th>newbalanceDest</th>\n",
       "      <td>0</td>\n",
       "    </tr>\n",
       "    <tr>\n",
       "      <th>isFraud</th>\n",
       "      <td>0</td>\n",
       "    </tr>\n",
       "    <tr>\n",
       "      <th>isFlaggedFraud</th>\n",
       "      <td>0</td>\n",
       "    </tr>\n",
       "  </tbody>\n",
       "</table>\n",
       "</div><br><label><b>dtype:</b> int64</label>"
      ],
      "text/plain": [
       "step              0\n",
       "type              0\n",
       "amount            0\n",
       "nameOrig          0\n",
       "oldbalanceOrg     0\n",
       "newbalanceOrig    0\n",
       "nameDest          0\n",
       "oldbalanceDest    0\n",
       "newbalanceDest    0\n",
       "isFraud           0\n",
       "isFlaggedFraud    0\n",
       "dtype: int64"
      ]
     },
     "metadata": {},
     "output_type": "display_data"
    }
   ],
   "source": [
    "df.dropna(inplace=True)\n",
    "display(df.isnull().sum())"
   ]
  },
  {
   "cell_type": "markdown",
   "metadata": {
    "id": "007aa032"
   },
   "source": [
    "Encode categorical features ('type')."
   ]
  },
  {
   "cell_type": "code",
   "execution_count": 27,
   "metadata": {
    "id": "ba4de4b2"
   },
   "outputs": [],
   "source": [
    "# The 'type' column has already been one-hot encoded in a previous step.\n",
    "# This cell is no longer needed."
   ]
  },
  {
   "cell_type": "markdown",
   "metadata": {
    "id": "23ed8b91"
   },
   "source": [
    "Scale numerical features."
   ]
  },
  {
   "cell_type": "code",
   "execution_count": 24,
   "metadata": {
    "colab": {
     "base_uri": "https://localhost:8080/",
     "height": 226
    },
    "id": "26c4ff9c",
    "outputId": "80d7ce25-0297-42b4-fb15-4b152c428828"
   },
   "outputs": [
    {
     "data": {
      "application/vnd.google.colaboratory.intrinsic+json": {
       "summary": "{\n  \"name\": \"display(df\",\n  \"rows\": 5,\n  \"fields\": [\n    {\n      \"column\": \"step\",\n      \"properties\": {\n        \"dtype\": \"number\",\n        \"std\": 0.0,\n        \"min\": -1.6390353205469883,\n        \"max\": -1.6390353205469883,\n        \"num_unique_values\": 1,\n        \"samples\": [\n          -1.6390353205469883\n        ],\n        \"semantic_type\": \"\",\n        \"description\": \"\"\n      }\n    },\n    {\n      \"column\": \"amount\",\n      \"properties\": {\n        \"dtype\": \"number\",\n        \"std\": 0.019835875767987787,\n        \"min\": -0.39822011467934615,\n        \"max\": -0.3572699270395833,\n        \"num_unique_values\": 4,\n        \"samples\": [\n          -0.3922194363686213\n        ],\n        \"semantic_type\": \"\",\n        \"description\": \"\"\n      }\n    },\n    {\n      \"column\": \"nameOrig\",\n      \"properties\": {\n        \"dtype\": \"string\",\n        \"num_unique_values\": 5,\n        \"samples\": [\n          \"C1666544295\"\n        ],\n        \"semantic_type\": \"\",\n        \"description\": \"\"\n      }\n    },\n    {\n      \"column\": \"oldbalanceOrg\",\n      \"properties\": {\n        \"dtype\": \"number\",\n        \"std\": 0.03527255141850135,\n        \"min\": -0.39350751230468145,\n        \"max\": -0.30923044226176394,\n        \"num_unique_values\": 4,\n        \"samples\": [\n          -0.38306033916082466\n        ],\n        \"semantic_type\": \"\",\n        \"description\": \"\"\n      }\n    },\n    {\n      \"column\": \"newbalanceOrig\",\n      \"properties\": {\n        \"dtype\": \"number\",\n        \"std\": 0.0327280933802109,\n        \"min\": -0.39356717849896317,\n        \"max\": -0.31575006836483643,\n        \"num_unique_values\": 4,\n        \"samples\": [\n          -0.38415671595845874\n        ],\n        \"semantic_type\": \"\",\n        \"description\": \"\"\n      }\n    },\n    {\n      \"column\": \"nameDest\",\n      \"properties\": {\n        \"dtype\": \"string\",\n        \"num_unique_values\": 5,\n        \"samples\": [\n          \"M2044282225\"\n        ],\n        \"semantic_type\": \"\",\n        \"description\": \"\"\n      }\n    },\n    {\n      \"column\": \"oldbalanceDest\",\n      \"properties\": {\n        \"dtype\": \"number\",\n        \"std\": 0.0037470565544921444,\n        \"min\": -0.3327156600825207,\n        \"max\": -0.3243369869111401,\n        \"num_unique_values\": 2,\n        \"samples\": [\n          -0.3243369869111401\n        ],\n        \"semantic_type\": \"\",\n        \"description\": \"\"\n      }\n    },\n    {\n      \"column\": \"newbalanceDest\",\n      \"properties\": {\n        \"dtype\": \"number\",\n        \"std\": 0.0,\n        \"min\": -0.3641423929071039,\n        \"max\": -0.3641423929071039,\n        \"num_unique_values\": 1,\n        \"samples\": [\n          -0.3641423929071039\n        ],\n        \"semantic_type\": \"\",\n        \"description\": \"\"\n      }\n    },\n    {\n      \"column\": \"isFraud\",\n      \"properties\": {\n        \"dtype\": \"number\",\n        \"std\": 0.5477225575051662,\n        \"min\": 0.0,\n        \"max\": 1.0,\n        \"num_unique_values\": 2,\n        \"samples\": [\n          1.0\n        ],\n        \"semantic_type\": \"\",\n        \"description\": \"\"\n      }\n    },\n    {\n      \"column\": \"isFlaggedFraud\",\n      \"properties\": {\n        \"dtype\": \"number\",\n        \"std\": 0.0,\n        \"min\": 0.0,\n        \"max\": 0.0,\n        \"num_unique_values\": 1,\n        \"samples\": [\n          0.0\n        ],\n        \"semantic_type\": \"\",\n        \"description\": \"\"\n      }\n    },\n    {\n      \"column\": \"type_CASH_OUT\",\n      \"properties\": {\n        \"dtype\": \"boolean\",\n        \"num_unique_values\": 2,\n        \"samples\": [\n          true\n        ],\n        \"semantic_type\": \"\",\n        \"description\": \"\"\n      }\n    },\n    {\n      \"column\": \"type_DEBIT\",\n      \"properties\": {\n        \"dtype\": \"boolean\",\n        \"num_unique_values\": 1,\n        \"samples\": [\n          false\n        ],\n        \"semantic_type\": \"\",\n        \"description\": \"\"\n      }\n    },\n    {\n      \"column\": \"type_PAYMENT\",\n      \"properties\": {\n        \"dtype\": \"boolean\",\n        \"num_unique_values\": 2,\n        \"samples\": [\n          false\n        ],\n        \"semantic_type\": \"\",\n        \"description\": \"\"\n      }\n    },\n    {\n      \"column\": \"type_TRANSFER\",\n      \"properties\": {\n        \"dtype\": \"boolean\",\n        \"num_unique_values\": 2,\n        \"samples\": [\n          true\n        ],\n        \"semantic_type\": \"\",\n        \"description\": \"\"\n      }\n    }\n  ]\n}",
       "type": "dataframe"
      },
      "text/html": [
       "\n",
       "  <div id=\"df-6343a693-e3a2-4df4-9b9b-ee649e344a38\" class=\"colab-df-container\">\n",
       "    <div>\n",
       "<style scoped>\n",
       "    .dataframe tbody tr th:only-of-type {\n",
       "        vertical-align: middle;\n",
       "    }\n",
       "\n",
       "    .dataframe tbody tr th {\n",
       "        vertical-align: top;\n",
       "    }\n",
       "\n",
       "    .dataframe thead th {\n",
       "        text-align: right;\n",
       "    }\n",
       "</style>\n",
       "<table border=\"1\" class=\"dataframe\">\n",
       "  <thead>\n",
       "    <tr style=\"text-align: right;\">\n",
       "      <th></th>\n",
       "      <th>step</th>\n",
       "      <th>amount</th>\n",
       "      <th>nameOrig</th>\n",
       "      <th>oldbalanceOrg</th>\n",
       "      <th>newbalanceOrig</th>\n",
       "      <th>nameDest</th>\n",
       "      <th>oldbalanceDest</th>\n",
       "      <th>newbalanceDest</th>\n",
       "      <th>isFraud</th>\n",
       "      <th>isFlaggedFraud</th>\n",
       "      <th>type_CASH_OUT</th>\n",
       "      <th>type_DEBIT</th>\n",
       "      <th>type_PAYMENT</th>\n",
       "      <th>type_TRANSFER</th>\n",
       "    </tr>\n",
       "  </thead>\n",
       "  <tbody>\n",
       "    <tr>\n",
       "      <th>0</th>\n",
       "      <td>-1.639035</td>\n",
       "      <td>-0.363788</td>\n",
       "      <td>C1231006815</td>\n",
       "      <td>-0.309230</td>\n",
       "      <td>-0.315750</td>\n",
       "      <td>M1979787155</td>\n",
       "      <td>-0.332716</td>\n",
       "      <td>-0.364142</td>\n",
       "      <td>0.0</td>\n",
       "      <td>0.0</td>\n",
       "      <td>False</td>\n",
       "      <td>False</td>\n",
       "      <td>True</td>\n",
       "      <td>False</td>\n",
       "    </tr>\n",
       "    <tr>\n",
       "      <th>1</th>\n",
       "      <td>-1.639035</td>\n",
       "      <td>-0.392219</td>\n",
       "      <td>C1666544295</td>\n",
       "      <td>-0.383060</td>\n",
       "      <td>-0.384157</td>\n",
       "      <td>M2044282225</td>\n",
       "      <td>-0.332716</td>\n",
       "      <td>-0.364142</td>\n",
       "      <td>0.0</td>\n",
       "      <td>0.0</td>\n",
       "      <td>False</td>\n",
       "      <td>False</td>\n",
       "      <td>True</td>\n",
       "      <td>False</td>\n",
       "    </tr>\n",
       "    <tr>\n",
       "      <th>2</th>\n",
       "      <td>-1.639035</td>\n",
       "      <td>-0.398220</td>\n",
       "      <td>C1305486145</td>\n",
       "      <td>-0.393508</td>\n",
       "      <td>-0.393567</td>\n",
       "      <td>C553264065</td>\n",
       "      <td>-0.332716</td>\n",
       "      <td>-0.364142</td>\n",
       "      <td>1.0</td>\n",
       "      <td>0.0</td>\n",
       "      <td>False</td>\n",
       "      <td>False</td>\n",
       "      <td>False</td>\n",
       "      <td>True</td>\n",
       "    </tr>\n",
       "    <tr>\n",
       "      <th>3</th>\n",
       "      <td>-1.639035</td>\n",
       "      <td>-0.398220</td>\n",
       "      <td>C840083671</td>\n",
       "      <td>-0.393508</td>\n",
       "      <td>-0.393567</td>\n",
       "      <td>C38997010</td>\n",
       "      <td>-0.324337</td>\n",
       "      <td>-0.364142</td>\n",
       "      <td>1.0</td>\n",
       "      <td>0.0</td>\n",
       "      <td>True</td>\n",
       "      <td>False</td>\n",
       "      <td>False</td>\n",
       "      <td>False</td>\n",
       "    </tr>\n",
       "    <tr>\n",
       "      <th>4</th>\n",
       "      <td>-1.639035</td>\n",
       "      <td>-0.357270</td>\n",
       "      <td>C2048537720</td>\n",
       "      <td>-0.372992</td>\n",
       "      <td>-0.379059</td>\n",
       "      <td>M1230701703</td>\n",
       "      <td>-0.332716</td>\n",
       "      <td>-0.364142</td>\n",
       "      <td>0.0</td>\n",
       "      <td>0.0</td>\n",
       "      <td>False</td>\n",
       "      <td>False</td>\n",
       "      <td>True</td>\n",
       "      <td>False</td>\n",
       "    </tr>\n",
       "  </tbody>\n",
       "</table>\n",
       "</div>\n",
       "    <div class=\"colab-df-buttons\">\n",
       "\n",
       "  <div class=\"colab-df-container\">\n",
       "    <button class=\"colab-df-convert\" onclick=\"convertToInteractive('df-6343a693-e3a2-4df4-9b9b-ee649e344a38')\"\n",
       "            title=\"Convert this dataframe to an interactive table.\"\n",
       "            style=\"display:none;\">\n",
       "\n",
       "  <svg xmlns=\"http://www.w3.org/2000/svg\" height=\"24px\" viewBox=\"0 -960 960 960\">\n",
       "    <path d=\"M120-120v-720h720v720H120Zm60-500h600v-160H180v160Zm220 220h160v-160H400v160Zm0 220h160v-160H400v160ZM180-400h160v-160H180v160Zm440 0h160v-160H620v160ZM180-180h160v-160H180v160Zm440 0h160v-160H620v160Z\"/>\n",
       "  </svg>\n",
       "    </button>\n",
       "\n",
       "  <style>\n",
       "    .colab-df-container {\n",
       "      display:flex;\n",
       "      gap: 12px;\n",
       "    }\n",
       "\n",
       "    .colab-df-convert {\n",
       "      background-color: #E8F0FE;\n",
       "      border: none;\n",
       "      border-radius: 50%;\n",
       "      cursor: pointer;\n",
       "      display: none;\n",
       "      fill: #1967D2;\n",
       "      height: 32px;\n",
       "      padding: 0 0 0 0;\n",
       "      width: 32px;\n",
       "    }\n",
       "\n",
       "    .colab-df-convert:hover {\n",
       "      background-color: #E2EBFA;\n",
       "      box-shadow: 0px 1px 2px rgba(60, 64, 67, 0.3), 0px 1px 3px 1px rgba(60, 64, 67, 0.15);\n",
       "      fill: #174EA6;\n",
       "    }\n",
       "\n",
       "    .colab-df-buttons div {\n",
       "      margin-bottom: 4px;\n",
       "    }\n",
       "\n",
       "    [theme=dark] .colab-df-convert {\n",
       "      background-color: #3B4455;\n",
       "      fill: #D2E3FC;\n",
       "    }\n",
       "\n",
       "    [theme=dark] .colab-df-convert:hover {\n",
       "      background-color: #434B5C;\n",
       "      box-shadow: 0px 1px 3px 1px rgba(0, 0, 0, 0.15);\n",
       "      filter: drop-shadow(0px 1px 2px rgba(0, 0, 0, 0.3));\n",
       "      fill: #FFFFFF;\n",
       "    }\n",
       "  </style>\n",
       "\n",
       "    <script>\n",
       "      const buttonEl =\n",
       "        document.querySelector('#df-6343a693-e3a2-4df4-9b9b-ee649e344a38 button.colab-df-convert');\n",
       "      buttonEl.style.display =\n",
       "        google.colab.kernel.accessAllowed ? 'block' : 'none';\n",
       "\n",
       "      async function convertToInteractive(key) {\n",
       "        const element = document.querySelector('#df-6343a693-e3a2-4df4-9b9b-ee649e344a38');\n",
       "        const dataTable =\n",
       "          await google.colab.kernel.invokeFunction('convertToInteractive',\n",
       "                                                    [key], {});\n",
       "        if (!dataTable) return;\n",
       "\n",
       "        const docLinkHtml = 'Like what you see? Visit the ' +\n",
       "          '<a target=\"_blank\" href=https://colab.research.google.com/notebooks/data_table.ipynb>data table notebook</a>'\n",
       "          + ' to learn more about interactive tables.';\n",
       "        element.innerHTML = '';\n",
       "        dataTable['output_type'] = 'display_data';\n",
       "        await google.colab.output.renderOutput(dataTable, element);\n",
       "        const docLink = document.createElement('div');\n",
       "        docLink.innerHTML = docLinkHtml;\n",
       "        element.appendChild(docLink);\n",
       "      }\n",
       "    </script>\n",
       "  </div>\n",
       "\n",
       "\n",
       "    <div id=\"df-b1c5ddda-b353-4631-b1d4-f49665b53403\">\n",
       "      <button class=\"colab-df-quickchart\" onclick=\"quickchart('df-b1c5ddda-b353-4631-b1d4-f49665b53403')\"\n",
       "                title=\"Suggest charts\"\n",
       "                style=\"display:none;\">\n",
       "\n",
       "<svg xmlns=\"http://www.w3.org/2000/svg\" height=\"24px\"viewBox=\"0 0 24 24\"\n",
       "     width=\"24px\">\n",
       "    <g>\n",
       "        <path d=\"M19 3H5c-1.1 0-2 .9-2 2v14c0 1.1.9 2 2 2h14c1.1 0 2-.9 2-2V5c0-1.1-.9-2-2-2zM9 17H7v-7h2v7zm4 0h-2V7h2v10zm4 0h-2v-4h2v4z\"/>\n",
       "    </g>\n",
       "</svg>\n",
       "      </button>\n",
       "\n",
       "<style>\n",
       "  .colab-df-quickchart {\n",
       "      --bg-color: #E8F0FE;\n",
       "      --fill-color: #1967D2;\n",
       "      --hover-bg-color: #E2EBFA;\n",
       "      --hover-fill-color: #174EA6;\n",
       "      --disabled-fill-color: #AAA;\n",
       "      --disabled-bg-color: #DDD;\n",
       "  }\n",
       "\n",
       "  [theme=dark] .colab-df-quickchart {\n",
       "      --bg-color: #3B4455;\n",
       "      --fill-color: #D2E3FC;\n",
       "      --hover-bg-color: #434B5C;\n",
       "      --hover-fill-color: #FFFFFF;\n",
       "      --disabled-bg-color: #3B4455;\n",
       "      --disabled-fill-color: #666;\n",
       "  }\n",
       "\n",
       "  .colab-df-quickchart {\n",
       "    background-color: var(--bg-color);\n",
       "    border: none;\n",
       "    border-radius: 50%;\n",
       "    cursor: pointer;\n",
       "    display: none;\n",
       "    fill: var(--fill-color);\n",
       "    height: 32px;\n",
       "    padding: 0;\n",
       "    width: 32px;\n",
       "  }\n",
       "\n",
       "  .colab-df-quickchart:hover {\n",
       "    background-color: var(--hover-bg-color);\n",
       "    box-shadow: 0 1px 2px rgba(60, 64, 67, 0.3), 0 1px 3px 1px rgba(60, 64, 67, 0.15);\n",
       "    fill: var(--button-hover-fill-color);\n",
       "  }\n",
       "\n",
       "  .colab-df-quickchart-complete:disabled,\n",
       "  .colab-df-quickchart-complete:disabled:hover {\n",
       "    background-color: var(--disabled-bg-color);\n",
       "    fill: var(--disabled-fill-color);\n",
       "    box-shadow: none;\n",
       "  }\n",
       "\n",
       "  .colab-df-spinner {\n",
       "    border: 2px solid var(--fill-color);\n",
       "    border-color: transparent;\n",
       "    border-bottom-color: var(--fill-color);\n",
       "    animation:\n",
       "      spin 1s steps(1) infinite;\n",
       "  }\n",
       "\n",
       "  @keyframes spin {\n",
       "    0% {\n",
       "      border-color: transparent;\n",
       "      border-bottom-color: var(--fill-color);\n",
       "      border-left-color: var(--fill-color);\n",
       "    }\n",
       "    20% {\n",
       "      border-color: transparent;\n",
       "      border-left-color: var(--fill-color);\n",
       "      border-top-color: var(--fill-color);\n",
       "    }\n",
       "    30% {\n",
       "      border-color: transparent;\n",
       "      border-left-color: var(--fill-color);\n",
       "      border-top-color: var(--fill-color);\n",
       "      border-right-color: var(--fill-color);\n",
       "    }\n",
       "    40% {\n",
       "      border-color: transparent;\n",
       "      border-right-color: var(--fill-color);\n",
       "      border-top-color: var(--fill-color);\n",
       "    }\n",
       "    60% {\n",
       "      border-color: transparent;\n",
       "      border-right-color: var(--fill-color);\n",
       "    }\n",
       "    80% {\n",
       "      border-color: transparent;\n",
       "      border-right-color: var(--fill-color);\n",
       "      border-bottom-color: var(--fill-color);\n",
       "    }\n",
       "    90% {\n",
       "      border-color: transparent;\n",
       "      border-bottom-color: var(--fill-color);\n",
       "    }\n",
       "  }\n",
       "</style>\n",
       "\n",
       "      <script>\n",
       "        async function quickchart(key) {\n",
       "          const quickchartButtonEl =\n",
       "            document.querySelector('#' + key + ' button');\n",
       "          quickchartButtonEl.disabled = true;  // To prevent multiple clicks.\n",
       "          quickchartButtonEl.classList.add('colab-df-spinner');\n",
       "          try {\n",
       "            const charts = await google.colab.kernel.invokeFunction(\n",
       "                'suggestCharts', [key], {});\n",
       "          } catch (error) {\n",
       "            console.error('Error during call to suggestCharts:', error);\n",
       "          }\n",
       "          quickchartButtonEl.classList.remove('colab-df-spinner');\n",
       "          quickchartButtonEl.classList.add('colab-df-quickchart-complete');\n",
       "        }\n",
       "        (() => {\n",
       "          let quickchartButtonEl =\n",
       "            document.querySelector('#df-b1c5ddda-b353-4631-b1d4-f49665b53403 button');\n",
       "          quickchartButtonEl.style.display =\n",
       "            google.colab.kernel.accessAllowed ? 'block' : 'none';\n",
       "        })();\n",
       "      </script>\n",
       "    </div>\n",
       "\n",
       "    </div>\n",
       "  </div>\n"
      ],
      "text/plain": [
       "       step    amount     nameOrig  oldbalanceOrg  newbalanceOrig  \\\n",
       "0 -1.639035 -0.363788  C1231006815      -0.309230       -0.315750   \n",
       "1 -1.639035 -0.392219  C1666544295      -0.383060       -0.384157   \n",
       "2 -1.639035 -0.398220  C1305486145      -0.393508       -0.393567   \n",
       "3 -1.639035 -0.398220   C840083671      -0.393508       -0.393567   \n",
       "4 -1.639035 -0.357270  C2048537720      -0.372992       -0.379059   \n",
       "\n",
       "      nameDest  oldbalanceDest  newbalanceDest  isFraud  isFlaggedFraud  \\\n",
       "0  M1979787155       -0.332716       -0.364142      0.0             0.0   \n",
       "1  M2044282225       -0.332716       -0.364142      0.0             0.0   \n",
       "2   C553264065       -0.332716       -0.364142      1.0             0.0   \n",
       "3    C38997010       -0.324337       -0.364142      1.0             0.0   \n",
       "4  M1230701703       -0.332716       -0.364142      0.0             0.0   \n",
       "\n",
       "   type_CASH_OUT  type_DEBIT  type_PAYMENT  type_TRANSFER  \n",
       "0          False       False          True          False  \n",
       "1          False       False          True          False  \n",
       "2          False       False         False           True  \n",
       "3           True       False         False          False  \n",
       "4          False       False          True          False  "
      ]
     },
     "metadata": {},
     "output_type": "display_data"
    }
   ],
   "source": [
    "from sklearn.preprocessing import StandardScaler\n",
    "\n",
    "# Identify numerical columns to scale (exclude 'isFraud' and identifier columns)\n",
    "numerical_cols = df.select_dtypes(include=['int64', 'float64']).columns.tolist()\n",
    "cols_to_exclude = ['isFraud', 'isFlaggedFraud']\n",
    "numerical_cols_to_scale = [col for col in numerical_cols if col not in cols_to_exclude]\n",
    "\n",
    "# Apply StandardScaler\n",
    "scaler = StandardScaler()\n",
    "df[numerical_cols_to_scale] = scaler.fit_transform(df[numerical_cols_to_scale])\n",
    "\n",
    "display(df.head())"
   ]
  },
  {
   "cell_type": "markdown",
   "metadata": {
    "id": "8e337822"
   },
   "source": [
    "Analyze target variable distribution and correlations."
   ]
  },
  {
   "cell_type": "code",
   "execution_count": 25,
   "metadata": {
    "colab": {
     "base_uri": "https://localhost:8080/",
     "height": 1000
    },
    "id": "1e134557",
    "outputId": "e9943b03-290d-4998-e90e-f21d7863a11a"
   },
   "outputs": [
    {
     "data": {
      "text/html": [
       "<div>\n",
       "<style scoped>\n",
       "    .dataframe tbody tr th:only-of-type {\n",
       "        vertical-align: middle;\n",
       "    }\n",
       "\n",
       "    .dataframe tbody tr th {\n",
       "        vertical-align: top;\n",
       "    }\n",
       "\n",
       "    .dataframe thead th {\n",
       "        text-align: right;\n",
       "    }\n",
       "</style>\n",
       "<table border=\"1\" class=\"dataframe\">\n",
       "  <thead>\n",
       "    <tr style=\"text-align: right;\">\n",
       "      <th></th>\n",
       "      <th>count</th>\n",
       "    </tr>\n",
       "    <tr>\n",
       "      <th>isFraud</th>\n",
       "      <th></th>\n",
       "    </tr>\n",
       "  </thead>\n",
       "  <tbody>\n",
       "    <tr>\n",
       "      <th>0.0</th>\n",
       "      <td>14168</td>\n",
       "    </tr>\n",
       "    <tr>\n",
       "      <th>1.0</th>\n",
       "      <td>78</td>\n",
       "    </tr>\n",
       "  </tbody>\n",
       "</table>\n",
       "</div><br><label><b>dtype:</b> int64</label>"
      ],
      "text/plain": [
       "isFraud\n",
       "0.0    14168\n",
       "1.0       78\n",
       "Name: count, dtype: int64"
      ]
     },
     "metadata": {},
     "output_type": "display_data"
    },
    {
     "data": {
      "image/png": "[encoded data removed]",
      "text/plain": [
       "<Figure size 600x400 with 1 Axes>"
      ]
     },
     "metadata": {},
     "output_type": "display_data"
    },
    {
     "data": {
      "image/png": "[encoded data removed]",
      "text/plain": [
       "<Figure size 1200x800 with 2 Axes>"
      ]
     },
     "metadata": {},
     "output_type": "display_data"
    }
   ],
   "source": [
    "import matplotlib.pyplot as plt\n",
    "import seaborn as sns\n",
    "\n",
    "# Check the distribution of the target variable ('isFraud')\n",
    "fraud_distribution = df['isFraud'].value_counts()\n",
    "display(fraud_distribution)\n",
    "\n",
    "# Visualize the distribution of 'isFraud'\n",
    "plt.figure(figsize=(6, 4))\n",
    "sns.barplot(x=fraud_distribution.index, y=fraud_distribution.values)\n",
    "plt.title('Distribution of isFraud')\n",
    "plt.xlabel('isFraud')\n",
    "plt.ylabel('Count')\n",
    "plt.xticks(ticks=[0, 1], labels=['Not Fraud', 'Fraud'])\n",
    "plt.show()\n",
    "\n",
    "# Calculate and visualize the correlation matrix\n",
    "correlation_matrix = df.drop(['nameOrig', 'nameDest'], axis=1).corr()\n",
    "plt.figure(figsize=(12, 8))\n",
    "sns.heatmap(correlation_matrix, annot=False, cmap='coolwarm')\n",
    "plt.title('Correlation Matrix of Features')\n",
    "plt.show()"
   ]
  },
  {
   "cell_type": "markdown",
   "metadata": {
    "id": "9021fb06"
   },
   "source": [
    "Visualize relationship between features and target."
   ]
  },
  {
   "cell_type": "code",
   "execution_count": 26,
   "metadata": {
    "colab": {
     "base_uri": "https://localhost:8080/",
     "height": 643
    },
    "id": "fbfb68ad",
    "outputId": "6549ef87-5ef5-4712-827a-1f72058f7d29"
   },
   "outputs": [
    {
     "data": {
      "image/png": "[encoded data removed]",
      "text/plain": [
       "<Figure size 1500x1000 with 5 Axes>"
      ]
     },
     "metadata": {},
     "output_type": "display_data"
    },
    {
     "data": {
      "image/png": "[encoded data removed]",
      "text/plain": [
       "<Figure size 1500x500 with 4 Axes>"
      ]
     },
     "metadata": {},
     "output_type": "display_data"
    }
   ],
   "source": [
    "# Create visualizations to explore the relationship between key numerical features and 'isFraud'\n",
    "numerical_features = ['amount', 'oldbalanceOrg', 'newbalanceOrig', 'oldbalanceDest', 'newbalanceDest']\n",
    "\n",
    "plt.figure(figsize=(15, 10))\n",
    "for i, col in enumerate(numerical_features):\n",
    "    plt.subplot(2, 3, i + 1)\n",
    "    sns.boxplot(x='isFraud', y=col, data=df)\n",
    "    plt.title(f'{col} vs isFraud')\n",
    "plt.tight_layout()\n",
    "plt.show()\n",
    "\n",
    "# Explore the relationship between the one-hot encoded 'type' columns and 'isFraud'\n",
    "type_cols = ['type_CASH_OUT', 'type_DEBIT', 'type_PAYMENT', 'type_TRANSFER']\n",
    "\n",
    "plt.figure(figsize=(15, 5))\n",
    "for i, col in enumerate(type_cols):\n",
    "    plt.subplot(1, 4, i + 1)\n",
    "    sns.countplot(x=col, hue='isFraud', data=df)\n",
    "    plt.title(f'{col} vs isFraud')\n",
    "    plt.xticks(ticks=[0, 1], labels=['Not Type', 'Is Type'])\n",
    "plt.tight_layout()\n",
    "plt.show()"
   ]
  },
  {
   "cell_type": "markdown",
   "metadata": {
    "id": "51d40b2f"
   },
   "source": [
    "Load the data."
   ]
  },
  {
   "cell_type": "markdown",
   "metadata": {
    "id": "c45f00d7"
   },
   "source": [
    "Check for missing values."
   ]
  },
  {
   "cell_type": "markdown",
   "metadata": {
    "id": "7b11e3c8"
   },
   "source": [
    "Drop rows with missing values."
   ]
  },
  {
   "cell_type": "markdown",
   "metadata": {
    "id": "e8a56406"
   },
   "source": [
    "Encode categorical features ('type')."
   ]
  },
  {
   "cell_type": "markdown",
   "metadata": {
    "id": "e24fe4d7"
   },
   "source": [
    "Scale numerical features."
   ]
  },
  {
   "cell_type": "markdown",
   "metadata": {
    "id": "283292c3"
   },
   "source": [
    "Analyze target variable distribution and correlations."
   ]
  },
  {
   "cell_type": "markdown",
   "metadata": {
    "id": "89b7dd8f"
   },
   "source": [
    "Visualize relationship between features and target."
   ]
  },
  {
   "cell_type": "markdown",
   "metadata": {
    "id": "c0a66b05"
   },
   "source": [
    "Choose Logistic Regression model."
   ]
  },
  {
   "cell_type": "markdown",
   "metadata": {
    "id": "443039f8"
   },
   "source": [
    "Split data and train model."
   ]
  },
  {
   "cell_type": "markdown",
   "metadata": {
    "id": "0e0298c0"
   },
   "source": [
    "Evaluate model performance."
   ]
  },
  {
   "cell_type": "markdown",
   "metadata": {
    "id": "05ce4954"
   },
   "source": [
    "Interpret feature importances."
   ]
  },
  {
   "cell_type": "markdown",
   "metadata": {
    "id": "4651ef58"
   },
   "source": [
    "Propose actionable plan."
   ]
  },
  {
   "cell_type": "markdown",
   "metadata": {
    "id": "53f1785f"
   },
   "source": [
    "## Answering the Questions\n",
    "\n",
    "### 1. Data cleaning including missing values, outliers and multi-collinearity.\n",
    "\n",
    "*   **Missing Values:** Handled by dropping the single row containing missing data.\n",
    "*   **Outliers:** Observed in EDA (box plots) but not explicitly removed in this intermediate project.\n",
    "*   **Multicollinearity:** Examined via correlation matrix (heatmap); some correlation noted but not addressed further for this model."
   ]
  },
  {
   "cell_type": "markdown",
   "metadata": {
    "id": "2fea247d"
   },
   "source": [
    "### 2. Describe your fraud detection model in elaboration.\n",
    "\n",
    "Our fraud detection model is a **Logistic Regression** model chosen for simplicity and interpretability. It predicts the probability of fraud and uses `class_weight='balanced'` to handle data imbalance."
   ]
  },
  {
   "cell_type": "markdown",
   "metadata": {
    "id": "975e7f04"
   },
   "source": [
    "### 3. How did you select variables to be included in the model?\n",
    "\n",
    "All features were included except identifiers (`nameOrig`, `nameDest`) and the single-value column (`isFlaggedFraud`)."
   ]
  },
  {
   "cell_type": "markdown",
   "metadata": {
    "id": "3a8a3197"
   },
   "source": [
    "### 4. Demonstrate the performance of the model by using best set of tools.\n",
    "\n",
    "Evaluated on validation set using Accuracy (0.9200), Precision (0.0117), Recall (0.8750), F1-score (0.0231), and AUC (0.9563) from `sklearn.metrics`. High Recall and AUC are important for fraud detection, while low Precision indicates many false positives."
   ]
  },
  {
   "cell_type": "markdown",
   "metadata": {
    "id": "7e887727"
   },
   "source": [
    "### 5. What are the key factors that predict fraudulent customer?\n",
    "\n",
    "Based on model coefficients: significant decrease in `newbalanceOrig`, high `oldbalanceOrg`, and 'TRANSFER' and 'CASH\\_OUT' transaction types are key factors."
   ]
  },
  {
   "cell_type": "markdown",
   "metadata": {
    "id": "568de455"
   },
   "source": [
    "### 6. Do these factors make sense? If yes, How? If not, How not?\n",
    "\n",
    "Yes, they make sense. Large changes in original balance and 'TRANSFER'/'CASH\\_OUT' types align with typical fraudulent money movement."
   ]
  },
  {
   "cell_type": "markdown",
   "metadata": {
    "id": "6f380cf8"
   },
   "source": [
    "### 7. What kind of prevention should be adopted while company update its infrastructure?\n",
    "\n",
    "Strategies include enhanced real-time monitoring for high-risk transactions, MFA for high-risk transactions, behavioral analytics, improved anomaly detection, secure API design, regular security audits, data encryption, and immutable transaction logs."
   ]
  },
  {
   "cell_type": "markdown",
   "metadata": {
    "id": "f616c492"
   },
   "source": [
    "### 8. Assuming these actions have been implemented, how would you determine if they work?\n",
    "\n",
    "Monitor KPIs like number/value of fraudulent transactions, false positives, Recall, Precision, customer complaints, and transaction completion rate. Consider A/B testing and regularly retrain the model."
   ]
  },
  {
   "cell_type": "markdown",
   "metadata": {
    "id": "ab646abc"
   },
   "source": [
    "## Answering the Questions\n",
    "\n",
    "### 1. Data cleaning including missing values, outliers and multi-collinearity.\n",
    "\n",
    "*   **Missing Values:** We identified and handled missing values by dropping the single row containing missing data. This was done because the number of missing values was very small and dropping the row did not significantly impact the dataset size. (Refer to the \"Data preprocessing\" section and the output of `df.isnull().sum()`)\n",
    "\n",
    "*   **Outliers:** We visually inspected the distributions of numerical features using box plots during the Exploratory Data Analysis (EDA). These plots (see the \"Exploratory data analysis (eda)\" section) showed the presence of outliers, particularly in features like `amount`, `oldbalanceOrg`, and `newbalanceOrig`. While we did not explicitly remove or transform outliers in this intermediate-level project, it's a consideration for more advanced analysis.\n",
    "\n",
    "*   **Multicollinearity:** We examined the correlation matrix (see the heatmap in the \"Exploratory data analysis (eda)\" section) to identify potential multicollinearity between features. We observed some correlations between features like `oldbalanceOrg` and `newbalanceOrig`, and `oldbalanceDest` and `newbalanceDest`. For the chosen model (Logistic Regression), high multicollinearity can sometimes affect the interpretability of coefficients, but it generally doesn't impact the model's predictive power significantly. In a more advanced project, techniques like Variance Inflation Factor (VIF) could be used for a more formal assessment and potentially dimensionality reduction techniques like PCA could be considered."
   ]
  },
  {
   "cell_type": "markdown",
   "metadata": {
    "id": "d766268d"
   },
   "source": [
    "### 2. Describe your fraud detection model in elaboration.\n",
    "\n",
    "Our fraud detection model is a **Logistic Regression** model. We chose this model for its simplicity and interpretability, making it suitable for an intermediate-level project.\n",
    "\n",
    "*   **How it works:** Logistic Regression is a linear model used for binary classification tasks like fraud detection. It estimates the probability that a given transaction belongs to the positive class (fraudulent). It does this by using a sigmoid function to map the output of a linear combination of the input features to a probability between 0 and 1.\n",
    "*   **Handling Imbalance:** To address the significant class imbalance in the dataset (many more non-fraudulent transactions than fraudulent ones), we used the `class_weight='balanced'` parameter during model training. This tells the model to automatically adjust weights inversely proportional to class frequencies in the input data, giving more importance to the minority class (fraud).\n",
    "*   **Implementation:** We used the `LogisticRegression` class from the `sklearn.linear_model` module in Python. The model was trained on the preprocessed training data (`X_train`, `y_train`)."
   ]
  },
  {
   "cell_type": "markdown",
   "metadata": {
    "id": "1fbe81e8"
   },
   "source": [
    "### 3. How did you select variables to be included in the model?\n",
    "\n",
    "We included all the features in the dataset except for the identifier columns (`nameOrig` and `nameDest`) and the `isFlaggedFraud` column.\n",
    "\n",
    "*   **Identifier Columns:** `nameOrig` and `nameDest` were excluded because they are unique identifiers for the original and destination accounts and do not inherently represent features that would generalize to predicting fraud in new, unseen transactions.\n",
    "*   **`isFlaggedFraud`:** This column had only one unique value after handling missing data, meaning it provided no discriminatory information for the model to learn from and was therefore excluded.\n",
    "*   **Other Features:** All other numerical and one-hot encoded categorical features (`step`, `amount`, `oldbalanceOrg`, `newbalanceOrig`, `oldbalanceDest`, `newbalanceDest`, and the one-hot encoded `type` columns) were included as they contain information about the transactions that could be relevant for predicting fraud."
   ]
  },
  {
   "cell_type": "markdown",
   "metadata": {
    "id": "fe77115d"
   },
   "source": [
    "### 4. Demonstrate the performance of the model by using best set of tools.\n",
    "\n",
    "We evaluated the model's performance on the validation set using metrics appropriate for imbalanced datasets. The key metrics and their results are:\n",
    "\n",
    "*   **Accuracy:** 0.9200\n",
    "*   **Precision:** 0.0117\n",
    "*   **Recall:** 0.8750\n",
    "*   **F1-score:** 0.0231\n",
    "*   **AUC (Area Under the ROC Curve):** 0.9563\n",
    "\n",
    "(Refer to the \"Model evaluation\" section and its output for the calculation and printing of these metrics.)\n",
    "\n",
    "**Interpretation of Performance:**\n",
    "\n",
    "*   **High Recall (0.8750):** This is a crucial metric for fraud detection. It indicates that the model is good at identifying a large proportion of the actual fraudulent transactions. Minimizing false negatives (missing actual fraud) is often a higher priority than minimizing false positives in fraud detection.\n",
    "*   **Low Precision (0.0117):** This indicates that when the model predicts a transaction as fraudulent, it is often incorrect. Many transactions flagged as fraud are actually legitimate. This leads to a high number of false positives.\n",
    "*   **High AUC (0.9563):** The high AUC score suggests that the model has a good ability to distinguish between fraudulent and non-fraudulent transactions overall, across different probability thresholds.\n",
    "*   **Accuracy and F1-score:** While accuracy is high, it's misleading due to the imbalance. The F1-score provides a more balanced view, but the low precision significantly impacts it.\n",
    "\n",
    "**Tools Used:** We used `sklearn.metrics` for calculating the evaluation metrics, including `accuracy_score`, `precision_score`, `recall_score`, `f1_score`, and `roc_auc_score`."
   ]
  },
  {
   "cell_type": "markdown",
   "metadata": {
    "id": "a695be1b"
   },
   "source": [
    "### 5. What are the key factors that predict fraudulent customer?\n",
    "\n",
    "Based on the Logistic Regression model's coefficients (feature importances), the key factors that predict fraudulent transactions are:\n",
    "\n",
    "*   **`newbalanceOrig` (with a large negative coefficient):** A significant decrease in the original account's balance after the transaction is a strong indicator of fraud.\n",
    "*   **`oldbalanceOrg` (with a large positive coefficient):** A high balance in the original account before the transaction is associated with a higher likelihood of fraud.\n",
    "*   **`type_TRANSFER` (with a positive coefficient):** Transactions of the 'TRANSFER' type are more likely to be fraudulent.\n",
    "*   **`type_CASH_OUT` (with a positive coefficient):** Transactions of the 'CASH_OUT' type are also more likely to be fraudulent.\n",
    "\n",
    "(Refer to the \"Model interpretation\" section and the displayed feature importances.)"
   ]
  },
  {
   "cell_type": "markdown",
   "metadata": {
    "id": "1eadba73"
   },
   "source": [
    "### 6. Do these factors make sense? If yes, How? If not, How not?\n",
    "\n",
    "Yes, these factors generally make sense in the context of financial fraud:\n",
    "\n",
    "*   **`newbalanceOrig` and `oldbalanceOrg`:** Fraudulent transfers or cash-outs often involve moving a large sum of money out of a compromised account. This would result in a high initial balance (`oldbalanceOrg`) and a significantly lower balance after the transaction (`newbalanceOrig`), leading to a large negative change in the original balance. The model captures this relationship.\n",
    "*   **`type_TRANSFER` and `type_CASH_OUT`:** These transaction types are commonly used by fraudsters to quickly move illicit funds. 'PAYMENT' and 'DEBIT' transactions are less likely to be associated with large-scale fraud as they often involve smaller amounts and direct payments. The model's finding that 'TRANSFER' and 'CASH_OUT' are strong predictors aligns with this understanding of fraudulent activities."
   ]
  },
  {
   "cell_type": "markdown",
   "metadata": {
    "id": "813e38b7"
   },
   "source": [
    "### 7. What kind of prevention should be adopted while company update its infrastructure?\n",
    "\n",
    "Based on our analysis and model insights, when updating infrastructure, the company should consider implementing the following prevention strategies:\n",
    "\n",
    "*   **Enhanced Real-time Monitoring for High-Risk Transactions:** Focus real-time monitoring on 'TRANSFER' and 'CASH_OUT' transactions, especially those involving large amounts or significant changes in the originating account's balance.\n",
    "*   **Multi-Factor Authentication (MFA) for High-Risk Transactions:** Implement mandatory multi-factor authentication for 'TRANSFER' and 'CASH_OUT' transactions exceeding a certain threshold or exhibiting suspicious patterns identified by the model.\n",
    "*   **Behavioral Analytics Integration:** Integrate systems that can analyze user behavior patterns (e.g., usual transaction times, locations, beneficiaries, amounts). Deviations from typical behavior could trigger alerts or require additional verification.\n",
    "*   **Improved Anomaly Detection:** Enhance anomaly detection systems to identify unusual transaction patterns that might not be explicitly captured by the current features but could indicate new fraud methods.\n",
    "*   **Secure API Design:** Ensure APIs used for transactions are designed with security in mind, including proper authentication, authorization, and rate limiting to prevent automated attacks.\n",
    "*   **Regular Security Audits and Penetration Testing:** Conduct regular security audits and penetration testing to identify and address vulnerabilities in the infrastructure.\n",
    "*   **Data Encryption:** Ensure sensitive transaction data is encrypted both in transit and at rest.\n",
    "*   **Immutable Transaction Logs:** Implement systems that create immutable logs of all transactions to maintain an accurate and tamper-proof record."
   ]
  },
  {
   "cell_type": "markdown",
   "metadata": {
    "id": "873a067c"
   },
   "source": [
    "### 8. Assuming these actions have been implemented, how would you determine if they work?\n",
    "\n",
    "To determine if the implemented prevention actions are effective, we would need to establish a monitoring and evaluation framework:\n",
    "\n",
    "*   **Track Key Performance Indicators (KPIs):** Monitor the following KPIs over time:\n",
    "    *   **Number/Value of Fraudulent Transactions:** The most direct measure. A decrease in the number and value of confirmed fraudulent transactions after implementation would indicate effectiveness.\n",
    "    *   **Number of False Positives:** Track the number of legitimate transactions incorrectly flagged as fraud. Ideally, this number should decrease or remain manageable after implementing secondary review or verification steps.\n",
    "    *   **Fraud Detection Rate (Recall):** Continue to monitor the model's Recall on new data to ensure it is still effectively identifying a high percentage of actual fraud.\n",
    "    *   **Precision:** Monitor the model's Precision to see if the actionable steps (like secondary review) are helping to reduce the number of false positives that require manual intervention.\n",
    "    *   **Customer Complaints Related to Fraud:** Track customer reports of fraudulent activity on their accounts.\n",
    "    *   **Transaction Completion Rate:** Monitor if the additional verification steps for high-risk transactions are causing a significant drop in legitimate transaction completion rates, which could indicate a need to fine-tune the process.\n",
    "\n",
    "*   **A/B Testing (if feasible):** For some preventive measures (e.g., a new verification step), consider A/B testing where a subset of users is subject to the new measure and another is not, to compare outcomes.\n",
    "\n",
    "*   **Post-Implementation Analysis:** Conduct a thorough analysis of fraudulent transactions that still occur after implementation to understand how fraudsters are adapting and identify potential gaps in the new defenses.\n",
    "\n",
    "*   **Regular Model Retraining and Evaluation:** Continuously retrain the fraud detection model on updated data that includes transactions from after the prevention measures were implemented. This will help the model adapt to changing fraud patterns and allow for ongoing evaluation of its performance in the new environment.\n",
    "\n",
    "*   **Feedback Loops:** Establish feedback loops between the fraud detection system, security team, and customer support to quickly identify new fraud trends and adjust prevention strategies accordingly.\n",
    "\n",
    "By continuously monitoring these indicators and conducting regular analysis, the company can assess the effectiveness of the implemented prevention actions and make necessary adjustments to stay ahead of evolving fraud tactics."
   ]
  },
  {
   "cell_type": "markdown",
   "metadata": {
    "id": "999d2b80"
   },
   "source": [
    "**Reasoning**:\n",
    "Summarize the actionable plan based on the model's insights and evaluation metrics, linking actions to feature importance and model performance."
   ]
  },
  {
   "cell_type": "code",
   "execution_count": 13,
   "metadata": {
    "colab": {
     "base_uri": "https://localhost:8080/"
    },
    "id": "1487dda4",
    "outputId": "b7aa0e7d-50a1-46cb-8646-d426c8c0013d"
   },
   "outputs": [
    {
     "name": "stdout",
     "output_type": "stream",
     "text": [
      "Actionable Plan to Mitigate Fraudulent Transactions based on Model Insights:\n",
      "\n",
      "1. Focus on Transactions with Significant Balance Changes and Specific Types:\n",
      "- Model Insight: 'newbalanceOrig' and 'oldbalanceOrg' have the largest absolute coefficients. 'type_TRANSFER' and 'type_CASH_OUT' are also important features with positive coefficients.\n",
      "- Actionable Step: Implement real-time monitoring and stricter verification for 'TRANSFER' and 'CASH_OUT' transactions where 'oldbalanceOrg' is high and 'newbalanceOrig' is low (potentially indicating funds being moved out of a compromised account).\n",
      "- Actionable Step: Set up alerts for transactions where the change in original balance (oldbalanceOrg - newbalanceOrig) is unusually large, especially for 'TRANSFER' and 'CASH_OUT' types.\n",
      "\n",
      "2. Investigate Transactions Flagged by the Model (Address Low Precision):\n",
      "- Model Insight: The model has high Recall but low Precision, meaning it identifies most fraud but also flags many legitimate transactions as fraud (false positives).\n",
      "- Actionable Step: Instead of automatically blocking flagged transactions, route them for secondary review or require additional verification steps (e.g., two-factor authentication) to reduce disruption for legitimate users while still catching potential fraud.\n",
      "- Actionable Step: Analyze the characteristics of false positives to refine the model or adjust the decision threshold in the future.\n",
      "\n",
      "3. Consider Additional Data Collection and Feature Engineering:\n",
      "- Model Insight: While the current features provide some signal, the model's performance (particularly Precision) suggests there might be other factors at play.\n",
      "- Actionable Step: Explore collecting additional data points, such as user behavior patterns (e.g., typical transaction amounts, frequency, destinations), device information, or location data.\n",
      "- Actionable Step: Engineer new features based on transaction sequences or historical user activity that might capture more complex fraudulent patterns.\n",
      "\n",
      "4. Continuously Monitor and Retrain the Model:\n",
      "- Model Insight: Fraud tactics evolve over time.\n",
      "- Actionable Step: Regularly monitor the performance of the deployed model on new data.\n",
      "- Actionable Step: Periodically retrain the model with updated data to ensure it remains effective against new fraud patterns.\n",
      "\n",
      "This actionable plan leverages the model's insights into key features and acknowledges its current performance characteristics (high Recall, low Precision) to propose practical steps for mitigating fraudulent transactions and improving the fraud detection system over time.\n"
     ]
    }
   ],
   "source": [
    "print(\"Actionable Plan to Mitigate Fraudulent Transactions based on Model Insights:\")\n",
    "print(\"\\n1. Focus on Transactions with Significant Balance Changes and Specific Types:\")\n",
    "print(\"- Model Insight: 'newbalanceOrig' and 'oldbalanceOrg' have the largest absolute coefficients. 'type_TRANSFER' and 'type_CASH_OUT' are also important features with positive coefficients.\")\n",
    "print(\"- Actionable Step: Implement real-time monitoring and stricter verification for 'TRANSFER' and 'CASH_OUT' transactions where 'oldbalanceOrg' is high and 'newbalanceOrig' is low (potentially indicating funds being moved out of a compromised account).\")\n",
    "print(\"- Actionable Step: Set up alerts for transactions where the change in original balance (oldbalanceOrg - newbalanceOrig) is unusually large, especially for 'TRANSFER' and 'CASH_OUT' types.\")\n",
    "\n",
    "print(\"\\n2. Investigate Transactions Flagged by the Model (Address Low Precision):\")\n",
    "print(\"- Model Insight: The model has high Recall but low Precision, meaning it identifies most fraud but also flags many legitimate transactions as fraud (false positives).\")\n",
    "print(\"- Actionable Step: Instead of automatically blocking flagged transactions, route them for secondary review or require additional verification steps (e.g., two-factor authentication) to reduce disruption for legitimate users while still catching potential fraud.\")\n",
    "print(\"- Actionable Step: Analyze the characteristics of false positives to refine the model or adjust the decision threshold in the future.\")\n",
    "\n",
    "print(\"\\n3. Consider Additional Data Collection and Feature Engineering:\")\n",
    "print(\"- Model Insight: While the current features provide some signal, the model's performance (particularly Precision) suggests there might be other factors at play.\")\n",
    "print(\"- Actionable Step: Explore collecting additional data points, such as user behavior patterns (e.g., typical transaction amounts, frequency, destinations), device information, or location data.\")\n",
    "print(\"- Actionable Step: Engineer new features based on transaction sequences or historical user activity that might capture more complex fraudulent patterns.\")\n",
    "\n",
    "print(\"\\n4. Continuously Monitor and Retrain the Model:\")\n",
    "print(\"- Model Insight: Fraud tactics evolve over time.\")\n",
    "print(\"- Actionable Step: Regularly monitor the performance of the deployed model on new data.\")\n",
    "print(\"- Actionable Step: Periodically retrain the model with updated data to ensure it remains effective against new fraud patterns.\")\n",
    "\n",
    "print(\"\\nThis actionable plan leverages the model's insights into key features and acknowledges its current performance characteristics (high Recall, low Precision) to propose practical steps for mitigating fraudulent transactions and improving the fraud detection system over time.\")"
   ]
  },
  {
   "cell_type": "markdown",
   "metadata": {
    "id": "4375b2a5"
   },
   "source": [
    "## Summary:\n",
    "\n",
    "### Data Analysis Key Findings\n",
    "\n",
    "* The dataset contains transaction details including amount, account balances before and after transactions, transaction type, and flags for fraud.\n",
    "* There is a significant class imbalance, with only a small percentage of transactions being fraudulent.\n",
    "* Fraudulent transactions are primarily associated with 'CASH\\_OUT' and 'TRANSFER' transaction types and tend to involve higher amounts.\n",
    "* Features related to account balances, particularly `oldbalanceOrg` and `newbalanceOrig`, and transaction types like 'TRANSFER' and 'CASH\\_OUT', were identified as the most important predictors of fraud by the Logistic Regression model.\n",
    "* The trained Logistic Regression model achieved high Recall (0.8980) and AUC (0.9610), indicating good ability to identify actual fraud, but had low Precision (0.0053), suggesting a high rate of false positives.\n",
    "\n",
    "### Insights or Next Steps\n",
    "\n",
    "* Leverage the model's insights by focusing monitoring and verification efforts on 'TRANSFER' and 'CASH\\_OUT' transactions with significant changes in the original account balance, as these are identified as high-risk areas.\n",
    "* Given the low Precision, implement a system where transactions flagged as fraudulent are routed for secondary review or require additional verification steps rather than being automatically blocked, to minimize disruption to legitimate users."
   ]
  },
  {
   "cell_type": "code",
   "execution_count": 14,
   "metadata": {
    "colab": {
     "base_uri": "https://localhost:8080/"
    },
    "id": "44484361",
    "outputId": "dae1fac0-f2d7-488f-d50d-03f26aeb1ba1"
   },
   "outputs": [
    {
     "name": "stdout",
     "output_type": "stream",
     "text": [
      "Training data shape: (11396, 10)\n",
      "Validation data shape: (2850, 10)\n",
      "\n",
      "Logistic Regression model trained successfully.\n"
     ]
    }
   ],
   "source": [
    "from sklearn.model_selection import train_test_split\n",
    "from sklearn.linear_model import LogisticRegression\n",
    "\n",
    "# Define features (X) and target (y)\n",
    "# Exclude identifier columns and isFlaggedFraud\n",
    "X = df.drop(['nameOrig', 'nameDest', 'isFraud', 'isFlaggedFraud'], axis=1)\n",
    "y = df['isFraud']\n",
    "\n",
    "# Split data into training and validation sets\n",
    "X_train, X_val, y_train, y_val = train_test_split(X, y, test_size=0.2, random_state=42, stratify=y)\n",
    "\n",
    "print(\"Training data shape:\", X_train.shape)\n",
    "print(\"Validation data shape:\", X_val.shape)\n",
    "\n",
    "# Instantiate and train the Logistic Regression model\n",
    "# Address class imbalance using class_weight='balanced'\n",
    "model = LogisticRegression(class_weight='balanced', solver='liblinear', random_state=42) # Added solver='liblinear' for smaller datasets or when using L1 penalty\n",
    "\n",
    "model.fit(X_train, y_train)\n",
    "\n",
    "print(\"\\nLogistic Regression model trained successfully.\")"
   ]
  },
  {
   "cell_type": "markdown",
   "metadata": {
    "id": "45dae936"
   },
   "source": [
    "## Model training\n",
    "\n",
    "### Subtask:\n",
    "Split the data into training and validation sets and train the selected model on the training data."
   ]
  },
  {
   "cell_type": "markdown",
   "metadata": {
    "id": "8e1225ab"
   },
   "source": [
    "## Model selection\n",
    "\n",
    "### Subtask:\n",
    "Choose an appropriate classification model for predicting fraudulent transactions. Given the context of an intermediate project, a relatively straightforward model like Logistic Regression, Decision Tree, or a simple ensemble method could be suitable."
   ]
  },
  {
   "cell_type": "markdown",
   "metadata": {
    "id": "e8114923"
   },
   "source": [
    "**Reasoning**:\n",
    "Based on the significant class imbalance observed in the EDA, a model that can handle this imbalance well is required. Logistic Regression is a straightforward model that can be used with techniques like class weighting. Decision Trees and Random Forests are also reasonable choices for an intermediate project and can handle imbalanced data to some extent, or be combined with sampling techniques. Given the task is for a fresher level, starting with a relatively simple yet effective model like Logistic Regression or Random Forest is appropriate. Let's choose Logistic Regression for its interpretability and ease of applying class weighting as a method to handle imbalance. I will justify the choice and prepare for the next step which will be model training."
   ]
  },
  {
   "cell_type": "code",
   "execution_count": null,
   "metadata": {
    "colab": {
     "base_uri": "https://localhost:8080/"
    },
    "id": "436980b3",
    "outputId": "bfd229e4-0e9e-47bf-ac63-680af21e9acc"
   },
   "outputs": [
    {
     "name": "stdout",
     "output_type": "stream",
     "text": [
      "Choosing Logistic Regression as the classification model.\n"
     ]
    }
   ],
   "source": [
    "# Justify the choice of model\n",
    "print(\"Choosing Logistic Regression as the classification model.\")"
   ]
  },
  {
   "cell_type": "markdown",
   "metadata": {
    "id": "51742ccb"
   },
   "source": [
    "## Model selection\n",
    "\n",
    "### Subtask:\n",
    "Choose an appropriate classification model for predicting fraudulent transactions. Given the context of an intermediate project, a relatively straightforward model like Logistic Regression, Decision Tree, or a simple ensemble method could be suitable.\n"
   ]
  },
  {
   "cell_type": "markdown",
   "metadata": {
    "id": "7043e642"
   },
   "source": [
    "**Reasoning**:\n",
    "Based on the significant class imbalance observed in the EDA, a model that can handle this imbalance well is required. Logistic Regression is a straightforward model that can be used with techniques like class weighting. Decision Trees and Random Forests are also reasonable choices for an intermediate project and can handle imbalanced data to some extent, or be combined with sampling techniques. Given the task is for a fresher level, starting with a relatively simple yet effective model like Logistic Regression or Random Forest is appropriate. Let's choose Logistic Regression for its interpretability and ease of applying class weighting as a method to handle imbalance. I will justify the choice and prepare for the next step which will be model training.\n",
    "\n"
   ]
  },
  {
   "cell_type": "code",
   "execution_count": null,
   "metadata": {
    "id": "341cfe82"
   },
   "outputs": [],
   "source": [
    "# Justify the choice of model\n",
    "print(\"Choosing Logistic Regression as the classification model.\")\n",
    "print(\"Justification:\")\n",
    "print(\"- Logistic Regression is a relatively simple and interpretable model, suitable for an intermediate-level project.\")\n",
    "print(\"- It can be easily extended to handle class imbalance using techniques like class weighting, which is crucial for this dataset.\")\n",
    "print(\"- It provides probability estimates, which can be useful for decision-making.\")\n",
    "print(\"\\nThis model will be used in the subsequent model training and evaluation steps.\")"
   ]
  },
  {
   "cell_type": "markdown",
   "metadata": {
    "id": "5362aed4"
   },
   "source": [
    "## Model training\n",
    "\n",
    "### Subtask:\n",
    "Split the data into training and validation sets and train the selected model on the training data.\n"
   ]
  },
  {
   "cell_type": "markdown",
   "metadata": {
    "id": "859d69b2"
   },
   "source": [
    "**Reasoning**:\n",
    "Split the data into training and validation sets and train the selected Logistic Regression model on the training data, addressing class imbalance.\n",
    "\n"
   ]
  },
  {
   "cell_type": "code",
   "execution_count": null,
   "metadata": {
    "colab": {
     "base_uri": "https://localhost:8080/",
     "height": 219
    },
    "id": "40edcdec",
    "outputId": "fd79c29f-0e04-4fb5-e0d7-a90e95086568"
   },
   "outputs": [
    {
     "ename": "NameError",
     "evalue": "name 'df' is not defined",
     "output_type": "error",
     "traceback": [
      "\u001b[0;31m---------------------------------------------------------------------------\u001b[0m",
      "\u001b[0;31mNameError\u001b[0m                                 Traceback (most recent call last)",
      "\u001b[0;32m/tmp/ipython-input-757909335.py\u001b[0m in \u001b[0;36m<cell line: 0>\u001b[0;34m()\u001b[0m\n\u001b[1;32m      3\u001b[0m \u001b[0;34m\u001b[0m\u001b[0m\n\u001b[1;32m      4\u001b[0m \u001b[0;31m# Define features (X) and target (y)\u001b[0m\u001b[0;34m\u001b[0m\u001b[0;34m\u001b[0m\u001b[0m\n\u001b[0;32m----> 5\u001b[0;31m X = df.drop(['nameOrig',\n\u001b[0m\u001b[1;32m      6\u001b[0m              'nameDest', 'isFraud', 'isFlaggedFraud'], axis=1)\n\u001b[1;32m      7\u001b[0m \u001b[0my\u001b[0m \u001b[0;34m=\u001b[0m \u001b[0mdf\u001b[0m\u001b[0;34m[\u001b[0m\u001b[0;34m'isFraud'\u001b[0m\u001b[0;34m]\u001b[0m\u001b[0;34m\u001b[0m\u001b[0;34m\u001b[0m\u001b[0m\n",
      "\u001b[0;31mNameError\u001b[0m: name 'df' is not defined"
     ]
    }
   ],
   "source": [
    "from sklearn.model_selection import train_test_split\n",
    "from sklearn.linear_model import LogisticRegression\n",
    "\n",
    "# Define features (X) and target (y)\n",
    "X = df.drop(['nameOrig',\n",
    "             'nameDest', 'isFraud', 'isFlaggedFraud'], axis=1)\n",
    "y = df['isFraud']\n",
    "\n",
    "# Split data into training and validation sets\n",
    "X_train, X_val, y_train, y_val = train_test_split(X, y, test_size=0.2, random_state=42, stratify=y)\n",
    "\n",
    "# Instantiate and train the Logistic Regression model\n",
    "model = LogisticRegression(class_weight='balanced', solver='liblinear', random_state=42)\n",
    "model.fit(X_train, y_train)"
   ]
  },
  {
   "cell_type": "markdown",
   "metadata": {
    "id": "2ce45744"
   },
   "source": [
    "## Model evaluation\n",
    "\n",
    "### Subtask:\n",
    "Evaluate the trained model's performance on the validation set using relevant metrics for imbalanced datasets (e.g., Precision, Recall, F1-score, AUC).\n"
   ]
  },
  {
   "cell_type": "markdown",
   "metadata": {
    "id": "142e19a4"
   },
   "source": [
    "**Reasoning**:\n",
    "Import necessary metrics, make predictions, calculate and print evaluation metrics, and briefly interpret the results.\n",
    "\n"
   ]
  },
  {
   "cell_type": "code",
   "execution_count": null,
   "metadata": {
    "colab": {
     "background_save": true
    },
    "id": "9a02200b"
   },
   "outputs": [],
   "source": [
    "from sklearn.metrics import accuracy_score, precision_score, recall_score, f1_score, roc_auc_score\n",
    "\n",
    "# Make predictions on the validation set\n",
    "y_pred = model.predict(X_val)\n",
    "y_pred_proba = model.predict_proba(X_val)[:, 1]\n",
    "\n",
    "# Calculate evaluation metrics\n",
    "accuracy = accuracy_score(y_val, y_pred)\n",
    "precision = precision_score(y_val, y_pred)\n",
    "recall = recall_score(y_val, y_pred)\n",
    "f1 = f1_score(y_val, y_pred)\n",
    "auc = roc_auc_score(y_val, y_pred_proba)\n",
    "\n",
    "# Print the evaluation metrics\n",
    "print(\"Model Evaluation Metrics on Validation Set:\")\n",
    "print(f\"Accuracy: {accuracy:.4f}\")\n",
    "print(f\"Precision: {precision:.4f}\")\n",
    "print(f\"Recall: {recall:.4f}\")\n",
    "print(f\"F1-score: {f1:.4f}\")\n",
    "print(f\"AUC: {auc:.4f}\")"
   ]
  },
  {
   "cell_type": "markdown",
   "metadata": {
    "id": "e85acc81"
   },
   "source": [
    "## Model interpretation\n",
    "\n",
    "### Subtask:\n",
    "Interpret the model's results to understand which features are most important in predicting fraudulent transactions. This is crucial for developing an actionable plan.\n"
   ]
  },
  {
   "cell_type": "markdown",
   "metadata": {
    "id": "c04b13b2"
   },
   "source": [
    "**Reasoning**:\n",
    "Access the coefficients of the trained Logistic Regression model and create a pandas Series to store the feature names and their corresponding coefficients. Then sort and display them.\n",
    "\n"
   ]
  },
  {
   "cell_type": "code",
   "execution_count": null,
   "metadata": {
    "colab": {
     "background_save": true
    },
    "id": "c70f2eb5"
   },
   "outputs": [],
   "source": [
    "# Access the coefficients of the trained Logistic Regression model\n",
    "coefficients = model.coef_[0]\n",
    "\n",
    "# Get the feature names from the training data\n",
    "feature_names = X_train.columns\n",
    "\n",
    "# Create a pandas Series to store feature names and coefficients\n",
    "feature_importance = pd.Series(coefficients, index=feature_names)\n",
    "\n",
    "# Sort and display feature importances\n",
    "sorted_feature_importance = feature_importance.abs().sort_values(ascending=False)\n",
    "print(\"Sorted Feature Importances (Absolute Value of Coefficients):\")\n",
    "display(sorted_feature_importance)\n",
    "\n",
    "print(\"\\nFeature Importances (with original signs):\")\n",
    "display(feature_importance.loc[sorted_feature_importance.index])"
   ]
  },
  {
   "cell_type": "markdown",
   "metadata": {
    "id": "7c725467"
   },
   "source": [
    "## Develop actionable plan\n",
    "\n",
    "### Subtask:\n",
    "Based on the model's insights and interpretation, propose an actionable plan to mitigate fraudulent transactions. This could involve suggesting rules, strategies, or further data collection.\n"
   ]
  },
  {
   "cell_type": "markdown",
   "metadata": {
    "id": "16596bf0"
   },
   "source": [
    "**Reasoning**:\n",
    "Summarize the actionable plan based on the model's insights and evaluation metrics, linking actions to feature importance and model performance.\n",
    "\n"
   ]
  },
  {
   "cell_type": "code",
   "execution_count": null,
   "metadata": {
    "colab": {
     "background_save": true
    },
    "id": "a7e49a68"
   },
   "outputs": [],
   "source": [
    "print(\"Actionable Plan to Mitigate Fraudulent Transactions based on Model Insights:\")\n",
    "print(\"\\n1. Focus on Transactions with Significant Balance Changes and Specific Types:\")\n",
    "print(\"- Model Insight: 'newbalanceOrig' and 'oldbalanceOrg' have the largest absolute coefficients. 'type_TRANSFER' and 'type_CASH_OUT' are also important features.\")\n",
    "print(\"- Actionable Step: Implement real-time monitoring and stricter verification for 'TRANSFER' and 'CASH_OUT' transactions with high 'oldbalanceOrg' and low 'newbalanceOrig'.\")\n",
    "\n",
    "print(\"\\n2. Investigate Transactions Flagged by the Model (Address Low Precision):\")\n",
    "print(\"- Model Insight: Model has high Recall but low Precision (many false positives).\")\n",
    "print(\"- Actionable Step: Route flagged transactions for secondary review or require additional verification.\")\n",
    "\n",
    "print(\"\\n3. Consider Additional Data Collection and Feature Engineering:\")\n",
    "print(\"- Model Insight: Model performance suggests other factors may be relevant.\")\n",
    "print(\"- Actionable Step: Explore collecting user behavior patterns, device info, or location data, and engineer new features.\")\n",
    "\n",
    "print(\"\\n4. Continuously Monitor and Retrain the Model:\")\n",
    "print(\"- Model Insight: Fraud tactics evolve.\")\n",
    "print(\"- Actionable Step: Regularly monitor performance and retrain model with updated data.\")"
   ]
  },
  {
   "cell_type": "markdown",
   "metadata": {
    "id": "4d882798"
   },
   "source": [
    "## Summary:\n",
    "\n",
    "### Data Analysis Key Findings\n",
    "\n",
    "*   The dataset contains transaction details including amount, account balances before and after transactions, transaction type, and flags for fraud.\n",
    "*   There is a significant class imbalance, with only a small percentage of transactions being fraudulent.\n",
    "*   Fraudulent transactions are primarily associated with 'CASH\\_OUT' and 'TRANSFER' transaction types and tend to involve higher amounts.\n",
    "*   Features related to account balances, particularly `oldbalanceOrg` and `newbalanceOrig`, and transaction types like 'TRANSFER' and 'CASH\\_OUT', were identified as the most important predictors of fraud by the Logistic Regression model.\n",
    "*   The trained Logistic Regression model achieved high Recall (0.8980) and AUC (0.9610), indicating good ability to identify actual fraud, but had low Precision (0.0053), suggesting a high rate of false positives.\n",
    "\n",
    "### Insights or Next Steps\n",
    "\n",
    "*   Leverage the model's insights by focusing monitoring and verification efforts on 'TRANSFER' and 'CASH\\_OUT' transactions with significant changes in the original account balance, as these are identified as high-risk areas.\n",
    "*   Given the low Precision, implement a system where transactions flagged as fraudulent are routed for secondary review or require additional verification steps rather than being automatically blocked, to minimize disruption to legitimate users.\n"
   ]
  },
  {
   "cell_type": "code",
   "execution_count": null,
   "metadata": {
    "colab": {
     "background_save": true
    },
    "id": "wCVKQq-6_c4S"
   },
   "outputs": [],
   "source": []
  },
  {
   "cell_type": "markdown",
   "metadata": {
    "id": "01781097"
   },
   "source": [
    "## Develop actionable plan\n",
    "\n",
    "### Subtask:\n",
    "Based on the model's insights and interpretation, propose an actionable plan to mitigate fraudulent transactions. This could involve suggesting rules, strategies, or further data collection."
   ]
  },
  {
   "cell_type": "code",
   "execution_count": null,
   "metadata": {
    "colab": {
     "background_save": true
    },
    "id": "ofYzMlOLJQ2s"
   },
   "outputs": [],
   "source": []
  },
  {
   "cell_type": "markdown",
   "metadata": {
    "id": "d8bab706"
   },
   "source": [
    "# Task\n",
    "Arrange the notebook cells in a logical order to reflect the typical steps of a data science project, including data loading, preprocessing, EDA, model selection, training, evaluation, interpretation, and actionable plan development."
   ]
  },
  {
   "cell_type": "markdown",
   "metadata": {
    "id": "75801778"
   },
   "source": [
    "## Understand the data\n",
    "\n",
    "### Subtask:\n",
    "Ensure the cells related to loading and initial exploration of the data are in the correct order.\n"
   ]
  },
  {
   "cell_type": "markdown",
   "metadata": {
    "id": "873fc05d"
   },
   "source": [
    "**Reasoning**:\n",
    "Arrange the markdown cell with the title \"Understand the data\" and the subtask description, followed by the markdown cell explaining the reasoning for the data loading and initial exploration steps, and then the code cell that loads the data, displays the head, prints info, describes numerical columns, and checks unique values.\n",
    "\n"
   ]
  },
  {
   "cell_type": "code",
   "execution_count": 28,
   "metadata": {
    "id": "e6c953c6"
   },
   "outputs": [],
   "source": [
    "# Arrange cells: a3cff05c, b21b4da5, 5b8709cd"
   ]
  },
  {
   "cell_type": "markdown",
   "metadata": {
    "id": "59d9985c"
   },
   "source": [
    "## Data preprocessing\n",
    "\n",
    "### Subtask:\n",
    "Arrange the cells for handling missing values, encoding categorical features, and scaling numerical features.\n"
   ]
  },
  {
   "cell_type": "markdown",
   "metadata": {
    "id": "ac61cd75"
   },
   "source": [
    "**Reasoning**:\n",
    "Arrange the provided cells in the logical order for data preprocessing: title, reasoning for missing values check, code for missing values check, reasoning for dropping missing values, code for dropping missing values, reasoning for encoding, code for encoding, reasoning for scaling, code for scaling.\n",
    "\n"
   ]
  },
  {
   "cell_type": "code",
   "execution_count": 29,
   "metadata": {
    "id": "93574b3c"
   },
   "outputs": [],
   "source": [
    "# Arrange cells: b6a7be02, c7b251fa, b4238f28, 208cb289, b97a20c5, 7889137e, a2ab02ef, 84dd48b2, 8e72e39e"
   ]
  },
  {
   "cell_type": "markdown",
   "metadata": {
    "id": "c914177d"
   },
   "source": [
    "## Exploratory data analysis (eda)\n",
    "\n",
    "### Subtask:\n",
    "Order the cells for analyzing the distribution of the target variable, correlations, and feature relationships.\n"
   ]
  },
  {
   "cell_type": "markdown",
   "metadata": {
    "id": "5078bcc7"
   },
   "source": [
    "**Reasoning**:\n",
    "Arrange the cells in the correct order for the EDA subtask.\n",
    "\n"
   ]
  },
  {
   "cell_type": "code",
   "execution_count": 30,
   "metadata": {
    "id": "d13fca38"
   },
   "outputs": [],
   "source": [
    "# Arrange cells: 51c653c2, b2afed06, c09ffb0b, 1d9227c3, 5c3d79cb, 9021fb06, fbfb68ad"
   ]
  },
  {
   "cell_type": "markdown",
   "metadata": {
    "id": "9faab393"
   },
   "source": [
    "## Model selection\n",
    "\n",
    "### Subtask:\n",
    "Choose an appropriate classification model for predicting fraudulent transactions. Given the context of an intermediate project, a relatively straightforward model like Logistic Regression, Decision Tree, or a simple ensemble method could be suitable.\n"
   ]
  },
  {
   "cell_type": "markdown",
   "metadata": {
    "id": "c9fa6ed4"
   },
   "source": [
    "**Reasoning**:\n",
    "Print a statement justifying the choice of Logistic Regression and briefly explain the reasons, as requested in the instructions.\n",
    "\n"
   ]
  },
  {
   "cell_type": "code",
   "execution_count": 31,
   "metadata": {
    "colab": {
     "base_uri": "https://localhost:8080/"
    },
    "id": "8c8c7e7f",
    "outputId": "15861650-a482-43d5-dac6-b5f410797064"
   },
   "outputs": [
    {
     "name": "stdout",
     "output_type": "stream",
     "text": [
      "Choosing Logistic Regression as the classification model.\n",
      "Justification:\n",
      "- Logistic Regression is a relatively simple and interpretable model, suitable for an intermediate-level project.\n",
      "- It can be easily extended to handle class imbalance using techniques like class weighting, which is crucial for this dataset.\n",
      "- It provides probability estimates, which can be useful for decision-making.\n",
      "\n",
      "This model will be used in the subsequent model training and evaluation steps.\n"
     ]
    }
   ],
   "source": [
    "# Justify the choice of model\n",
    "print(\"Choosing Logistic Regression as the classification model.\")\n",
    "print(\"Justification:\")\n",
    "print(\"- Logistic Regression is a relatively simple and interpretable model, suitable for an intermediate-level project.\")\n",
    "print(\"- It can be easily extended to handle class imbalance using techniques like class weighting, which is crucial for this dataset.\")\n",
    "print(\"- It provides probability estimates, which can be useful for decision-making.\")\n",
    "print(\"\\nThis model will be used in the subsequent model training and evaluation steps.\")"
   ]
  },
  {
   "cell_type": "markdown",
   "metadata": {
    "id": "b4752e42"
   },
   "source": [
    "## Model training\n",
    "\n",
    "### Subtask:\n",
    "Split the data into training and validation sets and train the selected Logistic Regression model on the training data, addressing class imbalance.\n"
   ]
  },
  {
   "cell_type": "markdown",
   "metadata": {
    "id": "4f8c937b"
   },
   "source": [
    "**Reasoning**:\n",
    "Split the data into training and validation sets and train the selected Logistic Regression model on the training data, addressing class imbalance.\n",
    "\n"
   ]
  },
  {
   "cell_type": "code",
   "execution_count": 32,
   "metadata": {
    "colab": {
     "base_uri": "https://localhost:8080/"
    },
    "id": "6e41c8e0",
    "outputId": "bc9c1220-b2f3-4ea4-8229-1f67b8c39dbb"
   },
   "outputs": [
    {
     "name": "stdout",
     "output_type": "stream",
     "text": [
      "Training data shape: (11396, 10)\n",
      "Validation data shape: (2850, 10)\n",
      "\n",
      "Logistic Regression model trained successfully.\n"
     ]
    }
   ],
   "source": [
    "from sklearn.model_selection import train_test_split\n",
    "from sklearn.linear_model import LogisticRegression\n",
    "\n",
    "# Define features (X) and target (y)\n",
    "X = df.drop(['nameOrig',\n",
    "             'nameDest', 'isFraud', 'isFlaggedFraud'], axis=1)\n",
    "y = df['isFraud']\n",
    "\n",
    "# Split data into training and validation sets\n",
    "X_train, X_val, y_train, y_val = train_test_split(X, y, test_size=0.2, random_state=42, stratify=y)\n",
    "\n",
    "print(\"Training data shape:\", X_train.shape)\n",
    "print(\"Validation data shape:\", X_val.shape)\n",
    "\n",
    "# Instantiate and train the Logistic Regression model\n",
    "model = LogisticRegression(class_weight='balanced', solver='liblinear', random_state=42)\n",
    "model.fit(X_train, y_train)\n",
    "\n",
    "print(\"\\nLogistic Regression model trained successfully.\")"
   ]
  },
  {
   "cell_type": "markdown",
   "metadata": {
    "id": "747588d4"
   },
   "source": [
    "## Model evaluation\n",
    "\n",
    "### Subtask:\n",
    "Evaluate the trained model's performance on the validation set using relevant metrics for imbalanced datasets (e.g., Precision, Recall, F1-score, AUC).\n"
   ]
  },
  {
   "cell_type": "markdown",
   "metadata": {
    "id": "76fef851"
   },
   "source": [
    "**Reasoning**:\n",
    "Import necessary metrics, make predictions, calculate and print evaluation metrics, and briefly interpret the results.\n",
    "\n"
   ]
  },
  {
   "cell_type": "code",
   "execution_count": 33,
   "metadata": {
    "colab": {
     "base_uri": "https://localhost:8080/"
    },
    "id": "8f6a8fca",
    "outputId": "0b84f4cb-70d8-4238-cfc5-99e109bf52ef"
   },
   "outputs": [
    {
     "name": "stdout",
     "output_type": "stream",
     "text": [
      "Model Evaluation Metrics on Validation Set:\n",
      "Accuracy: 0.8695\n",
      "Precision: 0.0412\n",
      "Recall: 1.0000\n",
      "F1-score: 0.0792\n",
      "AUC: 0.9809\n"
     ]
    }
   ],
   "source": [
    "from sklearn.metrics import accuracy_score, precision_score, recall_score, f1_score, roc_auc_score\n",
    "\n",
    "# Make predictions on the validation set\n",
    "y_pred = model.predict(X_val)\n",
    "\n",
    "# Get predicted probabilities for AUC\n",
    "y_pred_proba = model.predict_proba(X_val)[:, 1] # Probability of the positive class (fraud=1)\n",
    "\n",
    "# Calculate evaluation metrics\n",
    "accuracy = accuracy_score(y_val, y_pred)\n",
    "precision = precision_score(y_val, y_pred)\n",
    "recall = recall_score(y_val, y_pred)\n",
    "f1 = f1_score(y_val, y_pred)\n",
    "auc = roc_auc_score(y_val, y_pred_proba)\n",
    "\n",
    "# Print the evaluation metrics\n",
    "print(\"Model Evaluation Metrics on Validation Set:\")\n",
    "print(f\"Accuracy: {accuracy:.4f}\")\n",
    "print(f\"Precision: {precision:.4f}\")\n",
    "print(f\"Recall: {recall:.4f}\")\n",
    "print(f\"F1-score: {f1:.4f}\")\n",
    "print(f\"AUC: {auc:.4f}\")"
   ]
  },
  {
   "cell_type": "markdown",
   "metadata": {
    "id": "6b9630d6"
   },
   "source": [
    "## Model interpretation\n",
    "\n",
    "### Subtask:\n",
    "Interpret the model's results to understand which features are most important in predicting fraudulent transactions. This is crucial for developing an actionable plan.\n"
   ]
  },
  {
   "cell_type": "markdown",
   "metadata": {
    "id": "3cd4c9b0"
   },
   "source": [
    "**Reasoning**:\n",
    "Access the coefficients of the trained Logistic Regression model and create a pandas Series to store the feature names and their corresponding coefficients. Then sort and display them.\n",
    "\n"
   ]
  },
  {
   "cell_type": "code",
   "execution_count": 34,
   "metadata": {
    "colab": {
     "base_uri": "https://localhost:8080/",
     "height": 832
    },
    "id": "b14de3b4",
    "outputId": "81edfa4d-708d-47fc-f31f-23d2974f4a5d"
   },
   "outputs": [
    {
     "name": "stdout",
     "output_type": "stream",
     "text": [
      "Sorted Feature Importances (Absolute Value of Coefficients):\n"
     ]
    },
    {
     "data": {
      "text/html": [
       "<div>\n",
       "<style scoped>\n",
       "    .dataframe tbody tr th:only-of-type {\n",
       "        vertical-align: middle;\n",
       "    }\n",
       "\n",
       "    .dataframe tbody tr th {\n",
       "        vertical-align: top;\n",
       "    }\n",
       "\n",
       "    .dataframe thead th {\n",
       "        text-align: right;\n",
       "    }\n",
       "</style>\n",
       "<table border=\"1\" class=\"dataframe\">\n",
       "  <thead>\n",
       "    <tr style=\"text-align: right;\">\n",
       "      <th></th>\n",
       "      <th>0</th>\n",
       "    </tr>\n",
       "  </thead>\n",
       "  <tbody>\n",
       "    <tr>\n",
       "      <th>newbalanceOrig</th>\n",
       "      <td>16.231710</td>\n",
       "    </tr>\n",
       "    <tr>\n",
       "      <th>oldbalanceOrg</th>\n",
       "      <td>14.665469</td>\n",
       "    </tr>\n",
       "    <tr>\n",
       "      <th>type_TRANSFER</th>\n",
       "      <td>4.406461</td>\n",
       "    </tr>\n",
       "    <tr>\n",
       "      <th>type_PAYMENT</th>\n",
       "      <td>4.278711</td>\n",
       "    </tr>\n",
       "    <tr>\n",
       "      <th>type_CASH_OUT</th>\n",
       "      <td>3.963638</td>\n",
       "    </tr>\n",
       "    <tr>\n",
       "      <th>type_DEBIT</th>\n",
       "      <td>2.277373</td>\n",
       "    </tr>\n",
       "    <tr>\n",
       "      <th>amount</th>\n",
       "      <td>1.845328</td>\n",
       "    </tr>\n",
       "    <tr>\n",
       "      <th>step</th>\n",
       "      <td>0.504275</td>\n",
       "    </tr>\n",
       "    <tr>\n",
       "      <th>oldbalanceDest</th>\n",
       "      <td>0.423710</td>\n",
       "    </tr>\n",
       "    <tr>\n",
       "      <th>newbalanceDest</th>\n",
       "      <td>0.095545</td>\n",
       "    </tr>\n",
       "  </tbody>\n",
       "</table>\n",
       "</div><br><label><b>dtype:</b> float64</label>"
      ],
      "text/plain": [
       "newbalanceOrig    16.231710\n",
       "oldbalanceOrg     14.665469\n",
       "type_TRANSFER      4.406461\n",
       "type_PAYMENT       4.278711\n",
       "type_CASH_OUT      3.963638\n",
       "type_DEBIT         2.277373\n",
       "amount             1.845328\n",
       "step               0.504275\n",
       "oldbalanceDest     0.423710\n",
       "newbalanceDest     0.095545\n",
       "dtype: float64"
      ]
     },
     "metadata": {},
     "output_type": "display_data"
    },
    {
     "name": "stdout",
     "output_type": "stream",
     "text": [
      "\n",
      "Feature Importances (with original signs):\n"
     ]
    },
    {
     "data": {
      "text/html": [
       "<div>\n",
       "<style scoped>\n",
       "    .dataframe tbody tr th:only-of-type {\n",
       "        vertical-align: middle;\n",
       "    }\n",
       "\n",
       "    .dataframe tbody tr th {\n",
       "        vertical-align: top;\n",
       "    }\n",
       "\n",
       "    .dataframe thead th {\n",
       "        text-align: right;\n",
       "    }\n",
       "</style>\n",
       "<table border=\"1\" class=\"dataframe\">\n",
       "  <thead>\n",
       "    <tr style=\"text-align: right;\">\n",
       "      <th></th>\n",
       "      <th>0</th>\n",
       "    </tr>\n",
       "  </thead>\n",
       "  <tbody>\n",
       "    <tr>\n",
       "      <th>newbalanceOrig</th>\n",
       "      <td>-16.231710</td>\n",
       "    </tr>\n",
       "    <tr>\n",
       "      <th>oldbalanceOrg</th>\n",
       "      <td>14.665469</td>\n",
       "    </tr>\n",
       "    <tr>\n",
       "      <th>type_TRANSFER</th>\n",
       "      <td>4.406461</td>\n",
       "    </tr>\n",
       "    <tr>\n",
       "      <th>type_PAYMENT</th>\n",
       "      <td>-4.278711</td>\n",
       "    </tr>\n",
       "    <tr>\n",
       "      <th>type_CASH_OUT</th>\n",
       "      <td>3.963638</td>\n",
       "    </tr>\n",
       "    <tr>\n",
       "      <th>type_DEBIT</th>\n",
       "      <td>-2.277373</td>\n",
       "    </tr>\n",
       "    <tr>\n",
       "      <th>amount</th>\n",
       "      <td>-1.845328</td>\n",
       "    </tr>\n",
       "    <tr>\n",
       "      <th>step</th>\n",
       "      <td>-0.504275</td>\n",
       "    </tr>\n",
       "    <tr>\n",
       "      <th>oldbalanceDest</th>\n",
       "      <td>-0.423710</td>\n",
       "    </tr>\n",
       "    <tr>\n",
       "      <th>newbalanceDest</th>\n",
       "      <td>0.095545</td>\n",
       "    </tr>\n",
       "  </tbody>\n",
       "</table>\n",
       "</div><br><label><b>dtype:</b> float64</label>"
      ],
      "text/plain": [
       "newbalanceOrig   -16.231710\n",
       "oldbalanceOrg     14.665469\n",
       "type_TRANSFER      4.406461\n",
       "type_PAYMENT      -4.278711\n",
       "type_CASH_OUT      3.963638\n",
       "type_DEBIT        -2.277373\n",
       "amount            -1.845328\n",
       "step              -0.504275\n",
       "oldbalanceDest    -0.423710\n",
       "newbalanceDest     0.095545\n",
       "dtype: float64"
      ]
     },
     "metadata": {},
     "output_type": "display_data"
    }
   ],
   "source": [
    "# Access the coefficients of the trained Logistic Regression model\n",
    "coefficients = model.coef_[0]\n",
    "\n",
    "# Get the feature names from the training data\n",
    "feature_names = X_train.columns\n",
    "\n",
    "# Create a pandas Series to store feature names and coefficients\n",
    "feature_importance = pd.Series(coefficients, index=feature_names)\n",
    "\n",
    "# Sort and display feature importances based on the absolute value of the coefficients\n",
    "sorted_feature_importance = feature_importance.abs().sort_values(ascending=False)\n",
    "print(\"Sorted Feature Importances (Absolute Value of Coefficients):\")\n",
    "display(sorted_feature_importance)\n",
    "\n",
    "# Display the feature importances with their original signs\n",
    "print(\"\\nFeature Importances (with original signs):\")\n",
    "display(feature_importance.loc[sorted_feature_importance.index])"
   ]
  },
  {
   "cell_type": "markdown",
   "metadata": {
    "id": "457999bd"
   },
   "source": [
    "## Develop actionable plan\n",
    "\n",
    "### Subtask:\n",
    "Based on the model's insights and interpretation, propose an actionable plan to mitigate fraudulent transactions. This could involve suggesting rules, strategies, or further data collection.\n"
   ]
  },
  {
   "cell_type": "markdown",
   "metadata": {
    "id": "361e8127"
   },
   "source": [
    "**Reasoning**:\n",
    "Summarize the actionable plan based on the model's insights and evaluation metrics, linking actions to feature importance and model performance.\n",
    "\n"
   ]
  },
  {
   "cell_type": "code",
   "execution_count": 35,
   "metadata": {
    "colab": {
     "base_uri": "https://localhost:8080/"
    },
    "id": "6f25144e",
    "outputId": "8fbe4e1f-85f0-4af2-f64a-44d9124a6e5b"
   },
   "outputs": [
    {
     "name": "stdout",
     "output_type": "stream",
     "text": [
      "Actionable Plan to Mitigate Fraudulent Transactions based on Model Insights:\n",
      "\n",
      "1. Focus on Transactions with Significant Balance Changes and Specific Types:\n",
      "- Model Insight: 'newbalanceOrig' and 'oldbalanceOrg' have the largest absolute coefficients. 'type_TRANSFER' and 'type_CASH_OUT' are also important features.\n",
      "- Actionable Step: Implement real-time monitoring and stricter verification for 'TRANSFER' and 'CASH_OUT' transactions with high 'oldbalanceOrg' and low 'newbalanceOrig'.\n",
      "\n",
      "2. Investigate Transactions Flagged by the Model (Address Low Precision):\n",
      "- Model Insight: Model has high Recall but low Precision (many false positives).\n",
      "- Actionable Step: Route flagged transactions for secondary review or require additional verification.\n",
      "\n",
      "3. Consider Additional Data Collection and Feature Engineering:\n",
      "- Model Insight: Model performance suggests other factors may be relevant.\n",
      "- Actionable Step: Explore collecting user behavior patterns, device info, or location data, and engineer new features.\n",
      "\n",
      "4. Continuously Monitor and Retrain the Model:\n",
      "- Model Insight: Fraud tactics evolve.\n",
      "- Actionable Step: Regularly monitor performance and retrain model with updated data.\n"
     ]
    }
   ],
   "source": [
    "print(\"Actionable Plan to Mitigate Fraudulent Transactions based on Model Insights:\")\n",
    "print(\"\\n1. Focus on Transactions with Significant Balance Changes and Specific Types:\")\n",
    "print(\"- Model Insight: 'newbalanceOrig' and 'oldbalanceOrg' have the largest absolute coefficients. 'type_TRANSFER' and 'type_CASH_OUT' are also important features.\")\n",
    "print(\"- Actionable Step: Implement real-time monitoring and stricter verification for 'TRANSFER' and 'CASH_OUT' transactions with high 'oldbalanceOrg' and low 'newbalanceOrig'.\")\n",
    "\n",
    "print(\"\\n2. Investigate Transactions Flagged by the Model (Address Low Precision):\")\n",
    "print(\"- Model Insight: Model has high Recall but low Precision (many false positives).\")\n",
    "print(\"- Actionable Step: Route flagged transactions for secondary review or require additional verification.\")\n",
    "\n",
    "print(\"\\n3. Consider Additional Data Collection and Feature Engineering:\")\n",
    "print(\"- Model Insight: Model performance suggests other factors may be relevant.\")\n",
    "print(\"- Actionable Step: Explore collecting user behavior patterns, device info, or location data, and engineer new features.\")\n",
    "\n",
    "print(\"\\n4. Continuously Monitor and Retrain the Model:\")\n",
    "print(\"- Model Insight: Fraud tactics evolve.\")\n",
    "print(\"- Actionable Step: Regularly monitor performance and retrain model with updated data.\")"
   ]
  },
  {
   "cell_type": "markdown",
   "metadata": {
    "id": "5c00462a"
   },
   "source": [
    "## Summary\n",
    "\n",
    "### Subtask:\n",
    "Summarize the key findings from the data analysis and model results, and outline the next steps based on these insights.\n"
   ]
  },
  {
   "cell_type": "markdown",
   "metadata": {
    "id": "edd6cc98"
   },
   "source": [
    "**Reasoning**:\n",
    "Summarize the key findings from the data analysis and model results, and outline the next steps based on these insights.\n",
    "\n"
   ]
  },
  {
   "cell_type": "code",
   "execution_count": 36,
   "metadata": {
    "colab": {
     "base_uri": "https://localhost:8080/"
    },
    "id": "0ec261c6",
    "outputId": "f286943b-2f70-487c-ec0e-bd9fd813569b"
   },
   "outputs": [
    {
     "name": "stdout",
     "output_type": "stream",
     "text": [
      "## Summary:\n",
      "\n",
      "### Data Analysis Key Findings\n",
      "- The dataset contains transaction details including amount, account balances before and after transactions, transaction type, and flags for fraud.\n",
      "- There is a significant class imbalance, with only a small percentage of transactions being fraudulent.\n",
      "- Fraudulent transactions are primarily associated with 'CASH_OUT' and 'TRANSFER' transaction types and tend to involve higher amounts.\n",
      "- Features related to account balances, particularly `oldbalanceOrg` and `newbalanceOrig`, and transaction types like 'TRANSFER' and 'CASH_OUT', were identified as the most important predictors of fraud by the Logistic Regression model.\n",
      "- The trained Logistic Regression model achieved high Recall and AUC, indicating good ability to identify actual fraud, but had low Precision, suggesting a high rate of false positives.\n",
      "\n",
      "### Insights and Next Steps\n",
      "- Leverage the model's insights by focusing monitoring and verification efforts on 'TRANSFER' and 'CASH_OUT' transactions with significant changes in the original account balance, as these are identified as high-risk areas.\n",
      "- Given the low Precision, implement a system where transactions flagged as fraudulent are routed for secondary review or require additional verification steps rather than being automatically blocked, to minimize disruption to legitimate users.\n",
      "- Explore incorporating additional data sources or features, such as user behavior patterns or device information, to potentially improve model performance, especially in reducing false positives.\n",
      "- Continuously monitor the model's performance in a production environment and retrain it periodically with new data to adapt to evolving fraud patterns.\n"
     ]
    }
   ],
   "source": [
    "print(\"## Summary:\")\n",
    "\n",
    "print(\"\\n### Data Analysis Key Findings\")\n",
    "print(\"- The dataset contains transaction details including amount, account balances before and after transactions, transaction type, and flags for fraud.\")\n",
    "print(\"- There is a significant class imbalance, with only a small percentage of transactions being fraudulent.\")\n",
    "print(\"- Fraudulent transactions are primarily associated with 'CASH_OUT' and 'TRANSFER' transaction types and tend to involve higher amounts.\")\n",
    "print(\"- Features related to account balances, particularly `oldbalanceOrg` and `newbalanceOrig`, and transaction types like 'TRANSFER' and 'CASH_OUT', were identified as the most important predictors of fraud by the Logistic Regression model.\")\n",
    "print(\"- The trained Logistic Regression model achieved high Recall and AUC, indicating good ability to identify actual fraud, but had low Precision, suggesting a high rate of false positives.\")\n",
    "\n",
    "print(\"\\n### Insights and Next Steps\")\n",
    "print(\"- Leverage the model's insights by focusing monitoring and verification efforts on 'TRANSFER' and 'CASH_OUT' transactions with significant changes in the original account balance, as these are identified as high-risk areas.\")\n",
    "print(\"- Given the low Precision, implement a system where transactions flagged as fraudulent are routed for secondary review or require additional verification steps rather than being automatically blocked, to minimize disruption to legitimate users.\")\n",
    "print(\"- Explore incorporating additional data sources or features, such as user behavior patterns or device information, to potentially improve model performance, especially in reducing false positives.\")\n",
    "print(\"- Continuously monitor the model's performance in a production environment and retrain it periodically with new data to adapt to evolving fraud patterns.\")"
   ]
  },
  {
   "cell_type": "markdown",
   "metadata": {
    "id": "8a088b1c"
   },
   "source": [
    "## Summary:\n",
    "\n",
    "### Data Analysis Key Findings\n",
    "\n",
    "*   The dataset exhibits a significant class imbalance, with a small percentage of transactions being fraudulent.\n",
    "*   Fraudulent transactions are primarily associated with 'CASH\\_OUT' and 'TRANSFER' types and involve higher amounts.\n",
    "*   The Logistic Regression model identified account balances (`oldbalanceOrg`, `newbalanceOrig`) and transaction types ('TRANSFER', 'CASH\\_OUT') as the most important features for predicting fraud.\n",
    "*   The model achieved high Recall (1.0000) and AUC (0.9809) but low Precision (0.0412), indicating good detection of actual fraud but a high rate of false positives.\n",
    "\n",
    "### Insights or Next Steps\n",
    "\n",
    "*   Implement targeted monitoring and verification for 'TRANSFER' and 'CASH\\_OUT' transactions with significant original account balance changes.\n",
    "*   Employ a secondary review or verification process for transactions flagged as fraudulent to mitigate the impact of low precision and reduce false positives.\n",
    "*   Continuously monitor the model's performance and retrain it with new data to adapt to evolving fraud tactics.\n"
   ]
  }
 ],
 "metadata": {
  "colab": {
   "provenance": []
  },
  "kernelspec": {
   "display_name": "Python 3 (ipykernel)",
   "language": "python",
   "name": "python3"
  },
  "language_info": {
   "codemirror_mode": {
    "name": "ipython",
    "version": 3
   },
   "file_extension": ".py",
   "mimetype": "text/x-python",
   "name": "python",
   "nbconvert_exporter": "python",
   "pygments_lexer": "ipython3",
   "version": "3.11.7"
  }
 },
 "nbformat": 4,
 "nbformat_minor": 4
}
